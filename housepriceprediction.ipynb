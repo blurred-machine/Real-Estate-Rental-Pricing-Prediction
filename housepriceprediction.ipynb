{
 "cells": [
  {
   "cell_type": "markdown",
   "metadata": {},
   "source": [
    "# house price prediction"
   ]
  },
  {
   "cell_type": "code",
   "execution_count": 1,
   "metadata": {},
   "outputs": [],
   "source": [
    "import pandas as pd\n",
    "import numpy as np\n",
    "import matplotlib.pyplot as plt\n",
    "%matplotlib inline\n",
    "import seaborn as sns\n",
    "\n",
    "from sklearn.externals import joblib \n",
    "from tqdm import tqdm\n",
    "\n",
    "import warnings\n",
    "warnings.filterwarnings(\"ignore\")\n",
    "\n",
    "\n",
    "from sklearn.preprocessing import LabelEncoder, OneHotEncoder\n",
    "from sklearn.compose import ColumnTransformer\n",
    "from sklearn.preprocessing import Normalizer\n",
    "\n",
    "import scipy.stats as stats\n",
    "from scipy.stats import norm ,rankdata\n",
    "\n",
    "from scipy.special import boxcox1p\n",
    "from scipy.stats import normaltest\n",
    "import statsmodels\n",
    "import statsmodels.api as sm\n",
    "from scipy.optimize import curve_fit\n",
    "\n",
    "import tensorflow as tf\n",
    "from tensorflow.keras.models import Sequential\n",
    "from tensorflow.keras.layers import Dense, Dropout\n",
    "from tensorflow.keras.wrappers.scikit_learn import KerasClassifier\n",
    "from tensorflow.keras.layers import LSTM\n",
    "\n",
    "\n",
    "from sklearn.model_selection import cross_val_score\n",
    "from sklearn.model_selection import GridSearchCV\n",
    "from sklearn.preprocessing import StandardScaler\n",
    "from sklearn.metrics import confusion_matrix\n",
    "from sklearn.preprocessing import PowerTransformer\n",
    "\n",
    "from sklearn.cluster import KMeans\n",
    "from sklearn.neighbors import KNeighborsClassifier\n",
    "from sklearn.svm import SVC\n",
    "from sklearn.multioutput import MultiOutputClassifier\n",
    "from sklearn.ensemble import GradientBoostingClassifier\n",
    "from sklearn.tree import DecisionTreeClassifier\n",
    "from sklearn.naive_bayes import GaussianNB\n",
    "from sklearn.ensemble import RandomForestClassifier\n",
    "from sklearn.linear_model import LogisticRegression\n",
    "from sklearn.model_selection import KFold, cross_val_score, train_test_split\n",
    "from sklearn.metrics import classification_report,confusion_matrix\n",
    "import xgboost as xgb"
   ]
  },
  {
   "cell_type": "code",
   "execution_count": 2,
   "metadata": {},
   "outputs": [
    {
     "data": {
      "text/html": [
       "<div>\n",
       "<style scoped>\n",
       "    .dataframe tbody tr th:only-of-type {\n",
       "        vertical-align: middle;\n",
       "    }\n",
       "\n",
       "    .dataframe tbody tr th {\n",
       "        vertical-align: top;\n",
       "    }\n",
       "\n",
       "    .dataframe thead th {\n",
       "        text-align: right;\n",
       "    }\n",
       "</style>\n",
       "<table border=\"1\" class=\"dataframe\">\n",
       "  <thead>\n",
       "    <tr style=\"text-align: right;\">\n",
       "      <th></th>\n",
       "      <th>id</th>\n",
       "      <th>url</th>\n",
       "      <th>region</th>\n",
       "      <th>region_url</th>\n",
       "      <th>price</th>\n",
       "      <th>type</th>\n",
       "      <th>sqfeet</th>\n",
       "      <th>beds</th>\n",
       "      <th>baths</th>\n",
       "      <th>cats_allowed</th>\n",
       "      <th>...</th>\n",
       "      <th>wheelchair_access</th>\n",
       "      <th>electric_vehicle_charge</th>\n",
       "      <th>comes_furnished</th>\n",
       "      <th>laundry_options</th>\n",
       "      <th>parking_options</th>\n",
       "      <th>image_url</th>\n",
       "      <th>description</th>\n",
       "      <th>lat</th>\n",
       "      <th>long</th>\n",
       "      <th>state</th>\n",
       "    </tr>\n",
       "  </thead>\n",
       "  <tbody>\n",
       "    <tr>\n",
       "      <th>0</th>\n",
       "      <td>7039061606</td>\n",
       "      <td>https://bham.craigslist.org/apa/d/birmingham-h...</td>\n",
       "      <td>birmingham</td>\n",
       "      <td>https://bham.craigslist.org</td>\n",
       "      <td>1195</td>\n",
       "      <td>apartment</td>\n",
       "      <td>1908</td>\n",
       "      <td>3</td>\n",
       "      <td>2.0</td>\n",
       "      <td>1</td>\n",
       "      <td>...</td>\n",
       "      <td>0</td>\n",
       "      <td>0</td>\n",
       "      <td>0</td>\n",
       "      <td>laundry on site</td>\n",
       "      <td>street parking</td>\n",
       "      <td>https://images.craigslist.org/00L0L_80pNkyDeG0...</td>\n",
       "      <td>Apartments In Birmingham AL Welcome to 100 Inv...</td>\n",
       "      <td>33.4226</td>\n",
       "      <td>-86.7065</td>\n",
       "      <td>al</td>\n",
       "    </tr>\n",
       "  </tbody>\n",
       "</table>\n",
       "<p>1 rows × 22 columns</p>\n",
       "</div>"
      ],
      "text/plain": [
       "           id                                                url      region  \\\n",
       "0  7039061606  https://bham.craigslist.org/apa/d/birmingham-h...  birmingham   \n",
       "\n",
       "                    region_url  price       type  sqfeet  beds  baths  \\\n",
       "0  https://bham.craigslist.org   1195  apartment    1908     3    2.0   \n",
       "\n",
       "   cats_allowed  ...  wheelchair_access  electric_vehicle_charge  \\\n",
       "0             1  ...                  0                        0   \n",
       "\n",
       "   comes_furnished  laundry_options  parking_options  \\\n",
       "0                0  laundry on site   street parking   \n",
       "\n",
       "                                           image_url  \\\n",
       "0  https://images.craigslist.org/00L0L_80pNkyDeG0...   \n",
       "\n",
       "                                         description      lat     long  state  \n",
       "0  Apartments In Birmingham AL Welcome to 100 Inv...  33.4226 -86.7065     al  \n",
       "\n",
       "[1 rows x 22 columns]"
      ]
     },
     "execution_count": 2,
     "metadata": {},
     "output_type": "execute_result"
    }
   ],
   "source": [
    "df = pd.read_csv(\"housing_train.csv\")\n",
    "df.head(1)"
   ]
  },
  {
   "cell_type": "code",
   "execution_count": 3,
   "metadata": {},
   "outputs": [
    {
     "name": "stdout",
     "output_type": "stream",
     "text": [
      "Data Shape: (265190, 22)\n",
      "\n",
      "Columns: Index(['id', 'url', 'region', 'region_url', 'price', 'type', 'sqfeet', 'beds',\n",
      "       'baths', 'cats_allowed', 'dogs_allowed', 'smoking_allowed',\n",
      "       'wheelchair_access', 'electric_vehicle_charge', 'comes_furnished',\n",
      "       'laundry_options', 'parking_options', 'image_url', 'description', 'lat',\n",
      "       'long', 'state'],\n",
      "      dtype='object')\n",
      "\n",
      "<class 'pandas.core.frame.DataFrame'>\n",
      "RangeIndex: 265190 entries, 0 to 265189\n",
      "Data columns (total 22 columns):\n",
      "id                         265190 non-null int64\n",
      "url                        265190 non-null object\n",
      "region                     265190 non-null object\n",
      "region_url                 265190 non-null object\n",
      "price                      265190 non-null int64\n",
      "type                       265190 non-null object\n",
      "sqfeet                     265190 non-null int64\n",
      "beds                       265190 non-null int64\n",
      "baths                      265190 non-null float64\n",
      "cats_allowed               265190 non-null int64\n",
      "dogs_allowed               265190 non-null int64\n",
      "smoking_allowed            265190 non-null int64\n",
      "wheelchair_access          265190 non-null int64\n",
      "electric_vehicle_charge    265190 non-null int64\n",
      "comes_furnished            265190 non-null int64\n",
      "laundry_options            210879 non-null object\n",
      "parking_options            170055 non-null object\n",
      "image_url                  265190 non-null object\n",
      "description                265188 non-null object\n",
      "lat                        263771 non-null float64\n",
      "long                       263771 non-null float64\n",
      "state                      265189 non-null object\n",
      "dtypes: float64(3), int64(10), object(9)\n",
      "memory usage: 44.5+ MB\n",
      "None\n",
      "\n"
     ]
    },
    {
     "data": {
      "text/html": [
       "<div>\n",
       "<style scoped>\n",
       "    .dataframe tbody tr th:only-of-type {\n",
       "        vertical-align: middle;\n",
       "    }\n",
       "\n",
       "    .dataframe tbody tr th {\n",
       "        vertical-align: top;\n",
       "    }\n",
       "\n",
       "    .dataframe thead th {\n",
       "        text-align: right;\n",
       "    }\n",
       "</style>\n",
       "<table border=\"1\" class=\"dataframe\">\n",
       "  <thead>\n",
       "    <tr style=\"text-align: right;\">\n",
       "      <th></th>\n",
       "      <th>id</th>\n",
       "      <th>price</th>\n",
       "      <th>sqfeet</th>\n",
       "      <th>beds</th>\n",
       "      <th>baths</th>\n",
       "      <th>cats_allowed</th>\n",
       "      <th>dogs_allowed</th>\n",
       "      <th>smoking_allowed</th>\n",
       "      <th>wheelchair_access</th>\n",
       "      <th>electric_vehicle_charge</th>\n",
       "      <th>comes_furnished</th>\n",
       "      <th>lat</th>\n",
       "      <th>long</th>\n",
       "    </tr>\n",
       "  </thead>\n",
       "  <tbody>\n",
       "    <tr>\n",
       "      <th>count</th>\n",
       "      <td>2.651900e+05</td>\n",
       "      <td>2.651900e+05</td>\n",
       "      <td>2.651900e+05</td>\n",
       "      <td>265190.000000</td>\n",
       "      <td>265190.000000</td>\n",
       "      <td>265190.000000</td>\n",
       "      <td>265190.000000</td>\n",
       "      <td>265190.000000</td>\n",
       "      <td>265190.000000</td>\n",
       "      <td>265190.000000</td>\n",
       "      <td>265190.000000</td>\n",
       "      <td>263771.000000</td>\n",
       "      <td>263771.000000</td>\n",
       "    </tr>\n",
       "    <tr>\n",
       "      <th>mean</th>\n",
       "      <td>7.040888e+09</td>\n",
       "      <td>1.227285e+04</td>\n",
       "      <td>1.093678e+03</td>\n",
       "      <td>1.912414</td>\n",
       "      <td>1.483468</td>\n",
       "      <td>0.716822</td>\n",
       "      <td>0.696550</td>\n",
       "      <td>0.733896</td>\n",
       "      <td>0.078759</td>\n",
       "      <td>0.014360</td>\n",
       "      <td>0.048644</td>\n",
       "      <td>37.208855</td>\n",
       "      <td>-92.398149</td>\n",
       "    </tr>\n",
       "    <tr>\n",
       "      <th>std</th>\n",
       "      <td>8.778930e+06</td>\n",
       "      <td>5.376352e+06</td>\n",
       "      <td>2.306888e+04</td>\n",
       "      <td>3.691900</td>\n",
       "      <td>0.630208</td>\n",
       "      <td>0.450543</td>\n",
       "      <td>0.459749</td>\n",
       "      <td>0.441920</td>\n",
       "      <td>0.269362</td>\n",
       "      <td>0.118968</td>\n",
       "      <td>0.215124</td>\n",
       "      <td>5.659648</td>\n",
       "      <td>17.370780</td>\n",
       "    </tr>\n",
       "    <tr>\n",
       "      <th>min</th>\n",
       "      <td>7.003808e+09</td>\n",
       "      <td>0.000000e+00</td>\n",
       "      <td>0.000000e+00</td>\n",
       "      <td>0.000000</td>\n",
       "      <td>0.000000</td>\n",
       "      <td>0.000000</td>\n",
       "      <td>0.000000</td>\n",
       "      <td>0.000000</td>\n",
       "      <td>0.000000</td>\n",
       "      <td>0.000000</td>\n",
       "      <td>0.000000</td>\n",
       "      <td>-43.533300</td>\n",
       "      <td>-163.894000</td>\n",
       "    </tr>\n",
       "    <tr>\n",
       "      <th>25%</th>\n",
       "      <td>7.035963e+09</td>\n",
       "      <td>8.170000e+02</td>\n",
       "      <td>7.520000e+02</td>\n",
       "      <td>1.000000</td>\n",
       "      <td>1.000000</td>\n",
       "      <td>0.000000</td>\n",
       "      <td>0.000000</td>\n",
       "      <td>0.000000</td>\n",
       "      <td>0.000000</td>\n",
       "      <td>0.000000</td>\n",
       "      <td>0.000000</td>\n",
       "      <td>33.508500</td>\n",
       "      <td>-104.704000</td>\n",
       "    </tr>\n",
       "    <tr>\n",
       "      <th>50%</th>\n",
       "      <td>7.043109e+09</td>\n",
       "      <td>1.060000e+03</td>\n",
       "      <td>9.500000e+02</td>\n",
       "      <td>2.000000</td>\n",
       "      <td>1.000000</td>\n",
       "      <td>1.000000</td>\n",
       "      <td>1.000000</td>\n",
       "      <td>1.000000</td>\n",
       "      <td>0.000000</td>\n",
       "      <td>0.000000</td>\n",
       "      <td>0.000000</td>\n",
       "      <td>37.984900</td>\n",
       "      <td>-86.478300</td>\n",
       "    </tr>\n",
       "    <tr>\n",
       "      <th>75%</th>\n",
       "      <td>7.048362e+09</td>\n",
       "      <td>1.450000e+03</td>\n",
       "      <td>1.156000e+03</td>\n",
       "      <td>2.000000</td>\n",
       "      <td>2.000000</td>\n",
       "      <td>1.000000</td>\n",
       "      <td>1.000000</td>\n",
       "      <td>1.000000</td>\n",
       "      <td>0.000000</td>\n",
       "      <td>0.000000</td>\n",
       "      <td>0.000000</td>\n",
       "      <td>41.168400</td>\n",
       "      <td>-81.284600</td>\n",
       "    </tr>\n",
       "    <tr>\n",
       "      <th>max</th>\n",
       "      <td>7.051263e+09</td>\n",
       "      <td>2.768307e+09</td>\n",
       "      <td>8.388607e+06</td>\n",
       "      <td>1100.000000</td>\n",
       "      <td>75.000000</td>\n",
       "      <td>1.000000</td>\n",
       "      <td>1.000000</td>\n",
       "      <td>1.000000</td>\n",
       "      <td>1.000000</td>\n",
       "      <td>1.000000</td>\n",
       "      <td>1.000000</td>\n",
       "      <td>102.036000</td>\n",
       "      <td>172.633000</td>\n",
       "    </tr>\n",
       "  </tbody>\n",
       "</table>\n",
       "</div>"
      ],
      "text/plain": [
       "                 id         price        sqfeet           beds          baths  \\\n",
       "count  2.651900e+05  2.651900e+05  2.651900e+05  265190.000000  265190.000000   \n",
       "mean   7.040888e+09  1.227285e+04  1.093678e+03       1.912414       1.483468   \n",
       "std    8.778930e+06  5.376352e+06  2.306888e+04       3.691900       0.630208   \n",
       "min    7.003808e+09  0.000000e+00  0.000000e+00       0.000000       0.000000   \n",
       "25%    7.035963e+09  8.170000e+02  7.520000e+02       1.000000       1.000000   \n",
       "50%    7.043109e+09  1.060000e+03  9.500000e+02       2.000000       1.000000   \n",
       "75%    7.048362e+09  1.450000e+03  1.156000e+03       2.000000       2.000000   \n",
       "max    7.051263e+09  2.768307e+09  8.388607e+06    1100.000000      75.000000   \n",
       "\n",
       "        cats_allowed   dogs_allowed  smoking_allowed  wheelchair_access  \\\n",
       "count  265190.000000  265190.000000    265190.000000      265190.000000   \n",
       "mean        0.716822       0.696550         0.733896           0.078759   \n",
       "std         0.450543       0.459749         0.441920           0.269362   \n",
       "min         0.000000       0.000000         0.000000           0.000000   \n",
       "25%         0.000000       0.000000         0.000000           0.000000   \n",
       "50%         1.000000       1.000000         1.000000           0.000000   \n",
       "75%         1.000000       1.000000         1.000000           0.000000   \n",
       "max         1.000000       1.000000         1.000000           1.000000   \n",
       "\n",
       "       electric_vehicle_charge  comes_furnished            lat           long  \n",
       "count            265190.000000    265190.000000  263771.000000  263771.000000  \n",
       "mean                  0.014360         0.048644      37.208855     -92.398149  \n",
       "std                   0.118968         0.215124       5.659648      17.370780  \n",
       "min                   0.000000         0.000000     -43.533300    -163.894000  \n",
       "25%                   0.000000         0.000000      33.508500    -104.704000  \n",
       "50%                   0.000000         0.000000      37.984900     -86.478300  \n",
       "75%                   0.000000         0.000000      41.168400     -81.284600  \n",
       "max                   1.000000         1.000000     102.036000     172.633000  "
      ]
     },
     "execution_count": 3,
     "metadata": {},
     "output_type": "execute_result"
    }
   ],
   "source": [
    "print(\"Data Shape: \"+str(df.shape))\n",
    "print()\n",
    "print(\"Columns: \"+str(df.columns))\n",
    "print()\n",
    "print(df.info())\n",
    "print()\n",
    "df.describe()"
   ]
  },
  {
   "cell_type": "markdown",
   "metadata": {},
   "source": [
    "## 1) Data Cleaning"
   ]
  },
  {
   "cell_type": "markdown",
   "metadata": {},
   "source": [
    "My plan for data preparation: \n",
    " - drop duplicated rows if any.\n",
    " - remove outliers\n",
    " - filling missing values"
   ]
  },
  {
   "cell_type": "markdown",
   "metadata": {},
   "source": [
    "### a. Drop duplicates"
   ]
  },
  {
   "cell_type": "code",
   "execution_count": 4,
   "metadata": {},
   "outputs": [
    {
     "name": "stdout",
     "output_type": "stream",
     "text": [
      "0\n"
     ]
    }
   ],
   "source": [
    "print(df.duplicated().sum())\n",
    "df.drop_duplicates(inplace=True)"
   ]
  },
  {
   "cell_type": "markdown",
   "metadata": {},
   "source": [
    "### b. Removing Outliers"
   ]
  },
  {
   "cell_type": "markdown",
   "metadata": {},
   "source": [
    "#### price and sqfeet outlier removal"
   ]
  },
  {
   "cell_type": "code",
   "execution_count": 5,
   "metadata": {},
   "outputs": [],
   "source": [
    "def feature_outlier_removal(data, feature, min_q, max_q):\n",
    "    feature_min_outlier_mask = data[feature] > data[feature].quantile(min_q)\n",
    "    feature_max_outlier_mask = data[feature] < data[feature].quantile(max_q)\n",
    "    data = data[(feature_min_outlier_mask) & (feature_max_outlier_mask)]\n",
    "    print(feature, \"min: \", min(data[feature]))\n",
    "    print(feature, \"max: \", max(data[feature]))\n",
    "    return data\n",
    "\n",
    "def numerical_outlier_removal(data):\n",
    "    data = feature_outlier_removal(data, \"price\", 0.01, 0.999)\n",
    "    data = feature_outlier_removal(data, \"sqfeet\", 0.002, 0.999)\n",
    "    return data"
   ]
  },
  {
   "cell_type": "code",
   "execution_count": 6,
   "metadata": {},
   "outputs": [
    {
     "name": "stdout",
     "output_type": "stream",
     "text": [
      "price min:  326\n",
      "price max:  7700\n",
      "sqfeet min:  54\n",
      "sqfeet max:  4005\n",
      "\n",
      "Outliers Removed : 3760\n",
      "Data Shape:  261430\n"
     ]
    }
   ],
   "source": [
    "raw_df = numerical_outlier_removal(df)\n",
    "print(\"\\nOutliers Removed :\", df.shape[0] - raw_df.shape[0])\n",
    "print(\"Data Shape: \", raw_df.shape[0])"
   ]
  },
  {
   "cell_type": "markdown",
   "metadata": {},
   "source": [
    "#### beds and baths outlier removal"
   ]
  },
  {
   "cell_type": "code",
   "execution_count": 7,
   "metadata": {},
   "outputs": [
    {
     "name": "stdout",
     "output_type": "stream",
     "text": [
      "Data Shape:  260159\n"
     ]
    }
   ],
   "source": [
    "raw_df = raw_df[raw_df['beds'] <= 6] \n",
    "raw_df = raw_df[raw_df['baths'] <= 3.5] \n",
    "\n",
    "print(\"Data Shape: \", raw_df.shape[0])"
   ]
  },
  {
   "cell_type": "markdown",
   "metadata": {},
   "source": [
    "#### type outlier removal"
   ]
  },
  {
   "cell_type": "code",
   "execution_count": 8,
   "metadata": {},
   "outputs": [
    {
     "data": {
      "text/plain": [
       "apartment         True\n",
       "house             True\n",
       "townhouse         True\n",
       "condo             True\n",
       "duplex            True\n",
       "manufactured      True\n",
       "cottage/cabin     True\n",
       "loft              True\n",
       "flat              True\n",
       "in-law            True\n",
       "land             False\n",
       "Name: type, dtype: bool"
      ]
     },
     "execution_count": 8,
     "metadata": {},
     "output_type": "execute_result"
    }
   ],
   "source": [
    "raw_df['type'].value_counts() >= 100 "
   ]
  },
  {
   "cell_type": "code",
   "execution_count": 9,
   "metadata": {},
   "outputs": [
    {
     "data": {
      "text/plain": [
       "apartment        214414\n",
       "house             22899\n",
       "townhouse         10182\n",
       "condo              4766\n",
       "duplex             3406\n",
       "manufactured       2937\n",
       "cottage/cabin       561\n",
       "loft                507\n",
       "flat                344\n",
       "in-law              140\n",
       "land                  3\n",
       "Name: type, dtype: int64"
      ]
     },
     "execution_count": 9,
     "metadata": {},
     "output_type": "execute_result"
    }
   ],
   "source": [
    "raw_df['type'].value_counts()"
   ]
  },
  {
   "cell_type": "markdown",
   "metadata": {},
   "source": [
    "#### lat and long outlier removal"
   ]
  },
  {
   "cell_type": "markdown",
   "metadata": {},
   "source": [
    "The valid range of latitude in degrees is -90 and +90 for the southern and northern hemisphere respectively. Longitude is in the range -180 and +180 specifying coordinates west and east of the Prime Meridian, respectively. But here we are dealing wiht US data, so, Lat-long coorditates for cities in United States are in range: Latitude from 19.50139 to 64.85694 and longitude from -161.75583 to -68.01197."
   ]
  },
  {
   "cell_type": "code",
   "execution_count": 10,
   "metadata": {},
   "outputs": [
    {
     "name": "stdout",
     "output_type": "stream",
     "text": [
      "lat min:  19.5295\n",
      "lat max:  64.8569\n",
      "long min:  -159.53\n",
      "long max:  -68.2071\n",
      "Data Shape:  258420\n"
     ]
    }
   ],
   "source": [
    "lat_min_mask = raw_df['lat'] >= 19.50139\n",
    "lat_max_mask = raw_df['lat'] <= 64.85694\n",
    "raw_df = raw_df[(lat_min_mask) & (lat_max_mask)]\n",
    "\n",
    "long_min_mask = raw_df['long'] >= -161.75583\n",
    "long_max_mask = raw_df['long'] <= -68.01197\n",
    "raw_df = raw_df[(long_min_mask) & (long_max_mask)]\n",
    "\n",
    "print(\"lat min: \", min(raw_df.lat))\n",
    "print(\"lat max: \", max(raw_df.lat))\n",
    "print(\"long min: \", min(raw_df.long))\n",
    "print(\"long max: \", max(raw_df.long))\n",
    "print(\"Data Shape: \", raw_df.shape[0])"
   ]
  },
  {
   "cell_type": "code",
   "execution_count": 11,
   "metadata": {},
   "outputs": [],
   "source": [
    "def Lat_long_outlier_removal(data):\n",
    "    data = feature_outlier_removal(data, \"lat\", 0.01, 0.999)\n",
    "    data = feature_outlier_removal(data, \"long\", 0.01, 0.999)\n",
    "    return data"
   ]
  },
  {
   "cell_type": "code",
   "execution_count": 12,
   "metadata": {},
   "outputs": [
    {
     "name": "stdout",
     "output_type": "stream",
     "text": [
      "lat min:  25.7805\n",
      "lat max:  61.601000000000006\n",
      "long min:  -122.404\n",
      "long max:  -70.2628\n",
      "\n",
      "Outliers Removed : 5651\n",
      "Data Shape:  252769\n"
     ]
    }
   ],
   "source": [
    "lat_long_df = Lat_long_outlier_removal(raw_df)\n",
    "print(\"\\nOutliers Removed :\", raw_df.shape[0] - lat_long_df.shape[0])\n",
    "print(\"Data Shape: \", lat_long_df.shape[0])"
   ]
  },
  {
   "cell_type": "markdown",
   "metadata": {},
   "source": [
    "### c. Filling missing values"
   ]
  },
  {
   "cell_type": "code",
   "execution_count": 13,
   "metadata": {},
   "outputs": [
    {
     "name": "stdout",
     "output_type": "stream",
     "text": [
      "laundry_options    53174\n",
      "parking_options    92535\n",
      "description            2\n",
      "dtype: int64\n"
     ]
    },
    {
     "data": {
      "image/png": "[encoded data removed]",
      "text/plain": [
       "<Figure size 432x288 with 1 Axes>"
      ]
     },
     "metadata": {
      "needs_background": "light"
     },
     "output_type": "display_data"
    }
   ],
   "source": [
    "missing = raw_df.isnull().sum()\n",
    "missing = missing[missing > 0]\n",
    "print(missing)\n",
    "missing.sort_values(inplace=True)\n",
    "try:\n",
    "    missing.plot.bar()\n",
    "except:\n",
    "    pass"
   ]
  },
  {
   "cell_type": "markdown",
   "metadata": {},
   "source": [
    "#### work on Laundry Options: Model based imputation (filling missing values)"
   ]
  },
  {
   "cell_type": "code",
   "execution_count": 14,
   "metadata": {},
   "outputs": [
    {
     "name": "stdout",
     "output_type": "stream",
     "text": [
      "w/d in unit           88578\n",
      "w/d hookups           49280\n",
      "laundry on site       37922\n",
      "laundry in bldg       27025\n",
      "no laundry on site     2441\n",
      "Name: laundry_options, dtype: int64\n",
      "53174\n"
     ]
    }
   ],
   "source": [
    "#before imputation\n",
    "print(raw_df[\"laundry_options\"].value_counts())\n",
    "print(raw_df[\"laundry_options\"].isna().sum())"
   ]
  },
  {
   "cell_type": "code",
   "execution_count": 15,
   "metadata": {},
   "outputs": [
    {
     "name": "stdout",
     "output_type": "stream",
     "text": [
      "['w/d in unit' 'w/d hookups' 'w/d hookups' ... 'laundry in bldg'\n",
      " 'laundry on site' 'w/d in unit']\n",
      "53174\n"
     ]
    }
   ],
   "source": [
    "from sklearn.neighbors import KNeighborsClassifier\n",
    "decide_cols = [\"beds\", \"baths\", \"cats_allowed\", \"dogs_allowed\", \n",
    "               \"smoking_allowed\", \"wheelchair_access\", \"electric_vehicle_charge\",\n",
    "               \"comes_furnished\", \"price\" ]\n",
    "\n",
    "X_train = raw_df[decide_cols][raw_df[\"laundry_options\"].isna()==False]\n",
    "y_train = raw_df[\"laundry_options\"][raw_df[\"laundry_options\"].isna()==False]\n",
    "X_test = raw_df[decide_cols][raw_df[\"laundry_options\"].isna()==True]\n",
    " \n",
    "neigh = KNeighborsClassifier(n_neighbors=5)\n",
    "neigh.fit(X_train, y_train)\n",
    "laundry_pred = neigh.predict(X_test)\n",
    "print(laundry_pred)\n",
    "print(laundry_pred.size)\n",
    "\n",
    "# filling missing values\n",
    "raw_df[\"laundry_options\"][raw_df[\"laundry_options\"].isna()==True] = laundry_pred"
   ]
  },
  {
   "cell_type": "code",
   "execution_count": 16,
   "metadata": {},
   "outputs": [
    {
     "name": "stdout",
     "output_type": "stream",
     "text": [
      "w/d in unit           109670\n",
      "w/d hookups            63410\n",
      "laundry on site        48624\n",
      "laundry in bldg        34049\n",
      "no laundry on site      2667\n",
      "Name: laundry_options, dtype: int64\n",
      "0\n"
     ]
    }
   ],
   "source": [
    "#after imputation\n",
    "print(raw_df[\"laundry_options\"].value_counts())\n",
    "print(raw_df[\"laundry_options\"].isna().sum())"
   ]
  },
  {
   "cell_type": "markdown",
   "metadata": {},
   "source": [
    "#### work on Parking Options: Model based imputation (filling missing values)"
   ]
  },
  {
   "cell_type": "code",
   "execution_count": 17,
   "metadata": {},
   "outputs": [
    {
     "name": "stdout",
     "output_type": "stream",
     "text": [
      "off-street parking    86067\n",
      "carport               28073\n",
      "attached garage       26662\n",
      "detached garage       12648\n",
      "street parking        10381\n",
      "no parking             1934\n",
      "valet parking           120\n",
      "Name: parking_options, dtype: int64\n",
      "92535\n"
     ]
    }
   ],
   "source": [
    "#before imputation\n",
    "print(raw_df[\"parking_options\"].value_counts())\n",
    "print(raw_df[\"parking_options\"].isna().sum())"
   ]
  },
  {
   "cell_type": "code",
   "execution_count": 18,
   "metadata": {},
   "outputs": [
    {
     "name": "stdout",
     "output_type": "stream",
     "text": [
      "['off-street parking' 'attached garage' 'off-street parking' ... 'carport'\n",
      " 'off-street parking' 'attached garage']\n",
      "92535\n"
     ]
    }
   ],
   "source": [
    "from sklearn.neighbors import KNeighborsClassifier\n",
    "decide_cols = [\"beds\", \"baths\", \"cats_allowed\", \"dogs_allowed\", \n",
    "               \"smoking_allowed\", \"wheelchair_access\", \"electric_vehicle_charge\",\n",
    "               \"comes_furnished\", \"price\" ]\n",
    "\n",
    "X_train = raw_df[decide_cols][raw_df[\"parking_options\"].isna()==False]\n",
    "y_train = raw_df[\"parking_options\"][raw_df[\"parking_options\"].isna()==False]\n",
    "X_test = raw_df[decide_cols][raw_df[\"parking_options\"].isna()==True]\n",
    " \n",
    "neigh = KNeighborsClassifier(n_neighbors=7)\n",
    "neigh.fit(X_train, y_train)\n",
    "laundry_pred = neigh.predict(X_test)\n",
    "print(laundry_pred)\n",
    "print(laundry_pred.size)\n",
    "\n",
    "# filling missing values\n",
    "raw_df[\"parking_options\"][raw_df[\"parking_options\"].isna()==True] = laundry_pred"
   ]
  },
  {
   "cell_type": "code",
   "execution_count": 19,
   "metadata": {},
   "outputs": [
    {
     "name": "stdout",
     "output_type": "stream",
     "text": [
      "off-street parking    141128\n",
      "carport                44725\n",
      "attached garage        39685\n",
      "detached garage        16452\n",
      "street parking         13581\n",
      "no parking              2722\n",
      "valet parking            127\n",
      "Name: parking_options, dtype: int64\n",
      "0\n"
     ]
    }
   ],
   "source": [
    "#after imputation\n",
    "print(raw_df[\"parking_options\"].value_counts())\n",
    "print(raw_df[\"parking_options\"].isna().sum())"
   ]
  },
  {
   "cell_type": "markdown",
   "metadata": {},
   "source": [
    "#### removing remaining empty features"
   ]
  },
  {
   "cell_type": "code",
   "execution_count": 20,
   "metadata": {},
   "outputs": [
    {
     "name": "stdout",
     "output_type": "stream",
     "text": [
      "id                         0\n",
      "url                        0\n",
      "region                     0\n",
      "region_url                 0\n",
      "price                      0\n",
      "type                       0\n",
      "sqfeet                     0\n",
      "beds                       0\n",
      "baths                      0\n",
      "cats_allowed               0\n",
      "dogs_allowed               0\n",
      "smoking_allowed            0\n",
      "wheelchair_access          0\n",
      "electric_vehicle_charge    0\n",
      "comes_furnished            0\n",
      "laundry_options            0\n",
      "parking_options            0\n",
      "image_url                  0\n",
      "description                2\n",
      "lat                        0\n",
      "long                       0\n",
      "state                      0\n",
      "dtype: int64\n"
     ]
    }
   ],
   "source": [
    "print(raw_df.isnull().sum())\n",
    "raw_df.dropna(inplace=True)"
   ]
  },
  {
   "cell_type": "code",
   "execution_count": 21,
   "metadata": {},
   "outputs": [
    {
     "name": "stdout",
     "output_type": "stream",
     "text": [
      "Index(['id', 'url', 'region', 'region_url', 'price', 'type', 'sqfeet', 'beds',\n",
      "       'baths', 'cats_allowed', 'dogs_allowed', 'smoking_allowed',\n",
      "       'wheelchair_access', 'electric_vehicle_charge', 'comes_furnished',\n",
      "       'laundry_options', 'parking_options', 'image_url', 'description', 'lat',\n",
      "       'long', 'state'],\n",
      "      dtype='object')\n",
      "<class 'pandas.core.frame.DataFrame'>\n",
      "Int64Index: 258418 entries, 0 to 265188\n",
      "Data columns (total 22 columns):\n",
      "id                         258418 non-null int64\n",
      "url                        258418 non-null object\n",
      "region                     258418 non-null object\n",
      "region_url                 258418 non-null object\n",
      "price                      258418 non-null int64\n",
      "type                       258418 non-null object\n",
      "sqfeet                     258418 non-null int64\n",
      "beds                       258418 non-null int64\n",
      "baths                      258418 non-null float64\n",
      "cats_allowed               258418 non-null int64\n",
      "dogs_allowed               258418 non-null int64\n",
      "smoking_allowed            258418 non-null int64\n",
      "wheelchair_access          258418 non-null int64\n",
      "electric_vehicle_charge    258418 non-null int64\n",
      "comes_furnished            258418 non-null int64\n",
      "laundry_options            258418 non-null object\n",
      "parking_options            258418 non-null object\n",
      "image_url                  258418 non-null object\n",
      "description                258418 non-null object\n",
      "lat                        258418 non-null float64\n",
      "long                       258418 non-null float64\n",
      "state                      258418 non-null object\n",
      "dtypes: float64(3), int64(10), object(9)\n",
      "memory usage: 45.3+ MB\n",
      "None\n"
     ]
    },
    {
     "data": {
      "text/html": [
       "<div>\n",
       "<style scoped>\n",
       "    .dataframe tbody tr th:only-of-type {\n",
       "        vertical-align: middle;\n",
       "    }\n",
       "\n",
       "    .dataframe tbody tr th {\n",
       "        vertical-align: top;\n",
       "    }\n",
       "\n",
       "    .dataframe thead th {\n",
       "        text-align: right;\n",
       "    }\n",
       "</style>\n",
       "<table border=\"1\" class=\"dataframe\">\n",
       "  <thead>\n",
       "    <tr style=\"text-align: right;\">\n",
       "      <th></th>\n",
       "      <th>id</th>\n",
       "      <th>price</th>\n",
       "      <th>sqfeet</th>\n",
       "      <th>beds</th>\n",
       "      <th>baths</th>\n",
       "      <th>cats_allowed</th>\n",
       "      <th>dogs_allowed</th>\n",
       "      <th>smoking_allowed</th>\n",
       "      <th>wheelchair_access</th>\n",
       "      <th>electric_vehicle_charge</th>\n",
       "      <th>comes_furnished</th>\n",
       "      <th>lat</th>\n",
       "      <th>long</th>\n",
       "    </tr>\n",
       "  </thead>\n",
       "  <tbody>\n",
       "    <tr>\n",
       "      <th>count</th>\n",
       "      <td>2.584180e+05</td>\n",
       "      <td>258418.000000</td>\n",
       "      <td>258418.000000</td>\n",
       "      <td>258418.000000</td>\n",
       "      <td>258418.000000</td>\n",
       "      <td>258418.000000</td>\n",
       "      <td>258418.000000</td>\n",
       "      <td>258418.000000</td>\n",
       "      <td>258418.000000</td>\n",
       "      <td>258418.000000</td>\n",
       "      <td>258418.000000</td>\n",
       "      <td>258418.000000</td>\n",
       "      <td>258418.000000</td>\n",
       "    </tr>\n",
       "    <tr>\n",
       "      <th>mean</th>\n",
       "      <td>7.040908e+09</td>\n",
       "      <td>1227.368303</td>\n",
       "      <td>994.217384</td>\n",
       "      <td>1.887616</td>\n",
       "      <td>1.468321</td>\n",
       "      <td>0.721118</td>\n",
       "      <td>0.700133</td>\n",
       "      <td>0.735301</td>\n",
       "      <td>0.078241</td>\n",
       "      <td>0.014519</td>\n",
       "      <td>0.043213</td>\n",
       "      <td>37.211948</td>\n",
       "      <td>-92.514286</td>\n",
       "    </tr>\n",
       "    <tr>\n",
       "      <th>std</th>\n",
       "      <td>8.780741e+06</td>\n",
       "      <td>612.498897</td>\n",
       "      <td>363.082971</td>\n",
       "      <td>0.861095</td>\n",
       "      <td>0.556511</td>\n",
       "      <td>0.448450</td>\n",
       "      <td>0.458200</td>\n",
       "      <td>0.441174</td>\n",
       "      <td>0.268552</td>\n",
       "      <td>0.119618</td>\n",
       "      <td>0.203337</td>\n",
       "      <td>5.629612</td>\n",
       "      <td>16.390909</td>\n",
       "    </tr>\n",
       "    <tr>\n",
       "      <th>min</th>\n",
       "      <td>7.003808e+09</td>\n",
       "      <td>326.000000</td>\n",
       "      <td>54.000000</td>\n",
       "      <td>0.000000</td>\n",
       "      <td>0.000000</td>\n",
       "      <td>0.000000</td>\n",
       "      <td>0.000000</td>\n",
       "      <td>0.000000</td>\n",
       "      <td>0.000000</td>\n",
       "      <td>0.000000</td>\n",
       "      <td>0.000000</td>\n",
       "      <td>19.529500</td>\n",
       "      <td>-159.530000</td>\n",
       "    </tr>\n",
       "    <tr>\n",
       "      <th>25%</th>\n",
       "      <td>7.035989e+09</td>\n",
       "      <td>825.000000</td>\n",
       "      <td>755.000000</td>\n",
       "      <td>1.000000</td>\n",
       "      <td>1.000000</td>\n",
       "      <td>0.000000</td>\n",
       "      <td>0.000000</td>\n",
       "      <td>0.000000</td>\n",
       "      <td>0.000000</td>\n",
       "      <td>0.000000</td>\n",
       "      <td>0.000000</td>\n",
       "      <td>33.513500</td>\n",
       "      <td>-104.595000</td>\n",
       "    </tr>\n",
       "    <tr>\n",
       "      <th>50%</th>\n",
       "      <td>7.043197e+09</td>\n",
       "      <td>1074.000000</td>\n",
       "      <td>950.000000</td>\n",
       "      <td>2.000000</td>\n",
       "      <td>1.000000</td>\n",
       "      <td>1.000000</td>\n",
       "      <td>1.000000</td>\n",
       "      <td>1.000000</td>\n",
       "      <td>0.000000</td>\n",
       "      <td>0.000000</td>\n",
       "      <td>0.000000</td>\n",
       "      <td>37.987000</td>\n",
       "      <td>-86.469200</td>\n",
       "    </tr>\n",
       "    <tr>\n",
       "      <th>75%</th>\n",
       "      <td>7.048373e+09</td>\n",
       "      <td>1450.000000</td>\n",
       "      <td>1150.000000</td>\n",
       "      <td>2.000000</td>\n",
       "      <td>2.000000</td>\n",
       "      <td>1.000000</td>\n",
       "      <td>1.000000</td>\n",
       "      <td>1.000000</td>\n",
       "      <td>0.000000</td>\n",
       "      <td>0.000000</td>\n",
       "      <td>0.000000</td>\n",
       "      <td>41.181000</td>\n",
       "      <td>-81.283900</td>\n",
       "    </tr>\n",
       "    <tr>\n",
       "      <th>max</th>\n",
       "      <td>7.051263e+09</td>\n",
       "      <td>7700.000000</td>\n",
       "      <td>4000.000000</td>\n",
       "      <td>6.000000</td>\n",
       "      <td>3.500000</td>\n",
       "      <td>1.000000</td>\n",
       "      <td>1.000000</td>\n",
       "      <td>1.000000</td>\n",
       "      <td>1.000000</td>\n",
       "      <td>1.000000</td>\n",
       "      <td>1.000000</td>\n",
       "      <td>64.856900</td>\n",
       "      <td>-68.207100</td>\n",
       "    </tr>\n",
       "  </tbody>\n",
       "</table>\n",
       "</div>"
      ],
      "text/plain": [
       "                 id          price         sqfeet           beds  \\\n",
       "count  2.584180e+05  258418.000000  258418.000000  258418.000000   \n",
       "mean   7.040908e+09    1227.368303     994.217384       1.887616   \n",
       "std    8.780741e+06     612.498897     363.082971       0.861095   \n",
       "min    7.003808e+09     326.000000      54.000000       0.000000   \n",
       "25%    7.035989e+09     825.000000     755.000000       1.000000   \n",
       "50%    7.043197e+09    1074.000000     950.000000       2.000000   \n",
       "75%    7.048373e+09    1450.000000    1150.000000       2.000000   \n",
       "max    7.051263e+09    7700.000000    4000.000000       6.000000   \n",
       "\n",
       "               baths   cats_allowed   dogs_allowed  smoking_allowed  \\\n",
       "count  258418.000000  258418.000000  258418.000000    258418.000000   \n",
       "mean        1.468321       0.721118       0.700133         0.735301   \n",
       "std         0.556511       0.448450       0.458200         0.441174   \n",
       "min         0.000000       0.000000       0.000000         0.000000   \n",
       "25%         1.000000       0.000000       0.000000         0.000000   \n",
       "50%         1.000000       1.000000       1.000000         1.000000   \n",
       "75%         2.000000       1.000000       1.000000         1.000000   \n",
       "max         3.500000       1.000000       1.000000         1.000000   \n",
       "\n",
       "       wheelchair_access  electric_vehicle_charge  comes_furnished  \\\n",
       "count      258418.000000            258418.000000    258418.000000   \n",
       "mean            0.078241                 0.014519         0.043213   \n",
       "std             0.268552                 0.119618         0.203337   \n",
       "min             0.000000                 0.000000         0.000000   \n",
       "25%             0.000000                 0.000000         0.000000   \n",
       "50%             0.000000                 0.000000         0.000000   \n",
       "75%             0.000000                 0.000000         0.000000   \n",
       "max             1.000000                 1.000000         1.000000   \n",
       "\n",
       "                 lat           long  \n",
       "count  258418.000000  258418.000000  \n",
       "mean       37.211948     -92.514286  \n",
       "std         5.629612      16.390909  \n",
       "min        19.529500    -159.530000  \n",
       "25%        33.513500    -104.595000  \n",
       "50%        37.987000     -86.469200  \n",
       "75%        41.181000     -81.283900  \n",
       "max        64.856900     -68.207100  "
      ]
     },
     "execution_count": 21,
     "metadata": {},
     "output_type": "execute_result"
    }
   ],
   "source": [
    "clean_df = raw_df.copy()\n",
    "print(clean_df.columns)\n",
    "print(clean_df.info())\n",
    "clean_df.describe()"
   ]
  },
  {
   "cell_type": "markdown",
   "metadata": {},
   "source": [
    "## 1) Feature Engineering"
   ]
  },
  {
   "cell_type": "markdown",
   "metadata": {},
   "source": [
    "My plan for data preparation:\n",
    " - create sqfeet range column\n",
    " - work on url\n",
    " - work on Latitude and Longitude\n",
    " - work on description\n",
    "\n"
   ]
  },
  {
   "cell_type": "code",
   "execution_count": 22,
   "metadata": {},
   "outputs": [],
   "source": [
    "clean_df = clean_df.drop(['url', 'region_url', 'image_url'], axis=1)"
   ]
  },
  {
   "cell_type": "markdown",
   "metadata": {},
   "source": [
    "### a. Create sqfeet range column"
   ]
  },
  {
   "cell_type": "markdown",
   "metadata": {},
   "source": [
    "![img](https://www.point2homes.com/news/wp-content/uploads/2017/01/Home-Size-Table-by-Province-CA.png)"
   ]
  },
  {
   "cell_type": "code",
   "execution_count": 23,
   "metadata": {},
   "outputs": [
    {
     "data": {
      "text/plain": [
       "small          137556\n",
       "medium          93812\n",
       "large           13485\n",
       "mini             7142\n",
       "extra large      3801\n",
       "mansion          1817\n",
       "single room       805\n",
       "Name: sqfeet_range, dtype: int64"
      ]
     },
     "execution_count": 23,
     "metadata": {},
     "output_type": "execute_result"
    }
   ],
   "source": [
    "def sqfeet_range_column(data, feature='sqfeet'):\n",
    "    if data[feature] < 300:\n",
    "        return 'single room'\n",
    "    if data[feature] >= 300 and data[feature] < 500:\n",
    "        return 'mini'\n",
    "    if data[feature] >= 500 and data[feature] < 1000:\n",
    "        return 'small'\n",
    "    if data[feature] >= 1000 and data[feature] < 1500:\n",
    "        return 'medium'\n",
    "    if data[feature] >= 1500 and data[feature] < 2000:\n",
    "        return 'large'\n",
    "    if data[feature] >= 2000 and data[feature] < 2500:\n",
    "        return 'extra large'\n",
    "    if data[feature] >=2500:\n",
    "        return 'mansion'\n",
    "    \n",
    "\n",
    "clean_df['sqfeet_range'] = clean_df.apply(sqfeet_range_column, axis=1)\n",
    "clean_df.sqfeet_range.value_counts()"
   ]
  },
  {
   "cell_type": "markdown",
   "metadata": {},
   "source": [
    "### b. work on url"
   ]
  },
  {
   "cell_type": "code",
   "execution_count": 24,
   "metadata": {},
   "outputs": [],
   "source": [
    "# #TODO: open this\n",
    "# from urllib.parse import urlparse, parse_qs\n",
    "# from tqdm import tqdm\n",
    "# disc = {\"url_parsed_loc\": [], \"url_params\":[], \"url_path_components\": []}\n",
    "\n",
    "# for i in tqdm(range(df.shape[0]), position=0, leave=True):\n",
    "#     parsed = urlparse(df.url[i])\n",
    "#     disc[\"url_parsed_loc\"].append(parsed.netloc)\n",
    "    \n",
    "#     params = parse_qs(parsed.query)\n",
    "#     disc[\"url_params\"].append(params)\n",
    "    \n",
    "#     path_components = list(filter(bool, parsed.path.split('/')))\n",
    "#     disc[\"url_path_components\"].append(path_components)\n",
    "\n",
    "\n",
    "# #TODO: open this\n",
    "\n",
    "# url_df = pd.DataFrame(disc)\n",
    "# print(url_df.url_params.value_counts())\n",
    "# url_df.head()\n",
    "\n",
    "# #TODO: open this\n",
    "# url_df.drop(\"url_params\", axis=1, inplace=True)\n",
    "# url_df.head()\n",
    "\n",
    "\n",
    "\n",
    "# #TODO: open this\n",
    "# cnt=0\n",
    "# for i in tqdm(range(df.shape[0]), position=0, leave=True):\n",
    "#     if df[\"region_url\"][i].find(url_df[\"url_parsed_loc\"][i]) >= 0: \n",
    "#         cnt+=1\n",
    "\n",
    "# print(\"Count: \"+str(cnt))\n",
    "# print(\"Error rate: \"+str(1-(cnt/df.shape[0])))"
   ]
  },
  {
   "cell_type": "markdown",
   "metadata": {},
   "source": [
    "### c. work on Latitude and Longitude"
   ]
  },
  {
   "cell_type": "code",
   "execution_count": 25,
   "metadata": {},
   "outputs": [],
   "source": [
    "# # TODO: open this\n",
    "# from sklearn.cluster import KMeans\n",
    "\n",
    "# sse={}\n",
    "# lat_long_df = clean_df[['lat', 'long']]\n",
    "\n",
    "# for k in tqdm(range(1, 12), position=0, leave=True):\n",
    "#     kmeans = KMeans(n_clusters=k, max_iter=1000).fit(lat_long_df)\n",
    "#     lat_long_df[\"clusters\"] = kmeans.labels_\n",
    "#     sse[k] = kmeans.inertia_ \n",
    "# plt.figure()\n",
    "# plt.plot(list(sse.keys()), list(sse.values()))\n",
    "# plt.xlabel(\"Number of cluster\")\n",
    "# plt.show()"
   ]
  },
  {
   "cell_type": "code",
   "execution_count": 26,
   "metadata": {},
   "outputs": [
    {
     "name": "stdout",
     "output_type": "stream",
     "text": [
      "258418\n"
     ]
    }
   ],
   "source": [
    "kmeans = KMeans(n_clusters=8, random_state=0)\n",
    "lat_long_pred = kmeans.fit_predict(clean_df[[\"lat\", \"long\"]])\n",
    "print(lat_long_pred.size)\n",
    "clean_df['lat_long_cluster'] = lat_long_pred"
   ]
  },
  {
   "cell_type": "code",
   "execution_count": 27,
   "metadata": {},
   "outputs": [],
   "source": [
    "clean_df = clean_df.reset_index()"
   ]
  },
  {
   "cell_type": "code",
   "execution_count": 28,
   "metadata": {},
   "outputs": [
    {
     "data": {
      "image/png": "[encoded data removed]",
      "text/plain": [
       "<Figure size 720x720 with 1 Axes>"
      ]
     },
     "metadata": {
      "needs_background": "light"
     },
     "output_type": "display_data"
    }
   ],
   "source": [
    "import matplotlib.pyplot as plt\n",
    "fig, axes = plt.subplots(figsize=(10,10))\n",
    "plt.scatter(x=clean_df['lat'], y=clean_df['long'], c=lat_long_pred)\n",
    "plt.show()"
   ]
  },
  {
   "cell_type": "markdown",
   "metadata": {},
   "source": [
    "### d.work on description"
   ]
  },
  {
   "cell_type": "code",
   "execution_count": 29,
   "metadata": {},
   "outputs": [],
   "source": [
    "# i=1451\n",
    "# print(df.description[i])"
   ]
  },
  {
   "cell_type": "code",
   "execution_count": 30,
   "metadata": {},
   "outputs": [],
   "source": [
    "# from bs4 import BeautifulSoup\n",
    "# import re"
   ]
  },
  {
   "cell_type": "code",
   "execution_count": 31,
   "metadata": {},
   "outputs": [],
   "source": [
    "# stopwords= set(['br', 'the', 'i', 'me', 'my', 'myself', 'we', 'our', 'ours', 'ourselves', 'you', \"you're\", \"you've\",\\\n",
    "#             \"you'll\", \"you'd\", 'your', 'yours', 'yourself', 'yourselves', 'he', 'him', 'his', 'himself', \\\n",
    "#             'she', \"she's\", 'her', 'hers', 'herself', 'it', \"it's\", 'its', 'itself', 'they', 'them', 'their',\\\n",
    "#             'theirs', 'themselves', 'what', 'which', 'who', 'whom', 'this', 'that', \"that'll\", 'these', 'those', \\\n",
    "#             'am', 'is', 'are', 'was', 'were', 'be', 'been', 'being', 'have', 'has', 'had', 'having', 'do', 'does', \\\n",
    "#             'did', 'doing', 'a', 'an', 'the', 'and', 'but', 'if', 'or', 'because', 'as', 'until', 'while', 'of', \\\n",
    "#             'at', 'by', 'for', 'with', 'about', 'against', 'between', 'into', 'through', 'during', 'before', 'after',\\\n",
    "#             'above', 'below', 'to', 'from', 'up', 'down', 'in', 'out', 'on', 'off', 'over', 'under', 'again', 'further',\\\n",
    "#             'then', 'once', 'here', 'there', 'when', 'where', 'why', 'how', 'all', 'any', 'both', 'each', 'few', 'more',\\\n",
    "#             'most', 'other', 'some', 'such', 'only', 'own', 'same', 'so', 'than', 'too', 'very', \\\n",
    "#             's', 't', 'can', 'will', 'just', 'don', \"don't\", 'should', \"should've\", 'now', 'd', 'll', 'm', 'o', 're', \\\n",
    "#             've', 'y', 'ain', 'aren', \"aren't\", 'couldn', \"couldn't\", 'didn', \"didn't\", 'doesn', \"doesn't\", 'hadn',\\\n",
    "#             \"hadn't\", 'hasn', \"hasn't\", 'haven', \"haven't\", 'isn', \"isn't\", 'ma', 'mightn', \"mightn't\", 'mustn',\\\n",
    "#             \"mustn't\", 'needn', \"needn't\", 'shan', \"shan't\", 'shouldn', \"shouldn't\", 'wasn', \"wasn't\", 'weren', \"weren't\", \\\n",
    "#             'won', \"won't\", 'wouldn', \"wouldn't\"])"
   ]
  },
  {
   "cell_type": "code",
   "execution_count": 32,
   "metadata": {},
   "outputs": [],
   "source": [
    "# def decontracted(phrase):\n",
    "#     # specific\n",
    "#     phrase = re.sub(r\"won't\", \"will not\", phrase)\n",
    "#     phrase = re.sub(r\"can\\'t\", \"can not\", phrase)\n",
    "\n",
    "#     # general\n",
    "#     phrase = re.sub(r\"n\\'t\", \" not\", phrase)\n",
    "#     phrase = re.sub(r\"\\'re\", \" are\", phrase)\n",
    "#     phrase = re.sub(r\"\\'s\", \" is\", phrase)\n",
    "#     phrase = re.sub(r\"\\'d\", \" would\", phrase)\n",
    "#     phrase = re.sub(r\"\\'ll\", \" will\", phrase)\n",
    "#     phrase = re.sub(r\"\\'t\", \" not\", phrase)\n",
    "#     phrase = re.sub(r\"\\'ve\", \" have\", phrase)\n",
    "#     phrase = re.sub(r\"\\'m\", \" am\", phrase)\n",
    "#     return phrase"
   ]
  },
  {
   "cell_type": "code",
   "execution_count": 33,
   "metadata": {},
   "outputs": [],
   "source": [
    "# def clean_text(sentance):\n",
    "#     sentance = re.sub(r\"http\\S+\", \"\", sentance)\n",
    "#     sentance = BeautifulSoup(sentance, 'lxml').get_text()\n",
    "#     sentance = decontracted(sentance)\n",
    "#     sentance = re.sub(\"\\S*\\d\\S*\", \"\", sentance).strip()\n",
    "#     sentance = re.sub('[^A-Za-z]+', ' ', sentance)\n",
    "#     # https://gist.github.com/sebleier/554280\n",
    "#     sentance = ' '.join(e.lower() for e in sentance.split() if e.lower() not in stopwords)\n",
    "#     return sentance.strip()"
   ]
  },
  {
   "cell_type": "code",
   "execution_count": 34,
   "metadata": {},
   "outputs": [],
   "source": [
    "# for i in tqdm(range(loop), position=0, leave=True):\n",
    "#     df.description[i] = clean_text(df.description[i])"
   ]
  },
  {
   "cell_type": "code",
   "execution_count": 35,
   "metadata": {},
   "outputs": [],
   "source": [
    "# df.head()\n",
    "# df = df.drop(df.index[4]).reset_index()\n",
    "# print(df.shape)"
   ]
  },
  {
   "cell_type": "code",
   "execution_count": 36,
   "metadata": {},
   "outputs": [],
   "source": [
    "# for i in tqdm(range(loop), position=0, leave=True):\n",
    "#     try:\n",
    "#         df.description[i] = clean_text(df.description[i])\n",
    "#     except:\n",
    "#         df.drop(df.index[i])"
   ]
  },
  {
   "cell_type": "code",
   "execution_count": 37,
   "metadata": {},
   "outputs": [
    {
     "name": "stderr",
     "output_type": "stream",
     "text": [
      "100%|█████████████████████████████████████████████████████████████████████████| 258418/258418 [14:29<00:00, 297.04it/s]\n"
     ]
    }
   ],
   "source": [
    "from vaderSentiment.vaderSentiment import SentimentIntensityAnalyzer \n",
    "sid_obj = SentimentIntensityAnalyzer()\n",
    "\n",
    "description_dict = {\"description_negative\":[], \"description_neutral\": [], \"description_positive\":[]}\n",
    "\n",
    "\n",
    "loop = clean_df.shape[0]\n",
    "for i in tqdm(range(loop), position=0, leave=True):\n",
    "    desc = str(clean_df.description[i])\n",
    "    sentiment_dict = sid_obj.polarity_scores(desc) \n",
    "    description_dict[\"description_negative\"].append(sentiment_dict[\"neg\"])\n",
    "    description_dict[\"description_neutral\"].append(sentiment_dict[\"neu\"])\n",
    "    description_dict[\"description_positive\"].append(sentiment_dict[\"pos\"]) "
   ]
  },
  {
   "cell_type": "code",
   "execution_count": 38,
   "metadata": {},
   "outputs": [
    {
     "name": "stdout",
     "output_type": "stream",
     "text": [
      "(258418, 3)\n"
     ]
    },
    {
     "data": {
      "text/html": [
       "<div>\n",
       "<style scoped>\n",
       "    .dataframe tbody tr th:only-of-type {\n",
       "        vertical-align: middle;\n",
       "    }\n",
       "\n",
       "    .dataframe tbody tr th {\n",
       "        vertical-align: top;\n",
       "    }\n",
       "\n",
       "    .dataframe thead th {\n",
       "        text-align: right;\n",
       "    }\n",
       "</style>\n",
       "<table border=\"1\" class=\"dataframe\">\n",
       "  <thead>\n",
       "    <tr style=\"text-align: right;\">\n",
       "      <th></th>\n",
       "      <th>description_negative</th>\n",
       "      <th>description_neutral</th>\n",
       "      <th>description_positive</th>\n",
       "    </tr>\n",
       "  </thead>\n",
       "  <tbody>\n",
       "    <tr>\n",
       "      <th>0</th>\n",
       "      <td>0.005</td>\n",
       "      <td>0.875</td>\n",
       "      <td>0.120</td>\n",
       "    </tr>\n",
       "    <tr>\n",
       "      <th>1</th>\n",
       "      <td>0.000</td>\n",
       "      <td>0.771</td>\n",
       "      <td>0.229</td>\n",
       "    </tr>\n",
       "    <tr>\n",
       "      <th>2</th>\n",
       "      <td>0.005</td>\n",
       "      <td>0.876</td>\n",
       "      <td>0.119</td>\n",
       "    </tr>\n",
       "    <tr>\n",
       "      <th>3</th>\n",
       "      <td>0.005</td>\n",
       "      <td>0.875</td>\n",
       "      <td>0.120</td>\n",
       "    </tr>\n",
       "    <tr>\n",
       "      <th>4</th>\n",
       "      <td>0.005</td>\n",
       "      <td>0.888</td>\n",
       "      <td>0.107</td>\n",
       "    </tr>\n",
       "  </tbody>\n",
       "</table>\n",
       "</div>"
      ],
      "text/plain": [
       "   description_negative  description_neutral  description_positive\n",
       "0                 0.005                0.875                 0.120\n",
       "1                 0.000                0.771                 0.229\n",
       "2                 0.005                0.876                 0.119\n",
       "3                 0.005                0.875                 0.120\n",
       "4                 0.005                0.888                 0.107"
      ]
     },
     "execution_count": 38,
     "metadata": {},
     "output_type": "execute_result"
    }
   ],
   "source": [
    "desc_df = pd.DataFrame(description_dict)\n",
    "print(desc_df.shape)\n",
    "desc_df.head()"
   ]
  },
  {
   "cell_type": "code",
   "execution_count": 39,
   "metadata": {},
   "outputs": [
    {
     "data": {
      "text/html": [
       "<div>\n",
       "<style scoped>\n",
       "    .dataframe tbody tr th:only-of-type {\n",
       "        vertical-align: middle;\n",
       "    }\n",
       "\n",
       "    .dataframe tbody tr th {\n",
       "        vertical-align: top;\n",
       "    }\n",
       "\n",
       "    .dataframe thead th {\n",
       "        text-align: right;\n",
       "    }\n",
       "</style>\n",
       "<table border=\"1\" class=\"dataframe\">\n",
       "  <thead>\n",
       "    <tr style=\"text-align: right;\">\n",
       "      <th></th>\n",
       "      <th>index</th>\n",
       "      <th>id</th>\n",
       "      <th>region</th>\n",
       "      <th>price</th>\n",
       "      <th>type</th>\n",
       "      <th>sqfeet</th>\n",
       "      <th>beds</th>\n",
       "      <th>baths</th>\n",
       "      <th>cats_allowed</th>\n",
       "      <th>dogs_allowed</th>\n",
       "      <th>...</th>\n",
       "      <th>laundry_options</th>\n",
       "      <th>parking_options</th>\n",
       "      <th>lat</th>\n",
       "      <th>long</th>\n",
       "      <th>state</th>\n",
       "      <th>sqfeet_range</th>\n",
       "      <th>lat_long_cluster</th>\n",
       "      <th>description_negative</th>\n",
       "      <th>description_neutral</th>\n",
       "      <th>description_positive</th>\n",
       "    </tr>\n",
       "  </thead>\n",
       "  <tbody>\n",
       "    <tr>\n",
       "      <th>0</th>\n",
       "      <td>0</td>\n",
       "      <td>7039061606</td>\n",
       "      <td>birmingham</td>\n",
       "      <td>1195</td>\n",
       "      <td>apartment</td>\n",
       "      <td>1908</td>\n",
       "      <td>3</td>\n",
       "      <td>2.0</td>\n",
       "      <td>1</td>\n",
       "      <td>1</td>\n",
       "      <td>...</td>\n",
       "      <td>laundry on site</td>\n",
       "      <td>street parking</td>\n",
       "      <td>33.4226</td>\n",
       "      <td>-86.7065</td>\n",
       "      <td>al</td>\n",
       "      <td>large</td>\n",
       "      <td>5</td>\n",
       "      <td>0.005</td>\n",
       "      <td>0.875</td>\n",
       "      <td>0.120</td>\n",
       "    </tr>\n",
       "    <tr>\n",
       "      <th>1</th>\n",
       "      <td>1</td>\n",
       "      <td>7041970863</td>\n",
       "      <td>birmingham</td>\n",
       "      <td>1120</td>\n",
       "      <td>apartment</td>\n",
       "      <td>1319</td>\n",
       "      <td>3</td>\n",
       "      <td>2.0</td>\n",
       "      <td>1</td>\n",
       "      <td>1</td>\n",
       "      <td>...</td>\n",
       "      <td>laundry on site</td>\n",
       "      <td>off-street parking</td>\n",
       "      <td>33.3755</td>\n",
       "      <td>-86.8045</td>\n",
       "      <td>al</td>\n",
       "      <td>medium</td>\n",
       "      <td>5</td>\n",
       "      <td>0.000</td>\n",
       "      <td>0.771</td>\n",
       "      <td>0.229</td>\n",
       "    </tr>\n",
       "    <tr>\n",
       "      <th>2</th>\n",
       "      <td>2</td>\n",
       "      <td>7041966914</td>\n",
       "      <td>birmingham</td>\n",
       "      <td>825</td>\n",
       "      <td>apartment</td>\n",
       "      <td>1133</td>\n",
       "      <td>1</td>\n",
       "      <td>1.5</td>\n",
       "      <td>1</td>\n",
       "      <td>1</td>\n",
       "      <td>...</td>\n",
       "      <td>laundry on site</td>\n",
       "      <td>street parking</td>\n",
       "      <td>33.4226</td>\n",
       "      <td>-86.7065</td>\n",
       "      <td>al</td>\n",
       "      <td>medium</td>\n",
       "      <td>5</td>\n",
       "      <td>0.005</td>\n",
       "      <td>0.876</td>\n",
       "      <td>0.119</td>\n",
       "    </tr>\n",
       "    <tr>\n",
       "      <th>3</th>\n",
       "      <td>3</td>\n",
       "      <td>7041966936</td>\n",
       "      <td>birmingham</td>\n",
       "      <td>800</td>\n",
       "      <td>apartment</td>\n",
       "      <td>927</td>\n",
       "      <td>1</td>\n",
       "      <td>1.0</td>\n",
       "      <td>1</td>\n",
       "      <td>1</td>\n",
       "      <td>...</td>\n",
       "      <td>laundry on site</td>\n",
       "      <td>street parking</td>\n",
       "      <td>33.4226</td>\n",
       "      <td>-86.7065</td>\n",
       "      <td>al</td>\n",
       "      <td>small</td>\n",
       "      <td>5</td>\n",
       "      <td>0.005</td>\n",
       "      <td>0.875</td>\n",
       "      <td>0.120</td>\n",
       "    </tr>\n",
       "    <tr>\n",
       "      <th>4</th>\n",
       "      <td>4</td>\n",
       "      <td>7041966888</td>\n",
       "      <td>birmingham</td>\n",
       "      <td>785</td>\n",
       "      <td>apartment</td>\n",
       "      <td>1047</td>\n",
       "      <td>2</td>\n",
       "      <td>1.0</td>\n",
       "      <td>1</td>\n",
       "      <td>1</td>\n",
       "      <td>...</td>\n",
       "      <td>laundry on site</td>\n",
       "      <td>street parking</td>\n",
       "      <td>33.4226</td>\n",
       "      <td>-86.7065</td>\n",
       "      <td>al</td>\n",
       "      <td>medium</td>\n",
       "      <td>5</td>\n",
       "      <td>0.005</td>\n",
       "      <td>0.888</td>\n",
       "      <td>0.107</td>\n",
       "    </tr>\n",
       "  </tbody>\n",
       "</table>\n",
       "<p>5 rows × 24 columns</p>\n",
       "</div>"
      ],
      "text/plain": [
       "   index          id      region  price       type  sqfeet  beds  baths  \\\n",
       "0      0  7039061606  birmingham   1195  apartment    1908     3    2.0   \n",
       "1      1  7041970863  birmingham   1120  apartment    1319     3    2.0   \n",
       "2      2  7041966914  birmingham    825  apartment    1133     1    1.5   \n",
       "3      3  7041966936  birmingham    800  apartment     927     1    1.0   \n",
       "4      4  7041966888  birmingham    785  apartment    1047     2    1.0   \n",
       "\n",
       "   cats_allowed  dogs_allowed  ...  laundry_options     parking_options  \\\n",
       "0             1             1  ...  laundry on site      street parking   \n",
       "1             1             1  ...  laundry on site  off-street parking   \n",
       "2             1             1  ...  laundry on site      street parking   \n",
       "3             1             1  ...  laundry on site      street parking   \n",
       "4             1             1  ...  laundry on site      street parking   \n",
       "\n",
       "       lat     long state sqfeet_range  lat_long_cluster  \\\n",
       "0  33.4226 -86.7065    al        large                 5   \n",
       "1  33.3755 -86.8045    al       medium                 5   \n",
       "2  33.4226 -86.7065    al       medium                 5   \n",
       "3  33.4226 -86.7065    al        small                 5   \n",
       "4  33.4226 -86.7065    al       medium                 5   \n",
       "\n",
       "   description_negative description_neutral description_positive  \n",
       "0                 0.005               0.875                0.120  \n",
       "1                 0.000               0.771                0.229  \n",
       "2                 0.005               0.876                0.119  \n",
       "3                 0.005               0.875                0.120  \n",
       "4                 0.005               0.888                0.107  \n",
       "\n",
       "[5 rows x 24 columns]"
      ]
     },
     "execution_count": 39,
     "metadata": {},
     "output_type": "execute_result"
    }
   ],
   "source": [
    "# add data to table\n",
    "\n",
    "clean_df = pd.concat([clean_df, desc_df], axis=1)\n",
    "clean_df = clean_df.drop([\"description\"], axis=1)\n",
    "clean_df.head()"
   ]
  },
  {
   "cell_type": "code",
   "execution_count": 40,
   "metadata": {},
   "outputs": [
    {
     "data": {
      "text/plain": [
       "index                      0\n",
       "id                         0\n",
       "region                     0\n",
       "price                      0\n",
       "type                       0\n",
       "sqfeet                     0\n",
       "beds                       0\n",
       "baths                      0\n",
       "cats_allowed               0\n",
       "dogs_allowed               0\n",
       "smoking_allowed            0\n",
       "wheelchair_access          0\n",
       "electric_vehicle_charge    0\n",
       "comes_furnished            0\n",
       "laundry_options            0\n",
       "parking_options            0\n",
       "lat                        0\n",
       "long                       0\n",
       "state                      0\n",
       "sqfeet_range               0\n",
       "lat_long_cluster           0\n",
       "description_negative       0\n",
       "description_neutral        0\n",
       "description_positive       0\n",
       "dtype: int64"
      ]
     },
     "execution_count": 40,
     "metadata": {},
     "output_type": "execute_result"
    }
   ],
   "source": [
    "clean_df.isna().sum()"
   ]
  },
  {
   "cell_type": "code",
   "execution_count": null,
   "metadata": {},
   "outputs": [],
   "source": []
  },
  {
   "cell_type": "code",
   "execution_count": null,
   "metadata": {},
   "outputs": [],
   "source": []
  },
  {
   "cell_type": "code",
   "execution_count": 41,
   "metadata": {},
   "outputs": [
    {
     "ename": "SyntaxError",
     "evalue": "invalid syntax (<ipython-input-41-5560265ccf19>, line 1)",
     "output_type": "error",
     "traceback": [
      "\u001b[1;36m  File \u001b[1;32m\"<ipython-input-41-5560265ccf19>\"\u001b[1;36m, line \u001b[1;32m1\u001b[0m\n\u001b[1;33m    kernel stop here\u001b[0m\n\u001b[1;37m              ^\u001b[0m\n\u001b[1;31mSyntaxError\u001b[0m\u001b[1;31m:\u001b[0m invalid syntax\n"
     ]
    }
   ],
   "source": [
    "kernel stop here"
   ]
  },
  {
   "cell_type": "code",
   "execution_count": null,
   "metadata": {},
   "outputs": [],
   "source": []
  },
  {
   "cell_type": "markdown",
   "metadata": {},
   "source": [
    "## 2) Hypothesis Testing"
   ]
  },
  {
   "cell_type": "code",
   "execution_count": null,
   "metadata": {},
   "outputs": [],
   "source": [
    "def hypothesis_testing(feature, target):\n",
    "    g = pd.crosstab(feature, target, margins=True)\n",
    "    chi2_result = chi2_contingency(g)\n",
    "    return chi2_result[1]\n",
    "\n",
    "\n",
    "\n",
    "\n",
    "df_cols = clean_df.columns\n",
    "hypothests_result = {}\n",
    "drop_list = []\n",
    "\n",
    "for i in tqdm(range(len(df_cols)), position=0, leave=True):\n",
    "    p = hypothesis_testing(clean_df[df_cols[i]], clean_df['price'])\n",
    "    \n",
    "    if p < 0.05:\n",
    "        status = 'reject'\n",
    "        feature = True\n",
    "    else:\n",
    "        status = 'accept'\n",
    "        feature = False\n",
    "        drop_list.append(df_cols[i])\n",
    "    \n",
    "    hypothests_result[df_cols[i]] = [p, status, feature]\n",
    "\n",
    "print(hypothests_result, end=\"\\n\\n\")\n",
    "print(drop_list)\n",
    "\n",
    "\n",
    "\n",
    "null_hypothesis_result = pd.DataFrame(hypothests_result, index=['p-value', 'null_hypothesis', 'feature']).T\n",
    "null_hypothesis_result\n",
    "\n",
    "\n",
    "raw_df.drop(drop_list, axis=1, inplace=True)\n",
    "\n",
    "\n",
    "\n",
    "raw_df.corr()\n",
    "f, ax = plt.subplots(figsize=(12, 10))\n",
    "sns.heatmap(raw_df.corr(), annot=True, linewidths=0.5, square=True, vmax=0.3, center=0, cmap=sns.cubehelix_palette())\n",
    "# plt.savefig('heat.png')"
   ]
  },
  {
   "cell_type": "code",
   "execution_count": null,
   "metadata": {},
   "outputs": [],
   "source": [
    "df.to_csv('clean_df.csv', index = False)\n",
    "df.head()"
   ]
  },
  {
   "cell_type": "markdown",
   "metadata": {},
   "source": [
    "## 3) Model Building"
   ]
  },
  {
   "cell_type": "code",
   "execution_count": null,
   "metadata": {},
   "outputs": [],
   "source": [
    "df = pd.read_csv(\"clean_df.csv\")\n",
    "df.head()"
   ]
  },
  {
   "cell_type": "code",
   "execution_count": null,
   "metadata": {},
   "outputs": [],
   "source": [
    "df.dropna(inplace=True)\n",
    "df.shape"
   ]
  },
  {
   "cell_type": "code",
   "execution_count": null,
   "metadata": {},
   "outputs": [],
   "source": [
    "df.isna().sum()"
   ]
  },
  {
   "cell_type": "code",
   "execution_count": null,
   "metadata": {},
   "outputs": [],
   "source": [
    "df_X = df.drop([\"id\", \"url\", \"region\", \"region_url\",\"description\", \"image_url\", \"state\", \"price\"], axis=1)\n",
    "df_y = df.loc[:, \"price\"]\n",
    "\n",
    "X_train, X_test, y_train, y_test = train_test_split(df_X, df_y, test_size=0.2, random_state=42)\n",
    "X_train.head()"
   ]
  },
  {
   "cell_type": "code",
   "execution_count": null,
   "metadata": {},
   "outputs": [],
   "source": [
    "X_train = X_train.reset_index(drop=True)\n",
    "y_train = y_train.reset_index(drop=True)\n",
    "\n",
    "X_test = X_test.reset_index(drop=True)\n",
    "y_test = y_test.reset_index(drop=True)"
   ]
  },
  {
   "cell_type": "code",
   "execution_count": null,
   "metadata": {},
   "outputs": [],
   "source": [
    "X_train.head()"
   ]
  },
  {
   "cell_type": "code",
   "execution_count": null,
   "metadata": {},
   "outputs": [],
   "source": [
    "y_train = pd.DataFrame(y_train)\n",
    "y_test = pd.DataFrame(y_test)"
   ]
  },
  {
   "cell_type": "code",
   "execution_count": null,
   "metadata": {},
   "outputs": [],
   "source": [
    "\n",
    "y_train.head()"
   ]
  },
  {
   "cell_type": "code",
   "execution_count": null,
   "metadata": {},
   "outputs": [],
   "source": [
    "# scalerX = StandardScaler().fit(X_train)\n",
    "# X_train = scalerX.transform(X_train)\n",
    "# X_test = scalerX.transform(X_test)\n",
    "\n",
    "# scalery = StandardScaler().fit(y_train)\n",
    "# y_train = scalery.transform(y_train)\n",
    "# y_test = scalery.transform(y_test)\n",
    "\n",
    "\n",
    "# from sklearn.preprocessing import MinMaxScaler\n",
    "\n",
    "# scalerX = MinMaxScaler().fit(X_train)\n",
    "# X_train = scalerX.transform(X_train)\n",
    "# X_test = scalerX.transform(X_test)\n",
    "\n",
    "# scalery = MinMaxScaler().fit(y_train)\n",
    "# y_train = scalery.transform(y_train)\n",
    "# y_test = scalery.transform(y_test)\n"
   ]
  },
  {
   "cell_type": "code",
   "execution_count": null,
   "metadata": {},
   "outputs": [],
   "source": [
    "y_train"
   ]
  },
  {
   "cell_type": "code",
   "execution_count": null,
   "metadata": {},
   "outputs": [],
   "source": [
    "# X_train = np.reshape(X_train, (X_train.shape[0], X_train.shape[1], 1))\n",
    "\n",
    "# regressor = Sequential()\n",
    "\n",
    "# # Adding the first LSTM layer and some Dropout regularisation\n",
    "# regressor.add(LSTM(units = 50, return_sequences = True, input_shape = (X_train.shape[1], 1)))\n",
    "# regressor.add(Dropout(0.2))\n",
    "# regressor.add(LSTM(units = 50, return_sequences = True))\n",
    "# regressor.add(Dropout(0.2))\n",
    "# regressor.add(LSTM(units = 50, return_sequences = True))\n",
    "# regressor.add(Dropout(0.2))\n",
    "# regressor.add(LSTM(units = 50))\n",
    "# regressor.add(Dropout(0.2))\n",
    "\n",
    "# regressor.add(Dense(units = 1))\n",
    "\n",
    "# regressor.compile(optimizer = 'adam', loss = 'mean_squared_error')\n",
    "# regressor.fit(X_train, y_train, epochs = 1, batch_size = 1000)"
   ]
  },
  {
   "cell_type": "code",
   "execution_count": null,
   "metadata": {},
   "outputs": [],
   "source": [
    "from sklearn import metrics as skmetrics\n",
    "\n",
    "def calculate_regression_metrics(y_test, predictions):\n",
    "    mean_squared_error = skmetrics.mean_squared_error(y_test, predictions)\n",
    "    mean_absolute_error = skmetrics.mean_absolute_error(y_test, predictions)\n",
    "    r2_error = skmetrics.r2_score(y_test, predictions)\n",
    "\n",
    "    result = {'mean_squared_error': mean_squared_error, 'mean_absolute_error': mean_absolute_error, 'r2_score': r2_error}\n",
    "    return result "
   ]
  },
  {
   "cell_type": "code",
   "execution_count": null,
   "metadata": {},
   "outputs": [],
   "source": [
    "from sklearn.ensemble import RandomForestRegressor\n",
    "from sklearn.metrics import mean_squared_error\n",
    "\n",
    "model = RandomForestRegressor()\n",
    "model = model.fit(X_train, y_train)\n",
    "pred = model.predict(X_test)\n",
    "pred = pred.reshape(-1, 1)\n",
    "\n",
    "# pred = scalery.inverse_transform(pred)\n",
    "# y_test = scalery.inverse_transform(y_test)\n",
    "\n",
    "print(pred)\n",
    "print(\"//////////////////////////////////////\")\n",
    "print(y_test)\n",
    "print(\"//////////////////////////////////////\")\n",
    "\n",
    "\n",
    "\n",
    "calculate_regression_metrics(y_test, pred)\n",
    "# pred = scalery.inverse_transform(pred)\n",
    "# print(pred)"
   ]
  },
  {
   "cell_type": "code",
   "execution_count": null,
   "metadata": {},
   "outputs": [],
   "source": [
    "fig, ax = plt.subplots(1, 1, figsize=(21,21))\n",
    "ax.scatter(range(y_test.size), y_test)\n",
    "ax.scatter(range(y_test.size), pred)\n",
    "\n",
    "# ax.plot([y_test.min(), y_test.max()], [y_test.min(), y_test.max()], 'k--', lw=4)\n",
    "ax.set_xlabel('Measured')\n",
    "ax.set_ylabel('Predicted')\n",
    "plt.show()"
   ]
  },
  {
   "cell_type": "code",
   "execution_count": null,
   "metadata": {},
   "outputs": [],
   "source": [
    "fig, ax = plt.subplots(1, 1, figsize=(21,21))\n",
    "ax.plot(y_test)\n",
    "ax.plot(pred)"
   ]
  },
  {
   "cell_type": "code",
   "execution_count": null,
   "metadata": {},
   "outputs": [],
   "source": [
    "# xgb_model = xgb.XGBClassifier().fit(X_train, y_train)\n",
    "# print(\"Training: \"+str(xgb_model.score(X_train, y_train)))\n",
    "# print(\"Testing: \"+str(xgb_model.score(X_test, y_test)))"
   ]
  },
  {
   "cell_type": "code",
   "execution_count": null,
   "metadata": {},
   "outputs": [],
   "source": []
  }
 ],
 "metadata": {
  "kernelspec": {
   "display_name": "Python 3",
   "language": "python",
   "name": "python3"
  },
  "language_info": {
   "codemirror_mode": {
    "name": "ipython",
    "version": 3
   },
   "file_extension": ".py",
   "mimetype": "text/x-python",
   "name": "python",
   "nbconvert_exporter": "python",
   "pygments_lexer": "ipython3",
   "version": "3.7.3"
  }
 },
 "nbformat": 4,
 "nbformat_minor": 2
}

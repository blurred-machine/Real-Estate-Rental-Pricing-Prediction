{
 "cells": [
  {
   "cell_type": "markdown",
   "metadata": {},
   "source": [
    "# house price prediction"
   ]
  },
  {
   "cell_type": "code",
<<<<<<< HEAD
   "execution_count": 1,
=======
   "execution_count": 67,
>>>>>>> 31c980bd0e872019bd9d1d6c9b2aa2cc14bc45e0
   "metadata": {},
   "outputs": [],
   "source": [
    "import pandas as pd\n",
    "import numpy as np\n",
    "import matplotlib.pyplot as plt\n",
    "%matplotlib inline\n",
    "import seaborn as sns\n",
    "\n",
    "from sklearn.externals import joblib \n",
    "from tqdm import tqdm\n",
    "\n",
    "import warnings\n",
    "warnings.filterwarnings(\"ignore\")\n",
    "\n",
    "\n",
    "from sklearn.preprocessing import LabelEncoder, OneHotEncoder\n",
    "from sklearn.compose import ColumnTransformer\n",
    "from sklearn.preprocessing import Normalizer\n",
    "\n",
    "import scipy.stats as stats\n",
    "from scipy.stats import norm ,rankdata\n",
    "\n",
    "from scipy.special import boxcox1p\n",
    "from scipy.stats import normaltest\n",
    "import statsmodels\n",
    "import statsmodels.api as sm\n",
    "from scipy.optimize import curve_fit\n",
    "\n",
    "import tensorflow as tf\n",
    "from tensorflow.keras.models import Sequential\n",
    "from tensorflow.keras.layers import Dense, Dropout\n",
    "from tensorflow.keras.wrappers.scikit_learn import KerasClassifier\n",
    "from tensorflow.keras.layers import LSTM\n",
    "\n",
    "\n",
    "from sklearn.model_selection import cross_val_score\n",
    "from sklearn.model_selection import GridSearchCV\n",
    "from sklearn.preprocessing import StandardScaler\n",
    "from sklearn.metrics import confusion_matrix\n",
    "from sklearn.preprocessing import PowerTransformer\n",
    "\n",
    "from sklearn.cluster import KMeans\n",
    "from sklearn.neighbors import KNeighborsClassifier\n",
    "from sklearn.svm import SVC\n",
    "from sklearn.multioutput import MultiOutputClassifier\n",
    "from sklearn.ensemble import GradientBoostingClassifier\n",
    "from sklearn.tree import DecisionTreeClassifier\n",
    "from sklearn.naive_bayes import GaussianNB\n",
    "from sklearn.ensemble import RandomForestClassifier\n",
    "from sklearn.linear_model import LogisticRegression\n",
    "from sklearn.model_selection import KFold, cross_val_score, train_test_split\n",
    "from sklearn.metrics import classification_report,confusion_matrix\n",
    "import xgboost as xgb"
   ]
  },
  {
   "cell_type": "code",
   "execution_count": 2,
   "metadata": {},
   "outputs": [
    {
     "data": {
      "text/html": [
       "<div>\n",
       "<style scoped>\n",
       "    .dataframe tbody tr th:only-of-type {\n",
       "        vertical-align: middle;\n",
       "    }\n",
       "\n",
       "    .dataframe tbody tr th {\n",
       "        vertical-align: top;\n",
       "    }\n",
       "\n",
       "    .dataframe thead th {\n",
       "        text-align: right;\n",
       "    }\n",
       "</style>\n",
       "<table border=\"1\" class=\"dataframe\">\n",
       "  <thead>\n",
       "    <tr style=\"text-align: right;\">\n",
       "      <th></th>\n",
       "      <th>id</th>\n",
       "      <th>url</th>\n",
       "      <th>region</th>\n",
       "      <th>region_url</th>\n",
       "      <th>price</th>\n",
       "      <th>type</th>\n",
       "      <th>sqfeet</th>\n",
       "      <th>beds</th>\n",
       "      <th>baths</th>\n",
       "      <th>cats_allowed</th>\n",
       "      <th>...</th>\n",
       "      <th>wheelchair_access</th>\n",
       "      <th>electric_vehicle_charge</th>\n",
       "      <th>comes_furnished</th>\n",
       "      <th>laundry_options</th>\n",
       "      <th>parking_options</th>\n",
       "      <th>image_url</th>\n",
       "      <th>description</th>\n",
       "      <th>lat</th>\n",
       "      <th>long</th>\n",
       "      <th>state</th>\n",
       "    </tr>\n",
       "  </thead>\n",
       "  <tbody>\n",
       "    <tr>\n",
       "      <th>0</th>\n",
       "      <td>7039061606</td>\n",
       "      <td>https://bham.craigslist.org/apa/d/birmingham-h...</td>\n",
       "      <td>birmingham</td>\n",
       "      <td>https://bham.craigslist.org</td>\n",
       "      <td>1195</td>\n",
       "      <td>apartment</td>\n",
       "      <td>1908</td>\n",
       "      <td>3</td>\n",
       "      <td>2.0</td>\n",
       "      <td>1</td>\n",
       "      <td>...</td>\n",
       "      <td>0</td>\n",
       "      <td>0</td>\n",
       "      <td>0</td>\n",
       "      <td>laundry on site</td>\n",
       "      <td>street parking</td>\n",
       "      <td>https://images.craigslist.org/00L0L_80pNkyDeG0...</td>\n",
       "      <td>Apartments In Birmingham AL Welcome to 100 Inv...</td>\n",
       "      <td>33.4226</td>\n",
       "      <td>-86.7065</td>\n",
       "      <td>al</td>\n",
       "    </tr>\n",
       "  </tbody>\n",
       "</table>\n",
       "<p>1 rows × 22 columns</p>\n",
       "</div>"
      ],
      "text/plain": [
       "           id                                                url      region  \\\n",
       "0  7039061606  https://bham.craigslist.org/apa/d/birmingham-h...  birmingham   \n",
       "\n",
       "                    region_url  price       type  sqfeet  beds  baths  \\\n",
       "0  https://bham.craigslist.org   1195  apartment    1908     3    2.0   \n",
       "\n",
       "   cats_allowed  ...  wheelchair_access  electric_vehicle_charge  \\\n",
       "0             1  ...                  0                        0   \n",
       "\n",
       "   comes_furnished  laundry_options  parking_options  \\\n",
       "0                0  laundry on site   street parking   \n",
       "\n",
       "                                           image_url  \\\n",
       "0  https://images.craigslist.org/00L0L_80pNkyDeG0...   \n",
       "\n",
       "                                         description      lat     long  state  \n",
       "0  Apartments In Birmingham AL Welcome to 100 Inv...  33.4226 -86.7065     al  \n",
       "\n",
       "[1 rows x 22 columns]"
      ]
     },
     "execution_count": 2,
     "metadata": {},
     "output_type": "execute_result"
    }
   ],
   "source": [
    "df = pd.read_csv(\"housing_train.csv\")\n",
    "df.head(1)"
   ]
  },
  {
   "cell_type": "code",
   "execution_count": 3,
   "metadata": {},
   "outputs": [
    {
     "name": "stdout",
     "output_type": "stream",
     "text": [
      "Data Shape: (265190, 22)\n",
      "\n",
      "Columns: Index(['id', 'url', 'region', 'region_url', 'price', 'type', 'sqfeet', 'beds',\n",
      "       'baths', 'cats_allowed', 'dogs_allowed', 'smoking_allowed',\n",
      "       'wheelchair_access', 'electric_vehicle_charge', 'comes_furnished',\n",
      "       'laundry_options', 'parking_options', 'image_url', 'description', 'lat',\n",
      "       'long', 'state'],\n",
      "      dtype='object')\n",
      "\n",
      "<class 'pandas.core.frame.DataFrame'>\n",
      "RangeIndex: 265190 entries, 0 to 265189\n",
      "Data columns (total 22 columns):\n",
      "id                         265190 non-null int64\n",
      "url                        265190 non-null object\n",
      "region                     265190 non-null object\n",
      "region_url                 265190 non-null object\n",
      "price                      265190 non-null int64\n",
      "type                       265190 non-null object\n",
      "sqfeet                     265190 non-null int64\n",
      "beds                       265190 non-null int64\n",
      "baths                      265190 non-null float64\n",
      "cats_allowed               265190 non-null int64\n",
      "dogs_allowed               265190 non-null int64\n",
      "smoking_allowed            265190 non-null int64\n",
      "wheelchair_access          265190 non-null int64\n",
      "electric_vehicle_charge    265190 non-null int64\n",
      "comes_furnished            265190 non-null int64\n",
      "laundry_options            210879 non-null object\n",
      "parking_options            170055 non-null object\n",
      "image_url                  265190 non-null object\n",
      "description                265188 non-null object\n",
      "lat                        263771 non-null float64\n",
      "long                       263771 non-null float64\n",
      "state                      265189 non-null object\n",
      "dtypes: float64(3), int64(10), object(9)\n",
      "memory usage: 44.5+ MB\n",
      "None\n",
      "\n"
     ]
    },
    {
     "data": {
      "text/html": [
       "<div>\n",
       "<style scoped>\n",
       "    .dataframe tbody tr th:only-of-type {\n",
       "        vertical-align: middle;\n",
       "    }\n",
       "\n",
       "    .dataframe tbody tr th {\n",
       "        vertical-align: top;\n",
       "    }\n",
       "\n",
       "    .dataframe thead th {\n",
       "        text-align: right;\n",
       "    }\n",
       "</style>\n",
       "<table border=\"1\" class=\"dataframe\">\n",
       "  <thead>\n",
       "    <tr style=\"text-align: right;\">\n",
       "      <th></th>\n",
       "      <th>id</th>\n",
       "      <th>price</th>\n",
       "      <th>sqfeet</th>\n",
       "      <th>beds</th>\n",
       "      <th>baths</th>\n",
       "      <th>cats_allowed</th>\n",
       "      <th>dogs_allowed</th>\n",
       "      <th>smoking_allowed</th>\n",
       "      <th>wheelchair_access</th>\n",
       "      <th>electric_vehicle_charge</th>\n",
       "      <th>comes_furnished</th>\n",
       "      <th>lat</th>\n",
       "      <th>long</th>\n",
       "    </tr>\n",
       "  </thead>\n",
       "  <tbody>\n",
       "    <tr>\n",
       "      <th>count</th>\n",
       "      <td>2.651900e+05</td>\n",
       "      <td>2.651900e+05</td>\n",
       "      <td>2.651900e+05</td>\n",
       "      <td>265190.000000</td>\n",
       "      <td>265190.000000</td>\n",
       "      <td>265190.000000</td>\n",
       "      <td>265190.000000</td>\n",
       "      <td>265190.000000</td>\n",
       "      <td>265190.000000</td>\n",
       "      <td>265190.000000</td>\n",
       "      <td>265190.000000</td>\n",
       "      <td>263771.000000</td>\n",
       "      <td>263771.000000</td>\n",
       "    </tr>\n",
       "    <tr>\n",
       "      <th>mean</th>\n",
       "      <td>7.040888e+09</td>\n",
       "      <td>1.227285e+04</td>\n",
       "      <td>1.093678e+03</td>\n",
       "      <td>1.912414</td>\n",
       "      <td>1.483468</td>\n",
       "      <td>0.716822</td>\n",
       "      <td>0.696550</td>\n",
       "      <td>0.733896</td>\n",
       "      <td>0.078759</td>\n",
       "      <td>0.014360</td>\n",
       "      <td>0.048644</td>\n",
       "      <td>37.208855</td>\n",
       "      <td>-92.398149</td>\n",
       "    </tr>\n",
       "    <tr>\n",
       "      <th>std</th>\n",
       "      <td>8.778930e+06</td>\n",
       "      <td>5.376352e+06</td>\n",
       "      <td>2.306888e+04</td>\n",
       "      <td>3.691900</td>\n",
       "      <td>0.630208</td>\n",
       "      <td>0.450543</td>\n",
       "      <td>0.459749</td>\n",
       "      <td>0.441920</td>\n",
       "      <td>0.269362</td>\n",
       "      <td>0.118968</td>\n",
       "      <td>0.215124</td>\n",
       "      <td>5.659648</td>\n",
       "      <td>17.370780</td>\n",
       "    </tr>\n",
       "    <tr>\n",
       "      <th>min</th>\n",
       "      <td>7.003808e+09</td>\n",
       "      <td>0.000000e+00</td>\n",
       "      <td>0.000000e+00</td>\n",
       "      <td>0.000000</td>\n",
       "      <td>0.000000</td>\n",
       "      <td>0.000000</td>\n",
       "      <td>0.000000</td>\n",
       "      <td>0.000000</td>\n",
       "      <td>0.000000</td>\n",
       "      <td>0.000000</td>\n",
       "      <td>0.000000</td>\n",
       "      <td>-43.533300</td>\n",
       "      <td>-163.894000</td>\n",
       "    </tr>\n",
       "    <tr>\n",
       "      <th>25%</th>\n",
       "      <td>7.035963e+09</td>\n",
       "      <td>8.170000e+02</td>\n",
       "      <td>7.520000e+02</td>\n",
       "      <td>1.000000</td>\n",
       "      <td>1.000000</td>\n",
       "      <td>0.000000</td>\n",
       "      <td>0.000000</td>\n",
       "      <td>0.000000</td>\n",
       "      <td>0.000000</td>\n",
       "      <td>0.000000</td>\n",
       "      <td>0.000000</td>\n",
       "      <td>33.508500</td>\n",
       "      <td>-104.704000</td>\n",
       "    </tr>\n",
       "    <tr>\n",
       "      <th>50%</th>\n",
       "      <td>7.043109e+09</td>\n",
       "      <td>1.060000e+03</td>\n",
       "      <td>9.500000e+02</td>\n",
       "      <td>2.000000</td>\n",
       "      <td>1.000000</td>\n",
       "      <td>1.000000</td>\n",
       "      <td>1.000000</td>\n",
       "      <td>1.000000</td>\n",
       "      <td>0.000000</td>\n",
       "      <td>0.000000</td>\n",
       "      <td>0.000000</td>\n",
       "      <td>37.984900</td>\n",
       "      <td>-86.478300</td>\n",
       "    </tr>\n",
       "    <tr>\n",
       "      <th>75%</th>\n",
       "      <td>7.048362e+09</td>\n",
       "      <td>1.450000e+03</td>\n",
       "      <td>1.156000e+03</td>\n",
       "      <td>2.000000</td>\n",
       "      <td>2.000000</td>\n",
       "      <td>1.000000</td>\n",
       "      <td>1.000000</td>\n",
       "      <td>1.000000</td>\n",
       "      <td>0.000000</td>\n",
       "      <td>0.000000</td>\n",
       "      <td>0.000000</td>\n",
       "      <td>41.168400</td>\n",
       "      <td>-81.284600</td>\n",
       "    </tr>\n",
       "    <tr>\n",
       "      <th>max</th>\n",
       "      <td>7.051263e+09</td>\n",
       "      <td>2.768307e+09</td>\n",
       "      <td>8.388607e+06</td>\n",
       "      <td>1100.000000</td>\n",
       "      <td>75.000000</td>\n",
       "      <td>1.000000</td>\n",
       "      <td>1.000000</td>\n",
       "      <td>1.000000</td>\n",
       "      <td>1.000000</td>\n",
       "      <td>1.000000</td>\n",
       "      <td>1.000000</td>\n",
       "      <td>102.036000</td>\n",
       "      <td>172.633000</td>\n",
       "    </tr>\n",
       "  </tbody>\n",
       "</table>\n",
       "</div>"
      ],
      "text/plain": [
       "                 id         price        sqfeet           beds          baths  \\\n",
       "count  2.651900e+05  2.651900e+05  2.651900e+05  265190.000000  265190.000000   \n",
       "mean   7.040888e+09  1.227285e+04  1.093678e+03       1.912414       1.483468   \n",
       "std    8.778930e+06  5.376352e+06  2.306888e+04       3.691900       0.630208   \n",
       "min    7.003808e+09  0.000000e+00  0.000000e+00       0.000000       0.000000   \n",
       "25%    7.035963e+09  8.170000e+02  7.520000e+02       1.000000       1.000000   \n",
       "50%    7.043109e+09  1.060000e+03  9.500000e+02       2.000000       1.000000   \n",
       "75%    7.048362e+09  1.450000e+03  1.156000e+03       2.000000       2.000000   \n",
       "max    7.051263e+09  2.768307e+09  8.388607e+06    1100.000000      75.000000   \n",
       "\n",
       "        cats_allowed   dogs_allowed  smoking_allowed  wheelchair_access  \\\n",
       "count  265190.000000  265190.000000    265190.000000      265190.000000   \n",
       "mean        0.716822       0.696550         0.733896           0.078759   \n",
       "std         0.450543       0.459749         0.441920           0.269362   \n",
       "min         0.000000       0.000000         0.000000           0.000000   \n",
       "25%         0.000000       0.000000         0.000000           0.000000   \n",
       "50%         1.000000       1.000000         1.000000           0.000000   \n",
       "75%         1.000000       1.000000         1.000000           0.000000   \n",
       "max         1.000000       1.000000         1.000000           1.000000   \n",
       "\n",
       "       electric_vehicle_charge  comes_furnished            lat           long  \n",
       "count            265190.000000    265190.000000  263771.000000  263771.000000  \n",
       "mean                  0.014360         0.048644      37.208855     -92.398149  \n",
       "std                   0.118968         0.215124       5.659648      17.370780  \n",
       "min                   0.000000         0.000000     -43.533300    -163.894000  \n",
       "25%                   0.000000         0.000000      33.508500    -104.704000  \n",
       "50%                   0.000000         0.000000      37.984900     -86.478300  \n",
       "75%                   0.000000         0.000000      41.168400     -81.284600  \n",
       "max                   1.000000         1.000000     102.036000     172.633000  "
      ]
     },
     "execution_count": 3,
     "metadata": {},
     "output_type": "execute_result"
    }
   ],
   "source": [
    "print(\"Data Shape: \"+str(df.shape))\n",
    "print()\n",
    "print(\"Columns: \"+str(df.columns))\n",
    "print()\n",
    "print(df.info())\n",
    "print()\n",
    "df.describe()"
   ]
  },
  {
   "cell_type": "markdown",
   "metadata": {},
   "source": [
    "## 1) Data Cleaning"
   ]
  },
  {
   "cell_type": "markdown",
   "metadata": {},
   "source": [
    "My plan for data preparation: \n",
    " - drop duplicated rows if any.\n",
    " - remove outliers\n",
    " - filling missing values"
   ]
  },
  {
   "cell_type": "markdown",
   "metadata": {},
   "source": [
    "### a. Drop duplicates"
   ]
  },
  {
   "cell_type": "code",
   "execution_count": 4,
   "metadata": {},
   "outputs": [
    {
<<<<<<< HEAD
     "name": "stdout",
     "output_type": "stream",
     "text": [
      "0\n"
     ]
=======
     "data": {
      "text/plain": [
       "id                             0\n",
       "url                            0\n",
       "region                         0\n",
       "region_url                     0\n",
       "price                          0\n",
       "type                           0\n",
       "sqfeet                         0\n",
       "beds                           0\n",
       "baths                          0\n",
       "cats_allowed                   0\n",
       "dogs_allowed                   0\n",
       "smoking_allowed                0\n",
       "wheelchair_access              0\n",
       "electric_vehicle_charge        0\n",
       "comes_furnished                0\n",
       "laundry_options            54311\n",
       "parking_options            95135\n",
       "image_url                      0\n",
       "description                    2\n",
       "lat                         1419\n",
       "long                        1419\n",
       "state                          1\n",
       "dtype: int64"
      ]
     },
     "execution_count": 4,
     "metadata": {},
     "output_type": "execute_result"
>>>>>>> 31c980bd0e872019bd9d1d6c9b2aa2cc14bc45e0
    }
   ],
   "source": [
    "print(df.duplicated().sum())\n",
    "df.drop_duplicates(inplace=True)"
   ]
  },
  {
   "cell_type": "markdown",
   "metadata": {},
   "source": [
    "### b. Removing Outliers"
   ]
  },
  {
   "cell_type": "markdown",
   "metadata": {},
   "source": [
    "#### price and sqfeet outlier removal"
   ]
  },
  {
   "cell_type": "code",
   "execution_count": 5,
   "metadata": {},
   "outputs": [],
   "source": [
    "def feature_outlier_removal(data, feature, min_q, max_q):\n",
    "    feature_min_outlier_mask = data[feature] > data[feature].quantile(min_q)\n",
    "    feature_max_outlier_mask = data[feature] < data[feature].quantile(max_q)\n",
    "    data = data[(feature_min_outlier_mask) & (feature_max_outlier_mask)]\n",
    "    print(feature, \"min: \", min(data[feature]))\n",
    "    print(feature, \"max: \", max(data[feature]))\n",
    "    return data\n",
    "\n",
    "def numerical_outlier_removal(data):\n",
    "    data = feature_outlier_removal(data, \"price\", 0.01, 0.999)\n",
    "    data = feature_outlier_removal(data, \"sqfeet\", 0.002, 0.999)\n",
    "    return data"
   ]
  },
  {
   "cell_type": "code",
   "execution_count": 6,
   "metadata": {},
   "outputs": [
    {
     "name": "stdout",
     "output_type": "stream",
     "text": [
      "price min:  326\n",
      "price max:  7700\n",
      "sqfeet min:  54\n",
      "sqfeet max:  4005\n",
      "\n",
      "Outliers Removed : 3760\n",
      "Data Shape:  261430\n"
     ]
    }
   ],
   "source": [
    "raw_df = numerical_outlier_removal(df)\n",
    "print(\"\\nOutliers Removed :\", df.shape[0] - raw_df.shape[0])\n",
    "print(\"Data Shape: \", raw_df.shape[0])"
   ]
  },
  {
   "cell_type": "markdown",
   "metadata": {},
   "source": [
    "#### beds and baths outlier removal"
   ]
  },
  {
   "cell_type": "code",
   "execution_count": 7,
   "metadata": {},
   "outputs": [
    {
     "name": "stdout",
     "output_type": "stream",
     "text": [
      "Data Shape:  260159\n"
     ]
    }
   ],
   "source": [
    "raw_df = raw_df[raw_df['beds'] <= 6] \n",
    "raw_df = raw_df[raw_df['baths'] <= 3.5] \n",
    "\n",
    "print(\"Data Shape: \", raw_df.shape[0])"
   ]
  },
  {
   "cell_type": "markdown",
   "metadata": {},
   "source": [
    "#### type outlier removal"
   ]
  },
  {
   "cell_type": "code",
<<<<<<< HEAD
   "execution_count": 8,
=======
   "execution_count": 5,
>>>>>>> 31c980bd0e872019bd9d1d6c9b2aa2cc14bc45e0
   "metadata": {},
   "outputs": [
    {
     "data": {
      "text/plain": [
       "apartment         True\n",
       "house             True\n",
       "townhouse         True\n",
       "condo             True\n",
       "duplex            True\n",
       "manufactured      True\n",
       "cottage/cabin     True\n",
       "loft              True\n",
       "flat              True\n",
       "in-law            True\n",
       "land             False\n",
       "Name: type, dtype: bool"
      ]
     },
<<<<<<< HEAD
     "execution_count": 8,
=======
     "execution_count": 5,
>>>>>>> 31c980bd0e872019bd9d1d6c9b2aa2cc14bc45e0
     "metadata": {},
     "output_type": "execute_result"
    }
   ],
   "source": [
    "raw_df['type'].value_counts() >= 100 "
   ]
  },
  {
   "cell_type": "code",
<<<<<<< HEAD
   "execution_count": 9,
   "metadata": {},
   "outputs": [
    {
     "data": {
      "text/plain": [
       "apartment        214414\n",
       "house             22899\n",
       "townhouse         10182\n",
       "condo              4766\n",
       "duplex             3406\n",
       "manufactured       2937\n",
       "cottage/cabin       561\n",
       "loft                507\n",
       "flat                344\n",
       "in-law              140\n",
       "land                  3\n",
       "Name: type, dtype: int64"
      ]
     },
     "execution_count": 9,
     "metadata": {},
     "output_type": "execute_result"
    }
   ],
   "source": [
    "raw_df['type'].value_counts()"
   ]
  },
  {
   "cell_type": "markdown",
   "metadata": {},
   "source": [
    "#### lat and long outlier removal"
   ]
  },
  {
   "cell_type": "markdown",
   "metadata": {},
   "source": [
    "The valid range of latitude in degrees is -90 and +90 for the southern and northern hemisphere respectively. Longitude is in the range -180 and +180 specifying coordinates west and east of the Prime Meridian, respectively. But here we are dealing wiht US data, so, Lat-long coorditates for cities in United States are in range: Latitude from 19.50139 to 64.85694 and longitude from -161.75583 to -68.01197."
=======
   "execution_count": 6,
   "metadata": {},
   "outputs": [],
   "source": [
    "# TODO: open this\n",
    "\n",
    "\n",
    "# from urllib.parse import urlparse, parse_qs\n",
    "# from tqdm import tqdm\n",
    "# disc = {\"url_parsed_loc\": [], \"url_params\":[], \"url_path_components\": []}\n",
    "\n",
    "# for i in tqdm(range(df.shape[0]), position=0, leave=True):\n",
    "#     parsed = urlparse(df.url[i])\n",
    "#     disc[\"url_parsed_loc\"].append(parsed.netloc)\n",
    "    \n",
    "#     params = parse_qs(parsed.query)\n",
    "#     disc[\"url_params\"].append(params)\n",
    "    \n",
    "#     path_components = list(filter(bool, parsed.path.split('/')))\n",
    "#     disc[\"url_path_components\"].append(path_components)"
>>>>>>> 31c980bd0e872019bd9d1d6c9b2aa2cc14bc45e0
   ]
  },
  {
   "cell_type": "code",
<<<<<<< HEAD
   "execution_count": 10,
   "metadata": {},
   "outputs": [
    {
     "name": "stdout",
     "output_type": "stream",
     "text": [
      "lat min:  19.5295\n",
      "lat max:  64.8569\n",
      "long min:  -159.53\n",
      "long max:  -68.2071\n",
      "Data Shape:  258420\n"
     ]
    }
   ],
   "source": [
    "lat_min_mask = raw_df['lat'] >= 19.50139\n",
    "lat_max_mask = raw_df['lat'] <= 64.85694\n",
    "raw_df = raw_df[(lat_min_mask) & (lat_max_mask)]\n",
    "\n",
    "long_min_mask = raw_df['long'] >= -161.75583\n",
    "long_max_mask = raw_df['long'] <= -68.01197\n",
    "raw_df = raw_df[(long_min_mask) & (long_max_mask)]\n",
    "\n",
    "print(\"lat min: \", min(raw_df.lat))\n",
    "print(\"lat max: \", max(raw_df.lat))\n",
    "print(\"long min: \", min(raw_df.long))\n",
    "print(\"long max: \", max(raw_df.long))\n",
    "print(\"Data Shape: \", raw_df.shape[0])"
   ]
  },
  {
   "cell_type": "code",
   "execution_count": 11,
   "metadata": {},
   "outputs": [],
   "source": [
    "def Lat_long_outlier_removal(data):\n",
    "    data = feature_outlier_removal(data, \"lat\", 0.01, 0.999)\n",
    "    data = feature_outlier_removal(data, \"long\", 0.01, 0.999)\n",
    "    return data"
=======
   "execution_count": 7,
   "metadata": {},
   "outputs": [],
   "source": [
    "# TODO: open this\n",
    "\n",
    "# url_df = pd.DataFrame(disc)\n",
    "# print(url_df.url_params.value_counts())\n",
    "# url_df.head()"
>>>>>>> 31c980bd0e872019bd9d1d6c9b2aa2cc14bc45e0
   ]
  },
  {
   "cell_type": "code",
<<<<<<< HEAD
   "execution_count": 12,
   "metadata": {},
   "outputs": [
    {
     "name": "stdout",
     "output_type": "stream",
     "text": [
      "lat min:  25.7805\n",
      "lat max:  61.601000000000006\n",
      "long min:  -122.404\n",
      "long max:  -70.2628\n",
      "\n",
      "Outliers Removed : 5651\n",
      "Data Shape:  252769\n"
     ]
    }
   ],
   "source": [
    "lat_long_df = Lat_long_outlier_removal(raw_df)\n",
    "print(\"\\nOutliers Removed :\", raw_df.shape[0] - lat_long_df.shape[0])\n",
    "print(\"Data Shape: \", lat_long_df.shape[0])"
   ]
  },
  {
   "cell_type": "markdown",
   "metadata": {},
   "source": [
    "### c. Filling missing values"
=======
   "execution_count": 8,
   "metadata": {},
   "outputs": [],
   "source": [
    "# TODO: open this\n",
    "\n",
    "\n",
    "# url_df.drop(\"url_params\", axis=1, inplace=True)\n",
    "# url_df.head()"
>>>>>>> 31c980bd0e872019bd9d1d6c9b2aa2cc14bc45e0
   ]
  },
  {
   "cell_type": "code",
<<<<<<< HEAD
   "execution_count": 13,
   "metadata": {},
   "outputs": [
    {
     "name": "stdout",
     "output_type": "stream",
     "text": [
      "laundry_options    53174\n",
      "parking_options    92535\n",
      "description            2\n",
      "dtype: int64\n"
     ]
    },
    {
     "data": {
      "image/png": "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\n",
      "text/plain": [
       "<Figure size 432x288 with 1 Axes>"
      ]
     },
     "metadata": {
      "needs_background": "light"
     },
     "output_type": "display_data"
    }
   ],
   "source": [
    "missing = raw_df.isnull().sum()\n",
    "missing = missing[missing > 0]\n",
    "print(missing)\n",
    "missing.sort_values(inplace=True)\n",
    "try:\n",
    "    missing.plot.bar()\n",
    "except:\n",
    "    pass"
   ]
  },
  {
   "cell_type": "markdown",
   "metadata": {},
   "source": [
    "#### work on Laundry Options: Model based imputation (filling missing values)"
   ]
  },
  {
   "cell_type": "code",
   "execution_count": 14,
   "metadata": {},
   "outputs": [
    {
     "name": "stdout",
     "output_type": "stream",
     "text": [
      "w/d in unit           88578\n",
      "w/d hookups           49280\n",
      "laundry on site       37922\n",
      "laundry in bldg       27025\n",
      "no laundry on site     2441\n",
      "Name: laundry_options, dtype: int64\n",
      "53174\n"
     ]
    }
   ],
   "source": [
    "#before imputation\n",
    "print(raw_df[\"laundry_options\"].value_counts())\n",
    "print(raw_df[\"laundry_options\"].isna().sum())"
=======
   "execution_count": 9,
   "metadata": {},
   "outputs": [],
   "source": [
    "# TODO: open this\n",
    "\n",
    "\n",
    "# cnt=0\n",
    "# for i in tqdm(range(df.shape[0]), position=0, leave=True):\n",
    "#     if df[\"region_url\"][i].find(url_df[\"url_parsed_loc\"][i]) >= 0: \n",
    "#         cnt+=1\n",
    "\n",
    "# print(\"Count: \"+str(cnt))\n",
    "# print(\"Error rate: \"+str(1-(cnt/df.shape[0])))"
>>>>>>> 31c980bd0e872019bd9d1d6c9b2aa2cc14bc45e0
   ]
  },
  {
   "cell_type": "code",
<<<<<<< HEAD
   "execution_count": 15,
=======
   "execution_count": 10,
>>>>>>> 31c980bd0e872019bd9d1d6c9b2aa2cc14bc45e0
   "metadata": {},
   "outputs": [
    {
     "name": "stdout",
     "output_type": "stream",
     "text": [
      "['w/d in unit' 'w/d hookups' 'w/d hookups' ... 'laundry in bldg'\n",
      " 'laundry on site' 'w/d in unit']\n",
      "53174\n"
     ]
    }
   ],
   "source": [
    "from sklearn.neighbors import KNeighborsClassifier\n",
    "decide_cols = [\"beds\", \"baths\", \"cats_allowed\", \"dogs_allowed\", \n",
    "               \"smoking_allowed\", \"wheelchair_access\", \"electric_vehicle_charge\",\n",
    "               \"comes_furnished\", \"price\" ]\n",
    "\n",
    "X_train = raw_df[decide_cols][raw_df[\"laundry_options\"].isna()==False]\n",
    "y_train = raw_df[\"laundry_options\"][raw_df[\"laundry_options\"].isna()==False]\n",
    "X_test = raw_df[decide_cols][raw_df[\"laundry_options\"].isna()==True]\n",
    " \n",
    "neigh = KNeighborsClassifier(n_neighbors=5)\n",
    "neigh.fit(X_train, y_train)\n",
    "laundry_pred = neigh.predict(X_test)\n",
    "print(laundry_pred)\n",
    "print(laundry_pred.size)\n",
    "\n",
    "# filling missing values\n",
    "raw_df[\"laundry_options\"][raw_df[\"laundry_options\"].isna()==True] = laundry_pred"
   ]
  },
  {
   "cell_type": "code",
   "execution_count": 16,
   "metadata": {},
   "outputs": [
    {
     "name": "stdout",
     "output_type": "stream",
     "text": [
      "w/d in unit           109670\n",
      "w/d hookups            63410\n",
      "laundry on site        48624\n",
      "laundry in bldg        34049\n",
      "no laundry on site      2667\n",
      "Name: laundry_options, dtype: int64\n",
      "0\n"
     ]
    }
   ],
   "source": [
    "#after imputation\n",
    "print(raw_df[\"laundry_options\"].value_counts())\n",
    "print(raw_df[\"laundry_options\"].isna().sum())"
   ]
  },
  {
   "cell_type": "markdown",
   "metadata": {},
   "source": [
    "#### work on Parking Options: Model based imputation (filling missing values)"
   ]
  },
  {
   "cell_type": "code",
<<<<<<< HEAD
   "execution_count": 17,
=======
   "execution_count": 11,
>>>>>>> 31c980bd0e872019bd9d1d6c9b2aa2cc14bc45e0
   "metadata": {},
   "outputs": [
    {
     "name": "stdout",
     "output_type": "stream",
     "text": [
      "off-street parking    86067\n",
      "carport               28073\n",
      "attached garage       26662\n",
      "detached garage       12648\n",
      "street parking        10381\n",
      "no parking             1934\n",
      "valet parking           120\n",
      "Name: parking_options, dtype: int64\n",
      "92535\n"
     ]
    }
   ],
   "source": [
    "#before imputation\n",
    "print(raw_df[\"parking_options\"].value_counts())\n",
    "print(raw_df[\"parking_options\"].isna().sum())"
   ]
  },
  {
   "cell_type": "code",
<<<<<<< HEAD
   "execution_count": 18,
=======
   "execution_count": 12,
>>>>>>> 31c980bd0e872019bd9d1d6c9b2aa2cc14bc45e0
   "metadata": {},
   "outputs": [
    {
     "name": "stdout",
     "output_type": "stream",
     "text": [
      "['off-street parking' 'attached garage' 'off-street parking' ... 'carport'\n",
      " 'off-street parking' 'attached garage']\n",
      "92535\n"
     ]
    }
   ],
   "source": [
    "from sklearn.neighbors import KNeighborsClassifier\n",
    "decide_cols = [\"beds\", \"baths\", \"cats_allowed\", \"dogs_allowed\", \n",
    "               \"smoking_allowed\", \"wheelchair_access\", \"electric_vehicle_charge\",\n",
    "               \"comes_furnished\", \"price\" ]\n",
    "\n",
    "X_train = raw_df[decide_cols][raw_df[\"parking_options\"].isna()==False]\n",
    "y_train = raw_df[\"parking_options\"][raw_df[\"parking_options\"].isna()==False]\n",
    "X_test = raw_df[decide_cols][raw_df[\"parking_options\"].isna()==True]\n",
    " \n",
    "neigh = KNeighborsClassifier(n_neighbors=7)\n",
    "neigh.fit(X_train, y_train)\n",
    "laundry_pred = neigh.predict(X_test)\n",
    "print(laundry_pred)\n",
    "print(laundry_pred.size)\n",
    "\n",
    "# filling missing values\n",
    "raw_df[\"parking_options\"][raw_df[\"parking_options\"].isna()==True] = laundry_pred"
   ]
  },
  {
   "cell_type": "code",
<<<<<<< HEAD
   "execution_count": 19,
=======
   "execution_count": 13,
>>>>>>> 31c980bd0e872019bd9d1d6c9b2aa2cc14bc45e0
   "metadata": {},
   "outputs": [
    {
     "name": "stdout",
     "output_type": "stream",
     "text": [
      "off-street parking    141128\n",
      "carport                44725\n",
      "attached garage        39685\n",
      "detached garage        16452\n",
      "street parking         13581\n",
      "no parking              2722\n",
      "valet parking            127\n",
      "Name: parking_options, dtype: int64\n",
      "0\n"
     ]
    }
   ],
   "source": [
    "#after imputation\n",
<<<<<<< HEAD
    "print(raw_df[\"parking_options\"].value_counts())\n",
    "print(raw_df[\"parking_options\"].isna().sum())"
   ]
  },
  {
   "cell_type": "markdown",
   "metadata": {},
   "source": [
    "#### removing remaining empty features"
   ]
  },
  {
   "cell_type": "code",
   "execution_count": 20,
   "metadata": {},
   "outputs": [
    {
     "name": "stdout",
     "output_type": "stream",
     "text": [
      "id                         0\n",
      "url                        0\n",
      "region                     0\n",
      "region_url                 0\n",
      "price                      0\n",
      "type                       0\n",
      "sqfeet                     0\n",
      "beds                       0\n",
      "baths                      0\n",
      "cats_allowed               0\n",
      "dogs_allowed               0\n",
      "smoking_allowed            0\n",
      "wheelchair_access          0\n",
      "electric_vehicle_charge    0\n",
      "comes_furnished            0\n",
      "laundry_options            0\n",
      "parking_options            0\n",
      "image_url                  0\n",
      "description                2\n",
      "lat                        0\n",
      "long                       0\n",
      "state                      0\n",
      "dtype: int64\n"
     ]
    }
   ],
   "source": [
    "print(raw_df.isnull().sum())\n",
    "raw_df.dropna(inplace=True)"
=======
    "print(df[\"laundry_options\"].value_counts())\n",
    "print(df[\"laundry_options\"].isna().sum())"
>>>>>>> 31c980bd0e872019bd9d1d6c9b2aa2cc14bc45e0
   ]
  },
  {
   "cell_type": "markdown",
   "metadata": {},
   "source": [
    "### One-hot Encoding for 5 categories"
   ]
  },
  {
   "cell_type": "code",
<<<<<<< HEAD
   "execution_count": 21,
=======
   "execution_count": 14,
>>>>>>> 31c980bd0e872019bd9d1d6c9b2aa2cc14bc45e0
   "metadata": {},
   "outputs": [
    {
     "name": "stdout",
     "output_type": "stream",
     "text": [
      "Index(['id', 'url', 'region', 'region_url', 'price', 'type', 'sqfeet', 'beds',\n",
      "       'baths', 'cats_allowed', 'dogs_allowed', 'smoking_allowed',\n",
      "       'wheelchair_access', 'electric_vehicle_charge', 'comes_furnished',\n",
      "       'laundry_options', 'parking_options', 'image_url', 'description', 'lat',\n",
      "       'long', 'state'],\n",
      "      dtype='object')\n",
      "<class 'pandas.core.frame.DataFrame'>\n",
      "Int64Index: 258418 entries, 0 to 265188\n",
      "Data columns (total 22 columns):\n",
      "id                         258418 non-null int64\n",
      "url                        258418 non-null object\n",
      "region                     258418 non-null object\n",
      "region_url                 258418 non-null object\n",
      "price                      258418 non-null int64\n",
      "type                       258418 non-null object\n",
      "sqfeet                     258418 non-null int64\n",
      "beds                       258418 non-null int64\n",
      "baths                      258418 non-null float64\n",
      "cats_allowed               258418 non-null int64\n",
      "dogs_allowed               258418 non-null int64\n",
      "smoking_allowed            258418 non-null int64\n",
      "wheelchair_access          258418 non-null int64\n",
      "electric_vehicle_charge    258418 non-null int64\n",
      "comes_furnished            258418 non-null int64\n",
      "laundry_options            258418 non-null object\n",
      "parking_options            258418 non-null object\n",
      "image_url                  258418 non-null object\n",
      "description                258418 non-null object\n",
      "lat                        258418 non-null float64\n",
      "long                       258418 non-null float64\n",
      "state                      258418 non-null object\n",
      "dtypes: float64(3), int64(10), object(9)\n",
      "memory usage: 45.3+ MB\n",
      "None\n"
     ]
    },
    {
     "data": {
      "text/html": [
       "<div>\n",
       "<style scoped>\n",
       "    .dataframe tbody tr th:only-of-type {\n",
       "        vertical-align: middle;\n",
       "    }\n",
       "\n",
       "    .dataframe tbody tr th {\n",
       "        vertical-align: top;\n",
       "    }\n",
       "\n",
       "    .dataframe thead th {\n",
       "        text-align: right;\n",
       "    }\n",
       "</style>\n",
       "<table border=\"1\" class=\"dataframe\">\n",
       "  <thead>\n",
       "    <tr style=\"text-align: right;\">\n",
       "      <th></th>\n",
       "      <th>id</th>\n",
       "      <th>price</th>\n",
       "      <th>sqfeet</th>\n",
       "      <th>beds</th>\n",
       "      <th>baths</th>\n",
       "      <th>cats_allowed</th>\n",
       "      <th>dogs_allowed</th>\n",
       "      <th>smoking_allowed</th>\n",
       "      <th>wheelchair_access</th>\n",
       "      <th>electric_vehicle_charge</th>\n",
       "      <th>comes_furnished</th>\n",
       "      <th>lat</th>\n",
       "      <th>long</th>\n",
       "    </tr>\n",
       "  </thead>\n",
       "  <tbody>\n",
       "    <tr>\n",
       "      <th>count</th>\n",
       "      <td>2.584180e+05</td>\n",
       "      <td>258418.000000</td>\n",
       "      <td>258418.000000</td>\n",
       "      <td>258418.000000</td>\n",
       "      <td>258418.000000</td>\n",
       "      <td>258418.000000</td>\n",
       "      <td>258418.000000</td>\n",
       "      <td>258418.000000</td>\n",
       "      <td>258418.000000</td>\n",
       "      <td>258418.000000</td>\n",
       "      <td>258418.000000</td>\n",
       "      <td>258418.000000</td>\n",
       "      <td>258418.000000</td>\n",
       "    </tr>\n",
       "    <tr>\n",
       "      <th>mean</th>\n",
       "      <td>7.040908e+09</td>\n",
       "      <td>1227.368303</td>\n",
       "      <td>994.217384</td>\n",
       "      <td>1.887616</td>\n",
       "      <td>1.468321</td>\n",
       "      <td>0.721118</td>\n",
       "      <td>0.700133</td>\n",
       "      <td>0.735301</td>\n",
       "      <td>0.078241</td>\n",
       "      <td>0.014519</td>\n",
       "      <td>0.043213</td>\n",
       "      <td>37.211948</td>\n",
       "      <td>-92.514286</td>\n",
       "    </tr>\n",
       "    <tr>\n",
       "      <th>std</th>\n",
       "      <td>8.780741e+06</td>\n",
       "      <td>612.498897</td>\n",
       "      <td>363.082971</td>\n",
       "      <td>0.861095</td>\n",
       "      <td>0.556511</td>\n",
       "      <td>0.448450</td>\n",
       "      <td>0.458200</td>\n",
       "      <td>0.441174</td>\n",
       "      <td>0.268552</td>\n",
       "      <td>0.119618</td>\n",
       "      <td>0.203337</td>\n",
       "      <td>5.629612</td>\n",
       "      <td>16.390909</td>\n",
       "    </tr>\n",
       "    <tr>\n",
       "      <th>min</th>\n",
       "      <td>7.003808e+09</td>\n",
       "      <td>326.000000</td>\n",
       "      <td>54.000000</td>\n",
       "      <td>0.000000</td>\n",
       "      <td>0.000000</td>\n",
       "      <td>0.000000</td>\n",
       "      <td>0.000000</td>\n",
       "      <td>0.000000</td>\n",
       "      <td>0.000000</td>\n",
       "      <td>0.000000</td>\n",
       "      <td>0.000000</td>\n",
       "      <td>19.529500</td>\n",
       "      <td>-159.530000</td>\n",
       "    </tr>\n",
       "    <tr>\n",
       "      <th>25%</th>\n",
       "      <td>7.035989e+09</td>\n",
       "      <td>825.000000</td>\n",
       "      <td>755.000000</td>\n",
       "      <td>1.000000</td>\n",
       "      <td>1.000000</td>\n",
       "      <td>0.000000</td>\n",
       "      <td>0.000000</td>\n",
       "      <td>0.000000</td>\n",
       "      <td>0.000000</td>\n",
       "      <td>0.000000</td>\n",
       "      <td>0.000000</td>\n",
       "      <td>33.513500</td>\n",
       "      <td>-104.595000</td>\n",
       "    </tr>\n",
       "    <tr>\n",
       "      <th>50%</th>\n",
       "      <td>7.043197e+09</td>\n",
       "      <td>1074.000000</td>\n",
       "      <td>950.000000</td>\n",
       "      <td>2.000000</td>\n",
       "      <td>1.000000</td>\n",
       "      <td>1.000000</td>\n",
       "      <td>1.000000</td>\n",
       "      <td>1.000000</td>\n",
       "      <td>0.000000</td>\n",
       "      <td>0.000000</td>\n",
       "      <td>0.000000</td>\n",
       "      <td>37.987000</td>\n",
       "      <td>-86.469200</td>\n",
       "    </tr>\n",
       "    <tr>\n",
       "      <th>75%</th>\n",
       "      <td>7.048373e+09</td>\n",
       "      <td>1450.000000</td>\n",
       "      <td>1150.000000</td>\n",
       "      <td>2.000000</td>\n",
       "      <td>2.000000</td>\n",
       "      <td>1.000000</td>\n",
       "      <td>1.000000</td>\n",
       "      <td>1.000000</td>\n",
       "      <td>0.000000</td>\n",
       "      <td>0.000000</td>\n",
       "      <td>0.000000</td>\n",
       "      <td>41.181000</td>\n",
       "      <td>-81.283900</td>\n",
       "    </tr>\n",
       "    <tr>\n",
       "      <th>max</th>\n",
       "      <td>7.051263e+09</td>\n",
       "      <td>7700.000000</td>\n",
       "      <td>4000.000000</td>\n",
       "      <td>6.000000</td>\n",
       "      <td>3.500000</td>\n",
       "      <td>1.000000</td>\n",
       "      <td>1.000000</td>\n",
       "      <td>1.000000</td>\n",
       "      <td>1.000000</td>\n",
       "      <td>1.000000</td>\n",
       "      <td>1.000000</td>\n",
       "      <td>64.856900</td>\n",
       "      <td>-68.207100</td>\n",
       "    </tr>\n",
       "  </tbody>\n",
       "</table>\n",
       "</div>"
      ],
      "text/plain": [
       "                 id          price         sqfeet           beds  \\\n",
       "count  2.584180e+05  258418.000000  258418.000000  258418.000000   \n",
       "mean   7.040908e+09    1227.368303     994.217384       1.887616   \n",
       "std    8.780741e+06     612.498897     363.082971       0.861095   \n",
       "min    7.003808e+09     326.000000      54.000000       0.000000   \n",
       "25%    7.035989e+09     825.000000     755.000000       1.000000   \n",
       "50%    7.043197e+09    1074.000000     950.000000       2.000000   \n",
       "75%    7.048373e+09    1450.000000    1150.000000       2.000000   \n",
       "max    7.051263e+09    7700.000000    4000.000000       6.000000   \n",
       "\n",
       "               baths   cats_allowed   dogs_allowed  smoking_allowed  \\\n",
       "count  258418.000000  258418.000000  258418.000000    258418.000000   \n",
       "mean        1.468321       0.721118       0.700133         0.735301   \n",
       "std         0.556511       0.448450       0.458200         0.441174   \n",
       "min         0.000000       0.000000       0.000000         0.000000   \n",
       "25%         1.000000       0.000000       0.000000         0.000000   \n",
       "50%         1.000000       1.000000       1.000000         1.000000   \n",
       "75%         2.000000       1.000000       1.000000         1.000000   \n",
       "max         3.500000       1.000000       1.000000         1.000000   \n",
       "\n",
       "       wheelchair_access  electric_vehicle_charge  comes_furnished  \\\n",
       "count      258418.000000            258418.000000    258418.000000   \n",
       "mean            0.078241                 0.014519         0.043213   \n",
       "std             0.268552                 0.119618         0.203337   \n",
       "min             0.000000                 0.000000         0.000000   \n",
       "25%             0.000000                 0.000000         0.000000   \n",
       "50%             0.000000                 0.000000         0.000000   \n",
       "75%             0.000000                 0.000000         0.000000   \n",
       "max             1.000000                 1.000000         1.000000   \n",
       "\n",
       "                 lat           long  \n",
       "count  258418.000000  258418.000000  \n",
       "mean       37.211948     -92.514286  \n",
       "std         5.629612      16.390909  \n",
       "min        19.529500    -159.530000  \n",
       "25%        33.513500    -104.595000  \n",
       "50%        37.987000     -86.469200  \n",
       "75%        41.181000     -81.283900  \n",
       "max        64.856900     -68.207100  "
      ]
     },
<<<<<<< HEAD
     "execution_count": 21,
=======
     "execution_count": 14,
>>>>>>> 31c980bd0e872019bd9d1d6c9b2aa2cc14bc45e0
     "metadata": {},
     "output_type": "execute_result"
    }
   ],
   "source": [
<<<<<<< HEAD
    "clean_df = raw_df.copy()\n",
    "print(clean_df.columns)\n",
    "print(clean_df.info())\n",
    "clean_df.describe()"
   ]
  },
  {
   "cell_type": "markdown",
   "metadata": {},
   "source": [
    "## 1) Feature Engineering"
   ]
  },
  {
   "cell_type": "markdown",
   "metadata": {},
   "source": [
    "My plan for data preparation:\n",
    " - create sqfeet range column\n",
    " - work on url\n",
    " - work on Latitude and Longitude\n",
    " - work on description\n",
    "\n"
   ]
  },
  {
   "cell_type": "code",
   "execution_count": 22,
   "metadata": {},
   "outputs": [],
   "source": [
    "clean_df = clean_df.drop(['url', 'region_url', 'image_url'], axis=1)"
   ]
  },
  {
   "cell_type": "markdown",
   "metadata": {},
   "source": [
    "### a. Create sqfeet range column"
   ]
  },
  {
   "cell_type": "markdown",
   "metadata": {},
   "source": [
    "![img](https://www.point2homes.com/news/wp-content/uploads/2017/01/Home-Size-Table-by-Province-CA.png)"
   ]
  },
  {
   "cell_type": "code",
   "execution_count": 23,
   "metadata": {},
   "outputs": [
    {
     "data": {
      "text/plain": [
       "small          137556\n",
       "medium          93812\n",
       "large           13485\n",
       "mini             7142\n",
       "extra large      3801\n",
       "mansion          1817\n",
       "single room       805\n",
       "Name: sqfeet_range, dtype: int64"
      ]
     },
     "execution_count": 23,
     "metadata": {},
     "output_type": "execute_result"
    }
   ],
   "source": [
    "def sqfeet_range_column(data, feature='sqfeet'):\n",
    "    if data[feature] < 300:\n",
    "        return 'single room'\n",
    "    if data[feature] >= 300 and data[feature] < 500:\n",
    "        return 'mini'\n",
    "    if data[feature] >= 500 and data[feature] < 1000:\n",
    "        return 'small'\n",
    "    if data[feature] >= 1000 and data[feature] < 1500:\n",
    "        return 'medium'\n",
    "    if data[feature] >= 1500 and data[feature] < 2000:\n",
    "        return 'large'\n",
    "    if data[feature] >= 2000 and data[feature] < 2500:\n",
    "        return 'extra large'\n",
    "    if data[feature] >=2500:\n",
    "        return 'mansion'\n",
    "    \n",
    "\n",
    "clean_df['sqfeet_range'] = clean_df.apply(sqfeet_range_column, axis=1)\n",
    "clean_df.sqfeet_range.value_counts()"
   ]
  },
  {
   "cell_type": "markdown",
   "metadata": {},
   "source": [
    "### b. work on url"
   ]
  },
  {
   "cell_type": "code",
   "execution_count": 24,
   "metadata": {},
   "outputs": [],
   "source": [
    "# #TODO: open this\n",
    "# from urllib.parse import urlparse, parse_qs\n",
    "# from tqdm import tqdm\n",
    "# disc = {\"url_parsed_loc\": [], \"url_params\":[], \"url_path_components\": []}\n",
    "\n",
    "# for i in tqdm(range(df.shape[0]), position=0, leave=True):\n",
    "#     parsed = urlparse(df.url[i])\n",
    "#     disc[\"url_parsed_loc\"].append(parsed.netloc)\n",
    "    \n",
    "#     params = parse_qs(parsed.query)\n",
    "#     disc[\"url_params\"].append(params)\n",
    "    \n",
    "#     path_components = list(filter(bool, parsed.path.split('/')))\n",
    "#     disc[\"url_path_components\"].append(path_components)\n",
    "\n",
    "\n",
    "# #TODO: open this\n",
    "\n",
    "# url_df = pd.DataFrame(disc)\n",
    "# print(url_df.url_params.value_counts())\n",
    "# url_df.head()\n",
    "\n",
    "# #TODO: open this\n",
    "# url_df.drop(\"url_params\", axis=1, inplace=True)\n",
    "# url_df.head()\n",
    "\n",
    "\n",
    "\n",
    "# #TODO: open this\n",
    "# cnt=0\n",
    "# for i in tqdm(range(df.shape[0]), position=0, leave=True):\n",
    "#     if df[\"region_url\"][i].find(url_df[\"url_parsed_loc\"][i]) >= 0: \n",
    "#         cnt+=1\n",
    "\n",
    "# print(\"Count: \"+str(cnt))\n",
    "# print(\"Error rate: \"+str(1-(cnt/df.shape[0])))"
   ]
  },
  {
   "cell_type": "markdown",
   "metadata": {},
   "source": [
    "### c. work on Latitude and Longitude"
   ]
  },
  {
   "cell_type": "code",
   "execution_count": 25,
   "metadata": {},
   "outputs": [],
   "source": [
    "# # TODO: open this\n",
    "# from sklearn.cluster import KMeans\n",
    "\n",
    "# sse={}\n",
    "# lat_long_df = clean_df[['lat', 'long']]\n",
    "\n",
    "# for k in tqdm(range(1, 12), position=0, leave=True):\n",
    "#     kmeans = KMeans(n_clusters=k, max_iter=1000).fit(lat_long_df)\n",
    "#     lat_long_df[\"clusters\"] = kmeans.labels_\n",
    "#     sse[k] = kmeans.inertia_ \n",
    "# plt.figure()\n",
    "# plt.plot(list(sse.keys()), list(sse.values()))\n",
    "# plt.xlabel(\"Number of cluster\")\n",
    "# plt.show()"
   ]
  },
  {
   "cell_type": "code",
   "execution_count": 26,
   "metadata": {},
   "outputs": [
    {
     "name": "stdout",
     "output_type": "stream",
     "text": [
      "258418\n"
     ]
    }
   ],
   "source": [
    "kmeans = KMeans(n_clusters=8, random_state=0)\n",
    "lat_long_pred = kmeans.fit_predict(clean_df[[\"lat\", \"long\"]])\n",
    "print(lat_long_pred.size)\n",
    "clean_df['lat_long_cluster'] = lat_long_pred"
   ]
  },
  {
   "cell_type": "code",
   "execution_count": 27,
   "metadata": {},
   "outputs": [],
   "source": [
    "clean_df = clean_df.reset_index()"
   ]
  },
  {
   "cell_type": "code",
   "execution_count": 28,
=======
    "laundry_df = pd.get_dummies(df[\"laundry_options\"], prefix=\"laundry\")\n",
    "print(laundry_df.shape)\n",
    "laundry_df.head()"
   ]
  },
  {
   "cell_type": "code",
   "execution_count": 15,
>>>>>>> 31c980bd0e872019bd9d1d6c9b2aa2cc14bc45e0
   "metadata": {},
   "outputs": [
    {
     "data": {
<<<<<<< HEAD
      "image/png": "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\n",
      "text/plain": [
       "<Figure size 720x720 with 1 Axes>"
      ]
     },
     "metadata": {
      "needs_background": "light"
     },
     "output_type": "display_data"
    }
   ],
   "source": [
    "import matplotlib.pyplot as plt\n",
    "fig, axes = plt.subplots(figsize=(10,10))\n",
    "plt.scatter(x=clean_df['lat'], y=clean_df['long'], c=lat_long_pred)\n",
    "plt.show()"
=======
      "text/html": [
       "<div>\n",
       "<style scoped>\n",
       "    .dataframe tbody tr th:only-of-type {\n",
       "        vertical-align: middle;\n",
       "    }\n",
       "\n",
       "    .dataframe tbody tr th {\n",
       "        vertical-align: top;\n",
       "    }\n",
       "\n",
       "    .dataframe thead th {\n",
       "        text-align: right;\n",
       "    }\n",
       "</style>\n",
       "<table border=\"1\" class=\"dataframe\">\n",
       "  <thead>\n",
       "    <tr style=\"text-align: right;\">\n",
       "      <th></th>\n",
       "      <th>id</th>\n",
       "      <th>url</th>\n",
       "      <th>region</th>\n",
       "      <th>region_url</th>\n",
       "      <th>price</th>\n",
       "      <th>type</th>\n",
       "      <th>sqfeet</th>\n",
       "      <th>beds</th>\n",
       "      <th>baths</th>\n",
       "      <th>cats_allowed</th>\n",
       "      <th>...</th>\n",
       "      <th>image_url</th>\n",
       "      <th>description</th>\n",
       "      <th>lat</th>\n",
       "      <th>long</th>\n",
       "      <th>state</th>\n",
       "      <th>laundry_laundry in bldg</th>\n",
       "      <th>laundry_laundry on site</th>\n",
       "      <th>laundry_no laundry on site</th>\n",
       "      <th>laundry_w/d hookups</th>\n",
       "      <th>laundry_w/d in unit</th>\n",
       "    </tr>\n",
       "  </thead>\n",
       "  <tbody>\n",
       "    <tr>\n",
       "      <th>0</th>\n",
       "      <td>7039061606</td>\n",
       "      <td>https://bham.craigslist.org/apa/d/birmingham-h...</td>\n",
       "      <td>birmingham</td>\n",
       "      <td>https://bham.craigslist.org</td>\n",
       "      <td>1195</td>\n",
       "      <td>apartment</td>\n",
       "      <td>1908</td>\n",
       "      <td>3</td>\n",
       "      <td>2.0</td>\n",
       "      <td>1</td>\n",
       "      <td>...</td>\n",
       "      <td>https://images.craigslist.org/00L0L_80pNkyDeG0...</td>\n",
       "      <td>Apartments In Birmingham AL Welcome to 100 Inv...</td>\n",
       "      <td>33.4226</td>\n",
       "      <td>-86.7065</td>\n",
       "      <td>al</td>\n",
       "      <td>0</td>\n",
       "      <td>1</td>\n",
       "      <td>0</td>\n",
       "      <td>0</td>\n",
       "      <td>0</td>\n",
       "    </tr>\n",
       "    <tr>\n",
       "      <th>1</th>\n",
       "      <td>7041970863</td>\n",
       "      <td>https://bham.craigslist.org/apa/d/birmingham-w...</td>\n",
       "      <td>birmingham</td>\n",
       "      <td>https://bham.craigslist.org</td>\n",
       "      <td>1120</td>\n",
       "      <td>apartment</td>\n",
       "      <td>1319</td>\n",
       "      <td>3</td>\n",
       "      <td>2.0</td>\n",
       "      <td>1</td>\n",
       "      <td>...</td>\n",
       "      <td>https://images.craigslist.org/00707_uRrY9CsNMC...</td>\n",
       "      <td>Find Your Way to Haven Apartment Homes Come ho...</td>\n",
       "      <td>33.3755</td>\n",
       "      <td>-86.8045</td>\n",
       "      <td>al</td>\n",
       "      <td>0</td>\n",
       "      <td>1</td>\n",
       "      <td>0</td>\n",
       "      <td>0</td>\n",
       "      <td>0</td>\n",
       "    </tr>\n",
       "    <tr>\n",
       "      <th>2</th>\n",
       "      <td>7041966914</td>\n",
       "      <td>https://bham.craigslist.org/apa/d/birmingham-g...</td>\n",
       "      <td>birmingham</td>\n",
       "      <td>https://bham.craigslist.org</td>\n",
       "      <td>825</td>\n",
       "      <td>apartment</td>\n",
       "      <td>1133</td>\n",
       "      <td>1</td>\n",
       "      <td>1.5</td>\n",
       "      <td>1</td>\n",
       "      <td>...</td>\n",
       "      <td>https://images.craigslist.org/00h0h_b7Bdj1NLBi...</td>\n",
       "      <td>Apartments In Birmingham AL Welcome to 100 Inv...</td>\n",
       "      <td>33.4226</td>\n",
       "      <td>-86.7065</td>\n",
       "      <td>al</td>\n",
       "      <td>0</td>\n",
       "      <td>1</td>\n",
       "      <td>0</td>\n",
       "      <td>0</td>\n",
       "      <td>0</td>\n",
       "    </tr>\n",
       "    <tr>\n",
       "      <th>3</th>\n",
       "      <td>7041966936</td>\n",
       "      <td>https://bham.craigslist.org/apa/d/birmingham-f...</td>\n",
       "      <td>birmingham</td>\n",
       "      <td>https://bham.craigslist.org</td>\n",
       "      <td>800</td>\n",
       "      <td>apartment</td>\n",
       "      <td>927</td>\n",
       "      <td>1</td>\n",
       "      <td>1.0</td>\n",
       "      <td>1</td>\n",
       "      <td>...</td>\n",
       "      <td>https://images.craigslist.org/00808_6ghZ8tSRQs...</td>\n",
       "      <td>Apartments In Birmingham AL Welcome to 100 Inv...</td>\n",
       "      <td>33.4226</td>\n",
       "      <td>-86.7065</td>\n",
       "      <td>al</td>\n",
       "      <td>0</td>\n",
       "      <td>1</td>\n",
       "      <td>0</td>\n",
       "      <td>0</td>\n",
       "      <td>0</td>\n",
       "    </tr>\n",
       "    <tr>\n",
       "      <th>4</th>\n",
       "      <td>7041966888</td>\n",
       "      <td>https://bham.craigslist.org/apa/d/birmingham-2...</td>\n",
       "      <td>birmingham</td>\n",
       "      <td>https://bham.craigslist.org</td>\n",
       "      <td>785</td>\n",
       "      <td>apartment</td>\n",
       "      <td>1047</td>\n",
       "      <td>2</td>\n",
       "      <td>1.0</td>\n",
       "      <td>1</td>\n",
       "      <td>...</td>\n",
       "      <td>https://images.craigslist.org/00y0y_21c0FOvUXm...</td>\n",
       "      <td>Apartments In Birmingham AL Welcome to 100 Inv...</td>\n",
       "      <td>33.4226</td>\n",
       "      <td>-86.7065</td>\n",
       "      <td>al</td>\n",
       "      <td>0</td>\n",
       "      <td>1</td>\n",
       "      <td>0</td>\n",
       "      <td>0</td>\n",
       "      <td>0</td>\n",
       "    </tr>\n",
       "  </tbody>\n",
       "</table>\n",
       "<p>5 rows × 26 columns</p>\n",
       "</div>"
      ],
      "text/plain": [
       "           id                                                url      region  \\\n",
       "0  7039061606  https://bham.craigslist.org/apa/d/birmingham-h...  birmingham   \n",
       "1  7041970863  https://bham.craigslist.org/apa/d/birmingham-w...  birmingham   \n",
       "2  7041966914  https://bham.craigslist.org/apa/d/birmingham-g...  birmingham   \n",
       "3  7041966936  https://bham.craigslist.org/apa/d/birmingham-f...  birmingham   \n",
       "4  7041966888  https://bham.craigslist.org/apa/d/birmingham-2...  birmingham   \n",
       "\n",
       "                    region_url  price       type  sqfeet  beds  baths  \\\n",
       "0  https://bham.craigslist.org   1195  apartment    1908     3    2.0   \n",
       "1  https://bham.craigslist.org   1120  apartment    1319     3    2.0   \n",
       "2  https://bham.craigslist.org    825  apartment    1133     1    1.5   \n",
       "3  https://bham.craigslist.org    800  apartment     927     1    1.0   \n",
       "4  https://bham.craigslist.org    785  apartment    1047     2    1.0   \n",
       "\n",
       "   cats_allowed  ...                                          image_url  \\\n",
       "0             1  ...  https://images.craigslist.org/00L0L_80pNkyDeG0...   \n",
       "1             1  ...  https://images.craigslist.org/00707_uRrY9CsNMC...   \n",
       "2             1  ...  https://images.craigslist.org/00h0h_b7Bdj1NLBi...   \n",
       "3             1  ...  https://images.craigslist.org/00808_6ghZ8tSRQs...   \n",
       "4             1  ...  https://images.craigslist.org/00y0y_21c0FOvUXm...   \n",
       "\n",
       "                                         description      lat     long  state  \\\n",
       "0  Apartments In Birmingham AL Welcome to 100 Inv...  33.4226 -86.7065     al   \n",
       "1  Find Your Way to Haven Apartment Homes Come ho...  33.3755 -86.8045     al   \n",
       "2  Apartments In Birmingham AL Welcome to 100 Inv...  33.4226 -86.7065     al   \n",
       "3  Apartments In Birmingham AL Welcome to 100 Inv...  33.4226 -86.7065     al   \n",
       "4  Apartments In Birmingham AL Welcome to 100 Inv...  33.4226 -86.7065     al   \n",
       "\n",
       "  laundry_laundry in bldg laundry_laundry on site laundry_no laundry on site  \\\n",
       "0                       0                       1                          0   \n",
       "1                       0                       1                          0   \n",
       "2                       0                       1                          0   \n",
       "3                       0                       1                          0   \n",
       "4                       0                       1                          0   \n",
       "\n",
       "   laundry_w/d hookups  laundry_w/d in unit  \n",
       "0                    0                    0  \n",
       "1                    0                    0  \n",
       "2                    0                    0  \n",
       "3                    0                    0  \n",
       "4                    0                    0  \n",
       "\n",
       "[5 rows x 26 columns]"
      ]
     },
     "execution_count": 15,
     "metadata": {},
     "output_type": "execute_result"
    }
   ],
   "source": [
    "# add data to table\n",
    "df = pd.concat([df, laundry_df], axis=1)\n",
    "df = df.drop([\"laundry_options\"], axis=1)\n",
    "df.head()"
>>>>>>> 31c980bd0e872019bd9d1d6c9b2aa2cc14bc45e0
   ]
  },
  {
   "cell_type": "markdown",
<<<<<<< HEAD
   "metadata": {},
   "source": [
    "### d.work on description"
   ]
  },
  {
   "cell_type": "code",
   "execution_count": 29,
=======
>>>>>>> 31c980bd0e872019bd9d1d6c9b2aa2cc14bc45e0
   "metadata": {},
   "source": [
<<<<<<< HEAD
    "# i=1451\n",
    "# print(df.description[i])"
=======
    "## 17- Parking Options"
>>>>>>> 31c980bd0e872019bd9d1d6c9b2aa2cc14bc45e0
   ]
  },
  {
   "cell_type": "code",
   "execution_count": 30,
   "metadata": {},
   "outputs": [],
   "source": [
<<<<<<< HEAD
    "# from bs4 import BeautifulSoup\n",
    "# import re"
=======
    "### Model based imputation (filling missing values)"
>>>>>>> 31c980bd0e872019bd9d1d6c9b2aa2cc14bc45e0
   ]
  },
  {
   "cell_type": "code",
<<<<<<< HEAD
   "execution_count": 31,
   "metadata": {},
   "outputs": [],
   "source": [
    "# stopwords= set(['br', 'the', 'i', 'me', 'my', 'myself', 'we', 'our', 'ours', 'ourselves', 'you', \"you're\", \"you've\",\\\n",
    "#             \"you'll\", \"you'd\", 'your', 'yours', 'yourself', 'yourselves', 'he', 'him', 'his', 'himself', \\\n",
    "#             'she', \"she's\", 'her', 'hers', 'herself', 'it', \"it's\", 'its', 'itself', 'they', 'them', 'their',\\\n",
    "#             'theirs', 'themselves', 'what', 'which', 'who', 'whom', 'this', 'that', \"that'll\", 'these', 'those', \\\n",
    "#             'am', 'is', 'are', 'was', 'were', 'be', 'been', 'being', 'have', 'has', 'had', 'having', 'do', 'does', \\\n",
    "#             'did', 'doing', 'a', 'an', 'the', 'and', 'but', 'if', 'or', 'because', 'as', 'until', 'while', 'of', \\\n",
    "#             'at', 'by', 'for', 'with', 'about', 'against', 'between', 'into', 'through', 'during', 'before', 'after',\\\n",
    "#             'above', 'below', 'to', 'from', 'up', 'down', 'in', 'out', 'on', 'off', 'over', 'under', 'again', 'further',\\\n",
    "#             'then', 'once', 'here', 'there', 'when', 'where', 'why', 'how', 'all', 'any', 'both', 'each', 'few', 'more',\\\n",
    "#             'most', 'other', 'some', 'such', 'only', 'own', 'same', 'so', 'than', 'too', 'very', \\\n",
    "#             's', 't', 'can', 'will', 'just', 'don', \"don't\", 'should', \"should've\", 'now', 'd', 'll', 'm', 'o', 're', \\\n",
    "#             've', 'y', 'ain', 'aren', \"aren't\", 'couldn', \"couldn't\", 'didn', \"didn't\", 'doesn', \"doesn't\", 'hadn',\\\n",
    "#             \"hadn't\", 'hasn', \"hasn't\", 'haven', \"haven't\", 'isn', \"isn't\", 'ma', 'mightn', \"mightn't\", 'mustn',\\\n",
    "#             \"mustn't\", 'needn', \"needn't\", 'shan', \"shan't\", 'shouldn', \"shouldn't\", 'wasn', \"wasn't\", 'weren', \"weren't\", \\\n",
    "#             'won', \"won't\", 'wouldn', \"wouldn't\"])"
   ]
  },
  {
   "cell_type": "code",
   "execution_count": 32,
   "metadata": {},
   "outputs": [],
   "source": [
    "# def decontracted(phrase):\n",
    "#     # specific\n",
    "#     phrase = re.sub(r\"won't\", \"will not\", phrase)\n",
    "#     phrase = re.sub(r\"can\\'t\", \"can not\", phrase)\n",
    "\n",
    "#     # general\n",
    "#     phrase = re.sub(r\"n\\'t\", \" not\", phrase)\n",
    "#     phrase = re.sub(r\"\\'re\", \" are\", phrase)\n",
    "#     phrase = re.sub(r\"\\'s\", \" is\", phrase)\n",
    "#     phrase = re.sub(r\"\\'d\", \" would\", phrase)\n",
    "#     phrase = re.sub(r\"\\'ll\", \" will\", phrase)\n",
    "#     phrase = re.sub(r\"\\'t\", \" not\", phrase)\n",
    "#     phrase = re.sub(r\"\\'ve\", \" have\", phrase)\n",
    "#     phrase = re.sub(r\"\\'m\", \" am\", phrase)\n",
    "#     return phrase"
   ]
  },
  {
   "cell_type": "code",
   "execution_count": 33,
   "metadata": {},
   "outputs": [],
   "source": [
    "# def clean_text(sentance):\n",
    "#     sentance = re.sub(r\"http\\S+\", \"\", sentance)\n",
    "#     sentance = BeautifulSoup(sentance, 'lxml').get_text()\n",
    "#     sentance = decontracted(sentance)\n",
    "#     sentance = re.sub(\"\\S*\\d\\S*\", \"\", sentance).strip()\n",
    "#     sentance = re.sub('[^A-Za-z]+', ' ', sentance)\n",
    "#     # https://gist.github.com/sebleier/554280\n",
    "#     sentance = ' '.join(e.lower() for e in sentance.split() if e.lower() not in stopwords)\n",
    "#     return sentance.strip()"
   ]
  },
  {
   "cell_type": "code",
   "execution_count": 34,
   "metadata": {},
   "outputs": [],
   "source": [
    "# for i in tqdm(range(loop), position=0, leave=True):\n",
    "#     df.description[i] = clean_text(df.description[i])"
   ]
  },
  {
   "cell_type": "code",
   "execution_count": 35,
   "metadata": {},
   "outputs": [],
   "source": [
    "# df.head()\n",
    "# df = df.drop(df.index[4]).reset_index()\n",
    "# print(df.shape)"
   ]
  },
  {
   "cell_type": "code",
   "execution_count": 36,
   "metadata": {},
   "outputs": [],
   "source": [
    "# for i in tqdm(range(loop), position=0, leave=True):\n",
    "#     try:\n",
    "#         df.description[i] = clean_text(df.description[i])\n",
    "#     except:\n",
    "#         df.drop(df.index[i])"
=======
   "execution_count": 16,
   "metadata": {},
   "outputs": [
    {
     "name": "stdout",
     "output_type": "stream",
     "text": [
      "off-street parking    88316\n",
      "carport               28685\n",
      "attached garage       27591\n",
      "detached garage       12798\n",
      "street parking        10570\n",
      "no parking             1973\n",
      "valet parking           122\n",
      "Name: parking_options, dtype: int64\n",
      "95135\n"
     ]
    }
   ],
   "source": [
    "#before imputation\n",
    "print(df[\"parking_options\"].value_counts())\n",
    "print(df[\"parking_options\"].isna().sum())"
>>>>>>> 31c980bd0e872019bd9d1d6c9b2aa2cc14bc45e0
   ]
  },
  {
   "cell_type": "code",
<<<<<<< HEAD
   "execution_count": 37,
=======
   "execution_count": 17,
>>>>>>> 31c980bd0e872019bd9d1d6c9b2aa2cc14bc45e0
   "metadata": {},
   "outputs": [
    {
     "name": "stdout",
     "output_type": "stream",
     "text": [
<<<<<<< HEAD
      "100%|█████████████████████████████████████████████████████████████████████████| 258418/258418 [14:29<00:00, 297.04it/s]\n"
=======
      "['off-street parking' 'attached garage' 'off-street parking' ...\n",
      " 'off-street parking' 'off-street parking' 'attached garage']\n",
      "95135\n"
>>>>>>> 31c980bd0e872019bd9d1d6c9b2aa2cc14bc45e0
     ]
    }
   ],
   "source": [
    "from sklearn.neighbors import KNeighborsClassifier\n",
    "decide_cols = [\"beds\", \"baths\", \"cats_allowed\", \"dogs_allowed\", \n",
    "               \"smoking_allowed\", \"wheelchair_access\", \"electric_vehicle_charge\",\n",
    "               \"comes_furnished\", \"price\" ]\n",
    "\n",
    "X_train = df[decide_cols][df[\"parking_options\"].isna()==False]\n",
    "y_train = df[\"parking_options\"][df[\"parking_options\"].isna()==False]\n",
    "X_test = df[decide_cols][df[\"parking_options\"].isna()==True]\n",
    " \n",
    "neigh = KNeighborsClassifier(n_neighbors=7)\n",
    "neigh.fit(X_train, y_train)\n",
    "laundry_pred = neigh.predict(X_test)\n",
    "print(laundry_pred)\n",
    "print(laundry_pred.size)\n",
    "\n",
<<<<<<< HEAD
    "\n",
    "loop = clean_df.shape[0]\n",
    "for i in tqdm(range(loop), position=0, leave=True):\n",
    "    desc = str(clean_df.description[i])\n",
    "    sentiment_dict = sid_obj.polarity_scores(desc) \n",
    "    description_dict[\"description_negative\"].append(sentiment_dict[\"neg\"])\n",
    "    description_dict[\"description_neutral\"].append(sentiment_dict[\"neu\"])\n",
    "    description_dict[\"description_positive\"].append(sentiment_dict[\"pos\"]) "
=======
    "# filling missing values\n",
    "df[\"parking_options\"][df[\"parking_options\"].isna()==True] = laundry_pred"
   ]
  },
  {
   "cell_type": "code",
   "execution_count": 18,
   "metadata": {},
   "outputs": [
    {
     "name": "stdout",
     "output_type": "stream",
     "text": [
      "off-street parking    144939\n",
      "carport                46040\n",
      "attached garage        41132\n",
      "detached garage        16715\n",
      "street parking         13694\n",
      "no parking              2542\n",
      "valet parking            128\n",
      "Name: parking_options, dtype: int64\n",
      "0\n"
     ]
    }
   ],
   "source": [
    "#after imputation\n",
    "print(df[\"parking_options\"].value_counts())\n",
    "print(df[\"parking_options\"].isna().sum())"
   ]
  },
  {
   "cell_type": "markdown",
   "metadata": {},
   "source": [
    "### One-hot Encoding for 7 categories"
>>>>>>> 31c980bd0e872019bd9d1d6c9b2aa2cc14bc45e0
   ]
  },
  {
   "cell_type": "code",
<<<<<<< HEAD
   "execution_count": 38,
=======
   "execution_count": 19,
>>>>>>> 31c980bd0e872019bd9d1d6c9b2aa2cc14bc45e0
   "metadata": {},
   "outputs": [
    {
     "name": "stdout",
     "output_type": "stream",
     "text": [
<<<<<<< HEAD
      "(258418, 3)\n"
=======
      "(265190, 7)\n"
>>>>>>> 31c980bd0e872019bd9d1d6c9b2aa2cc14bc45e0
     ]
    },
    {
     "data": {
      "text/html": [
       "<div>\n",
       "<style scoped>\n",
       "    .dataframe tbody tr th:only-of-type {\n",
       "        vertical-align: middle;\n",
       "    }\n",
       "\n",
       "    .dataframe tbody tr th {\n",
       "        vertical-align: top;\n",
       "    }\n",
       "\n",
       "    .dataframe thead th {\n",
       "        text-align: right;\n",
       "    }\n",
       "</style>\n",
       "<table border=\"1\" class=\"dataframe\">\n",
       "  <thead>\n",
       "    <tr style=\"text-align: right;\">\n",
       "      <th></th>\n",
       "      <th>parking_attached garage</th>\n",
       "      <th>parking_carport</th>\n",
       "      <th>parking_detached garage</th>\n",
       "      <th>parking_no parking</th>\n",
       "      <th>parking_off-street parking</th>\n",
       "      <th>parking_street parking</th>\n",
       "      <th>parking_valet parking</th>\n",
       "    </tr>\n",
       "  </thead>\n",
       "  <tbody>\n",
       "    <tr>\n",
       "      <th>0</th>\n",
       "      <td>0</td>\n",
       "      <td>0</td>\n",
       "      <td>0</td>\n",
       "      <td>0</td>\n",
       "      <td>0</td>\n",
       "      <td>1</td>\n",
       "      <td>0</td>\n",
       "    </tr>\n",
       "    <tr>\n",
       "      <th>1</th>\n",
       "      <td>0</td>\n",
       "      <td>0</td>\n",
       "      <td>0</td>\n",
       "      <td>0</td>\n",
       "      <td>1</td>\n",
       "      <td>0</td>\n",
       "      <td>0</td>\n",
       "    </tr>\n",
       "    <tr>\n",
       "      <th>2</th>\n",
       "      <td>0</td>\n",
       "      <td>0</td>\n",
       "      <td>0</td>\n",
       "      <td>0</td>\n",
       "      <td>0</td>\n",
       "      <td>1</td>\n",
       "      <td>0</td>\n",
       "    </tr>\n",
       "    <tr>\n",
       "      <th>3</th>\n",
       "      <td>0</td>\n",
       "      <td>0</td>\n",
       "      <td>0</td>\n",
       "      <td>0</td>\n",
       "      <td>0</td>\n",
       "      <td>1</td>\n",
       "      <td>0</td>\n",
       "    </tr>\n",
       "    <tr>\n",
       "      <th>4</th>\n",
       "      <td>0</td>\n",
       "      <td>0</td>\n",
       "      <td>0</td>\n",
       "      <td>0</td>\n",
       "      <td>0</td>\n",
       "      <td>1</td>\n",
       "      <td>0</td>\n",
       "    </tr>\n",
       "  </tbody>\n",
       "</table>\n",
       "</div>"
      ],
      "text/plain": [
       "   parking_attached garage  parking_carport  parking_detached garage  \\\n",
       "0                        0                0                        0   \n",
       "1                        0                0                        0   \n",
       "2                        0                0                        0   \n",
       "3                        0                0                        0   \n",
       "4                        0                0                        0   \n",
       "\n",
       "   parking_no parking  parking_off-street parking  parking_street parking  \\\n",
       "0                   0                           0                       1   \n",
       "1                   0                           1                       0   \n",
       "2                   0                           0                       1   \n",
       "3                   0                           0                       1   \n",
       "4                   0                           0                       1   \n",
       "\n",
       "   parking_valet parking  \n",
       "0                      0  \n",
       "1                      0  \n",
       "2                      0  \n",
       "3                      0  \n",
       "4                      0  "
      ]
     },
     "execution_count": 19,
     "metadata": {},
     "output_type": "execute_result"
    }
   ],
   "source": [
    "parking_df = pd.get_dummies(df[\"parking_options\"], prefix=\"parking\")\n",
    "print(parking_df.shape)\n",
    "parking_df.head()"
   ]
  },
  {
   "cell_type": "code",
   "execution_count": 20,
   "metadata": {},
   "outputs": [
    {
     "data": {
      "text/html": [
       "<div>\n",
       "<style scoped>\n",
       "    .dataframe tbody tr th:only-of-type {\n",
       "        vertical-align: middle;\n",
       "    }\n",
       "\n",
       "    .dataframe tbody tr th {\n",
       "        vertical-align: top;\n",
       "    }\n",
       "\n",
       "    .dataframe thead th {\n",
       "        text-align: right;\n",
       "    }\n",
       "</style>\n",
       "<table border=\"1\" class=\"dataframe\">\n",
       "  <thead>\n",
       "    <tr style=\"text-align: right;\">\n",
       "      <th></th>\n",
       "      <th>id</th>\n",
       "      <th>url</th>\n",
       "      <th>region</th>\n",
       "      <th>region_url</th>\n",
       "      <th>price</th>\n",
       "      <th>type</th>\n",
       "      <th>sqfeet</th>\n",
       "      <th>beds</th>\n",
       "      <th>baths</th>\n",
       "      <th>cats_allowed</th>\n",
       "      <th>...</th>\n",
       "      <th>laundry_no laundry on site</th>\n",
       "      <th>laundry_w/d hookups</th>\n",
       "      <th>laundry_w/d in unit</th>\n",
       "      <th>parking_attached garage</th>\n",
       "      <th>parking_carport</th>\n",
       "      <th>parking_detached garage</th>\n",
       "      <th>parking_no parking</th>\n",
       "      <th>parking_off-street parking</th>\n",
       "      <th>parking_street parking</th>\n",
       "      <th>parking_valet parking</th>\n",
       "    </tr>\n",
       "  </thead>\n",
       "  <tbody>\n",
       "    <tr>\n",
       "      <th>0</th>\n",
       "      <td>7039061606</td>\n",
       "      <td>https://bham.craigslist.org/apa/d/birmingham-h...</td>\n",
       "      <td>birmingham</td>\n",
       "      <td>https://bham.craigslist.org</td>\n",
       "      <td>1195</td>\n",
       "      <td>apartment</td>\n",
       "      <td>1908</td>\n",
       "      <td>3</td>\n",
       "      <td>2.0</td>\n",
       "      <td>1</td>\n",
       "      <td>...</td>\n",
       "      <td>0</td>\n",
       "      <td>0</td>\n",
       "      <td>0</td>\n",
       "      <td>0</td>\n",
       "      <td>0</td>\n",
       "      <td>0</td>\n",
       "      <td>0</td>\n",
       "      <td>0</td>\n",
       "      <td>1</td>\n",
       "      <td>0</td>\n",
       "    </tr>\n",
       "    <tr>\n",
       "      <th>1</th>\n",
       "      <td>7041970863</td>\n",
       "      <td>https://bham.craigslist.org/apa/d/birmingham-w...</td>\n",
       "      <td>birmingham</td>\n",
       "      <td>https://bham.craigslist.org</td>\n",
       "      <td>1120</td>\n",
       "      <td>apartment</td>\n",
       "      <td>1319</td>\n",
       "      <td>3</td>\n",
       "      <td>2.0</td>\n",
       "      <td>1</td>\n",
       "      <td>...</td>\n",
       "      <td>0</td>\n",
       "      <td>0</td>\n",
       "      <td>0</td>\n",
       "      <td>0</td>\n",
       "      <td>0</td>\n",
       "      <td>0</td>\n",
       "      <td>0</td>\n",
       "      <td>1</td>\n",
       "      <td>0</td>\n",
       "      <td>0</td>\n",
       "    </tr>\n",
       "    <tr>\n",
       "      <th>2</th>\n",
       "      <td>7041966914</td>\n",
       "      <td>https://bham.craigslist.org/apa/d/birmingham-g...</td>\n",
       "      <td>birmingham</td>\n",
       "      <td>https://bham.craigslist.org</td>\n",
       "      <td>825</td>\n",
       "      <td>apartment</td>\n",
       "      <td>1133</td>\n",
       "      <td>1</td>\n",
       "      <td>1.5</td>\n",
       "      <td>1</td>\n",
       "      <td>...</td>\n",
       "      <td>0</td>\n",
       "      <td>0</td>\n",
       "      <td>0</td>\n",
       "      <td>0</td>\n",
       "      <td>0</td>\n",
       "      <td>0</td>\n",
       "      <td>0</td>\n",
       "      <td>0</td>\n",
       "      <td>1</td>\n",
       "      <td>0</td>\n",
       "    </tr>\n",
       "    <tr>\n",
       "      <th>3</th>\n",
       "      <td>7041966936</td>\n",
       "      <td>https://bham.craigslist.org/apa/d/birmingham-f...</td>\n",
       "      <td>birmingham</td>\n",
       "      <td>https://bham.craigslist.org</td>\n",
       "      <td>800</td>\n",
       "      <td>apartment</td>\n",
       "      <td>927</td>\n",
       "      <td>1</td>\n",
       "      <td>1.0</td>\n",
       "      <td>1</td>\n",
       "      <td>...</td>\n",
       "      <td>0</td>\n",
       "      <td>0</td>\n",
       "      <td>0</td>\n",
       "      <td>0</td>\n",
       "      <td>0</td>\n",
       "      <td>0</td>\n",
       "      <td>0</td>\n",
       "      <td>0</td>\n",
       "      <td>1</td>\n",
       "      <td>0</td>\n",
       "    </tr>\n",
       "    <tr>\n",
       "      <th>4</th>\n",
       "      <td>7041966888</td>\n",
       "      <td>https://bham.craigslist.org/apa/d/birmingham-2...</td>\n",
       "      <td>birmingham</td>\n",
       "      <td>https://bham.craigslist.org</td>\n",
       "      <td>785</td>\n",
       "      <td>apartment</td>\n",
       "      <td>1047</td>\n",
       "      <td>2</td>\n",
       "      <td>1.0</td>\n",
       "      <td>1</td>\n",
       "      <td>...</td>\n",
       "      <td>0</td>\n",
       "      <td>0</td>\n",
       "      <td>0</td>\n",
       "      <td>0</td>\n",
       "      <td>0</td>\n",
       "      <td>0</td>\n",
       "      <td>0</td>\n",
       "      <td>0</td>\n",
       "      <td>1</td>\n",
       "      <td>0</td>\n",
       "    </tr>\n",
       "  </tbody>\n",
       "</table>\n",
       "<p>5 rows × 32 columns</p>\n",
       "</div>"
      ],
      "text/plain": [
       "           id                                                url      region  \\\n",
       "0  7039061606  https://bham.craigslist.org/apa/d/birmingham-h...  birmingham   \n",
       "1  7041970863  https://bham.craigslist.org/apa/d/birmingham-w...  birmingham   \n",
       "2  7041966914  https://bham.craigslist.org/apa/d/birmingham-g...  birmingham   \n",
       "3  7041966936  https://bham.craigslist.org/apa/d/birmingham-f...  birmingham   \n",
       "4  7041966888  https://bham.craigslist.org/apa/d/birmingham-2...  birmingham   \n",
       "\n",
       "                    region_url  price       type  sqfeet  beds  baths  \\\n",
       "0  https://bham.craigslist.org   1195  apartment    1908     3    2.0   \n",
       "1  https://bham.craigslist.org   1120  apartment    1319     3    2.0   \n",
       "2  https://bham.craigslist.org    825  apartment    1133     1    1.5   \n",
       "3  https://bham.craigslist.org    800  apartment     927     1    1.0   \n",
       "4  https://bham.craigslist.org    785  apartment    1047     2    1.0   \n",
       "\n",
       "   cats_allowed  ...  laundry_no laundry on site  laundry_w/d hookups  \\\n",
       "0             1  ...                           0                    0   \n",
       "1             1  ...                           0                    0   \n",
       "2             1  ...                           0                    0   \n",
       "3             1  ...                           0                    0   \n",
       "4             1  ...                           0                    0   \n",
       "\n",
       "   laundry_w/d in unit  parking_attached garage  parking_carport  \\\n",
       "0                    0                        0                0   \n",
       "1                    0                        0                0   \n",
       "2                    0                        0                0   \n",
       "3                    0                        0                0   \n",
       "4                    0                        0                0   \n",
       "\n",
       "  parking_detached garage parking_no parking  parking_off-street parking  \\\n",
       "0                       0                  0                           0   \n",
       "1                       0                  0                           1   \n",
       "2                       0                  0                           0   \n",
       "3                       0                  0                           0   \n",
       "4                       0                  0                           0   \n",
       "\n",
       "   parking_street parking parking_valet parking  \n",
       "0                       1                     0  \n",
       "1                       0                     0  \n",
       "2                       1                     0  \n",
       "3                       1                     0  \n",
       "4                       1                     0  \n",
       "\n",
       "[5 rows x 32 columns]"
      ]
     },
     "execution_count": 20,
     "metadata": {},
     "output_type": "execute_result"
    }
   ],
   "source": [
    "# add data to table\n",
    "df = pd.concat([df, parking_df], axis=1)\n",
    "df = df.drop([\"parking_options\"], axis=1)\n",
    "df.head()"
   ]
  },
  {
   "cell_type": "markdown",
   "metadata": {},
   "source": [
    "## 20, 21- Latitude and Longitude"
   ]
  },
  {
   "cell_type": "code",
   "execution_count": 21,
   "metadata": {},
   "outputs": [
    {
     "data": {
      "text/plain": [
       "(263769, 32)"
      ]
     },
     "execution_count": 21,
     "metadata": {},
     "output_type": "execute_result"
    }
   ],
   "source": [
    "df.dropna(inplace=True)\n",
    "df.shape"
   ]
  },
  {
   "cell_type": "code",
   "execution_count": 22,
   "metadata": {},
   "outputs": [],
   "source": [
    "from sklearn.cluster import KMeans"
   ]
  },
  {
   "cell_type": "code",
   "execution_count": 23,
   "metadata": {},
   "outputs": [],
   "source": [
    "# TODO: open this\n",
    "\n",
    "# from sklearn.cluster import KMeans\n",
    "\n",
    "# sse={}\n",
    "# lat_long_df = df[['lat', 'long']]\n",
    "\n",
    "# for k in tqdm(range(1, 15), position=0, leave=True):\n",
    "#     kmeans = KMeans(n_clusters=k, max_iter=1000).fit(lat_long_df)\n",
    "#     lat_long_df[\"clusters\"] = kmeans.labels_\n",
    "#     sse[k] = kmeans.inertia_ \n",
    "# plt.figure()\n",
    "# plt.plot(list(sse.keys()), list(sse.values()))\n",
    "# plt.xlabel(\"Number of cluster\")\n",
    "# plt.show()"
   ]
  },
  {
   "cell_type": "code",
   "execution_count": 24,
   "metadata": {},
   "outputs": [
    {
     "name": "stdout",
     "output_type": "stream",
     "text": [
      "[11 11 11 ...  8  8  8]\n",
      "263769\n"
     ]
    }
   ],
   "source": [
    "kmeans = KMeans(n_clusters=12, random_state=0)\n",
    "\n",
    "lat_long_pred = kmeans.fit_predict(df[[\"lat\", \"long\"]])\n",
    "print(kmeans.labels_)\n",
    "print(lat_long_pred.size)"
   ]
  },
  {
   "cell_type": "code",
   "execution_count": 25,
   "metadata": {},
   "outputs": [
    {
     "data": {
      "image/png": "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\n",
      "text/plain": [
       "<Figure size 1512x1512 with 1 Axes>"
      ]
     },
     "metadata": {
      "needs_background": "light"
     },
     "output_type": "display_data"
    }
   ],
   "source": [
    "import matplotlib.pyplot as plt\n",
    "fig, axes = plt.subplots(1, 1, figsize=(21,21))\n",
    "plt.scatter(x=df['lat'], y=df['long'], c=lat_long_pred)\n",
    "plt.show()"
   ]
  },
  {
   "cell_type": "code",
   "execution_count": 26,
   "metadata": {},
   "outputs": [
    {
     "name": "stdout",
     "output_type": "stream",
     "text": [
      "(263769, 1)\n"
     ]
    },
    {
     "data": {
      "text/html": [
       "<div>\n",
       "<style scoped>\n",
       "    .dataframe tbody tr th:only-of-type {\n",
       "        vertical-align: middle;\n",
       "    }\n",
       "\n",
       "    .dataframe tbody tr th {\n",
       "        vertical-align: top;\n",
       "    }\n",
       "\n",
       "    .dataframe thead th {\n",
       "        text-align: right;\n",
       "    }\n",
       "</style>\n",
       "<table border=\"1\" class=\"dataframe\">\n",
       "  <thead>\n",
       "    <tr style=\"text-align: right;\">\n",
       "      <th></th>\n",
       "      <th>id</th>\n",
       "      <th>url</th>\n",
       "      <th>region</th>\n",
       "      <th>region_url</th>\n",
       "      <th>price</th>\n",
       "      <th>type</th>\n",
       "      <th>sqfeet</th>\n",
       "      <th>beds</th>\n",
       "      <th>baths</th>\n",
       "      <th>cats_allowed</th>\n",
       "      <th>...</th>\n",
       "      <th>laundry_w/d hookups</th>\n",
       "      <th>laundry_w/d in unit</th>\n",
       "      <th>parking_attached garage</th>\n",
       "      <th>parking_carport</th>\n",
       "      <th>parking_detached garage</th>\n",
       "      <th>parking_no parking</th>\n",
       "      <th>parking_off-street parking</th>\n",
       "      <th>parking_street parking</th>\n",
       "      <th>parking_valet parking</th>\n",
       "      <th>lat_long_cluster</th>\n",
       "    </tr>\n",
       "  </thead>\n",
       "  <tbody>\n",
       "    <tr>\n",
       "      <th>0</th>\n",
       "      <td>7.039062e+09</td>\n",
       "      <td>https://bham.craigslist.org/apa/d/birmingham-h...</td>\n",
       "      <td>birmingham</td>\n",
       "      <td>https://bham.craigslist.org</td>\n",
       "      <td>1195.0</td>\n",
       "      <td>apartment</td>\n",
       "      <td>1908.0</td>\n",
       "      <td>3.0</td>\n",
       "      <td>2.0</td>\n",
       "      <td>1.0</td>\n",
       "      <td>...</td>\n",
       "      <td>0.0</td>\n",
       "      <td>0.0</td>\n",
       "      <td>0.0</td>\n",
       "      <td>0.0</td>\n",
       "      <td>0.0</td>\n",
       "      <td>0.0</td>\n",
       "      <td>0.0</td>\n",
       "      <td>1.0</td>\n",
       "      <td>0.0</td>\n",
       "      <td>11.0</td>\n",
       "    </tr>\n",
       "    <tr>\n",
       "      <th>1</th>\n",
       "      <td>7.041971e+09</td>\n",
       "      <td>https://bham.craigslist.org/apa/d/birmingham-w...</td>\n",
       "      <td>birmingham</td>\n",
       "      <td>https://bham.craigslist.org</td>\n",
       "      <td>1120.0</td>\n",
       "      <td>apartment</td>\n",
       "      <td>1319.0</td>\n",
       "      <td>3.0</td>\n",
       "      <td>2.0</td>\n",
       "      <td>1.0</td>\n",
       "      <td>...</td>\n",
       "      <td>0.0</td>\n",
       "      <td>0.0</td>\n",
       "      <td>0.0</td>\n",
       "      <td>0.0</td>\n",
       "      <td>0.0</td>\n",
       "      <td>0.0</td>\n",
       "      <td>1.0</td>\n",
       "      <td>0.0</td>\n",
       "      <td>0.0</td>\n",
       "      <td>11.0</td>\n",
       "    </tr>\n",
       "    <tr>\n",
       "      <th>2</th>\n",
       "      <td>7.041967e+09</td>\n",
       "      <td>https://bham.craigslist.org/apa/d/birmingham-g...</td>\n",
       "      <td>birmingham</td>\n",
       "      <td>https://bham.craigslist.org</td>\n",
       "      <td>825.0</td>\n",
       "      <td>apartment</td>\n",
       "      <td>1133.0</td>\n",
       "      <td>1.0</td>\n",
       "      <td>1.5</td>\n",
       "      <td>1.0</td>\n",
       "      <td>...</td>\n",
       "      <td>0.0</td>\n",
       "      <td>0.0</td>\n",
       "      <td>0.0</td>\n",
       "      <td>0.0</td>\n",
       "      <td>0.0</td>\n",
       "      <td>0.0</td>\n",
       "      <td>0.0</td>\n",
       "      <td>1.0</td>\n",
       "      <td>0.0</td>\n",
       "      <td>11.0</td>\n",
       "    </tr>\n",
       "    <tr>\n",
       "      <th>3</th>\n",
       "      <td>7.041967e+09</td>\n",
       "      <td>https://bham.craigslist.org/apa/d/birmingham-f...</td>\n",
       "      <td>birmingham</td>\n",
       "      <td>https://bham.craigslist.org</td>\n",
       "      <td>800.0</td>\n",
       "      <td>apartment</td>\n",
       "      <td>927.0</td>\n",
       "      <td>1.0</td>\n",
       "      <td>1.0</td>\n",
       "      <td>1.0</td>\n",
       "      <td>...</td>\n",
       "      <td>0.0</td>\n",
       "      <td>0.0</td>\n",
       "      <td>0.0</td>\n",
       "      <td>0.0</td>\n",
       "      <td>0.0</td>\n",
       "      <td>0.0</td>\n",
       "      <td>0.0</td>\n",
       "      <td>1.0</td>\n",
       "      <td>0.0</td>\n",
       "      <td>11.0</td>\n",
       "    </tr>\n",
       "    <tr>\n",
       "      <th>4</th>\n",
       "      <td>7.041967e+09</td>\n",
       "      <td>https://bham.craigslist.org/apa/d/birmingham-2...</td>\n",
       "      <td>birmingham</td>\n",
       "      <td>https://bham.craigslist.org</td>\n",
       "      <td>785.0</td>\n",
       "      <td>apartment</td>\n",
       "      <td>1047.0</td>\n",
       "      <td>2.0</td>\n",
       "      <td>1.0</td>\n",
       "      <td>1.0</td>\n",
       "      <td>...</td>\n",
       "      <td>0.0</td>\n",
       "      <td>0.0</td>\n",
       "      <td>0.0</td>\n",
       "      <td>0.0</td>\n",
       "      <td>0.0</td>\n",
       "      <td>0.0</td>\n",
       "      <td>0.0</td>\n",
       "      <td>1.0</td>\n",
       "      <td>0.0</td>\n",
       "      <td>11.0</td>\n",
       "    </tr>\n",
       "  </tbody>\n",
       "</table>\n",
       "<p>5 rows × 31 columns</p>\n",
       "</div>"
      ],
      "text/plain": [
       "             id                                                url  \\\n",
       "0  7.039062e+09  https://bham.craigslist.org/apa/d/birmingham-h...   \n",
       "1  7.041971e+09  https://bham.craigslist.org/apa/d/birmingham-w...   \n",
       "2  7.041967e+09  https://bham.craigslist.org/apa/d/birmingham-g...   \n",
       "3  7.041967e+09  https://bham.craigslist.org/apa/d/birmingham-f...   \n",
       "4  7.041967e+09  https://bham.craigslist.org/apa/d/birmingham-2...   \n",
       "\n",
       "       region                   region_url   price       type  sqfeet  beds  \\\n",
       "0  birmingham  https://bham.craigslist.org  1195.0  apartment  1908.0   3.0   \n",
       "1  birmingham  https://bham.craigslist.org  1120.0  apartment  1319.0   3.0   \n",
       "2  birmingham  https://bham.craigslist.org   825.0  apartment  1133.0   1.0   \n",
       "3  birmingham  https://bham.craigslist.org   800.0  apartment   927.0   1.0   \n",
       "4  birmingham  https://bham.craigslist.org   785.0  apartment  1047.0   2.0   \n",
       "\n",
       "   baths  cats_allowed  ...  laundry_w/d hookups  laundry_w/d in unit  \\\n",
       "0    2.0           1.0  ...                  0.0                  0.0   \n",
       "1    2.0           1.0  ...                  0.0                  0.0   \n",
       "2    1.5           1.0  ...                  0.0                  0.0   \n",
       "3    1.0           1.0  ...                  0.0                  0.0   \n",
       "4    1.0           1.0  ...                  0.0                  0.0   \n",
       "\n",
       "   parking_attached garage  parking_carport  parking_detached garage  \\\n",
       "0                      0.0              0.0                      0.0   \n",
       "1                      0.0              0.0                      0.0   \n",
       "2                      0.0              0.0                      0.0   \n",
       "3                      0.0              0.0                      0.0   \n",
       "4                      0.0              0.0                      0.0   \n",
       "\n",
       "  parking_no parking parking_off-street parking parking_street parking  \\\n",
       "0                0.0                        0.0                    1.0   \n",
       "1                0.0                        1.0                    0.0   \n",
       "2                0.0                        0.0                    1.0   \n",
       "3                0.0                        0.0                    1.0   \n",
       "4                0.0                        0.0                    1.0   \n",
       "\n",
       "   parking_valet parking  lat_long_cluster  \n",
       "0                    0.0              11.0  \n",
       "1                    0.0              11.0  \n",
       "2                    0.0              11.0  \n",
       "3                    0.0              11.0  \n",
       "4                    0.0              11.0  \n",
       "\n",
       "[5 rows x 31 columns]"
      ]
     },
     "execution_count": 26,
     "metadata": {},
     "output_type": "execute_result"
    }
   ],
   "source": [
    "# add data to table\n",
    "\n",
    "lat_long_df = pd.DataFrame(lat_long_pred, columns=[\"lat_long_cluster\"])\n",
    "print(lat_long_df.shape)\n",
    "\n",
    "\n",
    "df = pd.concat([df, lat_long_df], axis=1)\n",
    "df = df.drop([\"lat\", \"long\"], axis=1)\n",
    "df.head()"
   ]
  },
  {
   "cell_type": "markdown",
   "metadata": {},
   "source": [
    "## 19- Description"
   ]
  },
  {
   "cell_type": "code",
   "execution_count": 27,
   "metadata": {},
   "outputs": [
    {
     "name": "stdout",
     "output_type": "stream",
     "text": [
      "Country Lane Apartment HomesRENT: $785 / MONTH SIZE: 550 sq ft  BEDROOMS: 1 BATHROOMS: 1 LEASE TERMS: Monthly show contact info UNIT FEATURES:   ** Balcony** Walk-In Closets** Range** HeatingCountry Lane Apartments are located in midtown Anchorage, off Old Seward and E.42nd avenue. Getting around is easy - we're on two main bus routes that travel to almost all sides of Anchorage.  Country Lane is a vintage building, with the benefits of spacious apartments. The back ranch-style buildings feature ground level walk-up apartment homes with front and back yard areas. Perfect for pets - cats and dogs are welcome!PROPERTY FEATURES ** Laundry Facility** Pet Friendly** Maintenance on site** Some Paid Utilities** Double Closets** On Site Management** Interior Hallways** Public Yard & Pet Areas** Midtown Location** Balconies** On The Bus Route  PET POLICY: Cat(s);Dog(s);Breed Restriction;Pet friendly. 2 pets per apartment either cat or dog. Breed and weight restrictions apply. Call for details. The following breeds are not allowed: * Pit Bull * American Pit Bull Terrier * American Staffordshire Terrier * Wolf hybrids * Doberman Pinscher * Saint Bernard * Pit Bull Mix * American Bulldog * Staffordshire Bull Terrier * Rottweiler * German Shepherd VISIT OR CALL US TODAY!  810 E 42nd AveAnchorage, AK 99503 show contact info  Website: https://alaska.weidner.com/apartments/ak/anchorage/country-lane-0/ Along with our income and credit requirements, we do not automatically exclude rental applicants based on criminal history. Any criminal history will be evaluated in consideration of when the crime occurred, what the underlying conduct entailed and/or what the rental applicant has done since the conviction. EQUAL HOUSING OPPORTUNITY\n"
     ]
    }
   ],
   "source": [
    "i=1451\n",
    "print(df.description[i])"
   ]
  },
  {
   "cell_type": "code",
   "execution_count": 28,
   "metadata": {},
   "outputs": [],
   "source": [
    "# from bs4 import BeautifulSoup\n",
    "# import re"
   ]
  },
  {
   "cell_type": "code",
   "execution_count": 29,
   "metadata": {},
   "outputs": [],
   "source": [
    "# stopwords= set(['br', 'the', 'i', 'me', 'my', 'myself', 'we', 'our', 'ours', 'ourselves', 'you', \"you're\", \"you've\",\\\n",
    "#             \"you'll\", \"you'd\", 'your', 'yours', 'yourself', 'yourselves', 'he', 'him', 'his', 'himself', \\\n",
    "#             'she', \"she's\", 'her', 'hers', 'herself', 'it', \"it's\", 'its', 'itself', 'they', 'them', 'their',\\\n",
    "#             'theirs', 'themselves', 'what', 'which', 'who', 'whom', 'this', 'that', \"that'll\", 'these', 'those', \\\n",
    "#             'am', 'is', 'are', 'was', 'were', 'be', 'been', 'being', 'have', 'has', 'had', 'having', 'do', 'does', \\\n",
    "#             'did', 'doing', 'a', 'an', 'the', 'and', 'but', 'if', 'or', 'because', 'as', 'until', 'while', 'of', \\\n",
    "#             'at', 'by', 'for', 'with', 'about', 'against', 'between', 'into', 'through', 'during', 'before', 'after',\\\n",
    "#             'above', 'below', 'to', 'from', 'up', 'down', 'in', 'out', 'on', 'off', 'over', 'under', 'again', 'further',\\\n",
    "#             'then', 'once', 'here', 'there', 'when', 'where', 'why', 'how', 'all', 'any', 'both', 'each', 'few', 'more',\\\n",
    "#             'most', 'other', 'some', 'such', 'only', 'own', 'same', 'so', 'than', 'too', 'very', \\\n",
    "#             's', 't', 'can', 'will', 'just', 'don', \"don't\", 'should', \"should've\", 'now', 'd', 'll', 'm', 'o', 're', \\\n",
    "#             've', 'y', 'ain', 'aren', \"aren't\", 'couldn', \"couldn't\", 'didn', \"didn't\", 'doesn', \"doesn't\", 'hadn',\\\n",
    "#             \"hadn't\", 'hasn', \"hasn't\", 'haven', \"haven't\", 'isn', \"isn't\", 'ma', 'mightn', \"mightn't\", 'mustn',\\\n",
    "#             \"mustn't\", 'needn', \"needn't\", 'shan', \"shan't\", 'shouldn', \"shouldn't\", 'wasn', \"wasn't\", 'weren', \"weren't\", \\\n",
    "#             'won', \"won't\", 'wouldn', \"wouldn't\"])"
   ]
  },
  {
   "cell_type": "code",
   "execution_count": 30,
   "metadata": {},
   "outputs": [],
   "source": [
    "# def decontracted(phrase):\n",
    "#     # specific\n",
    "#     phrase = re.sub(r\"won't\", \"will not\", phrase)\n",
    "#     phrase = re.sub(r\"can\\'t\", \"can not\", phrase)\n",
    "\n",
    "#     # general\n",
    "#     phrase = re.sub(r\"n\\'t\", \" not\", phrase)\n",
    "#     phrase = re.sub(r\"\\'re\", \" are\", phrase)\n",
    "#     phrase = re.sub(r\"\\'s\", \" is\", phrase)\n",
    "#     phrase = re.sub(r\"\\'d\", \" would\", phrase)\n",
    "#     phrase = re.sub(r\"\\'ll\", \" will\", phrase)\n",
    "#     phrase = re.sub(r\"\\'t\", \" not\", phrase)\n",
    "#     phrase = re.sub(r\"\\'ve\", \" have\", phrase)\n",
    "#     phrase = re.sub(r\"\\'m\", \" am\", phrase)\n",
    "#     return phrase"
   ]
  },
  {
   "cell_type": "code",
   "execution_count": 31,
   "metadata": {},
   "outputs": [],
   "source": [
    "# def clean_text(sentance):\n",
    "#     sentance = re.sub(r\"http\\S+\", \"\", sentance)\n",
    "#     sentance = BeautifulSoup(sentance, 'lxml').get_text()\n",
    "#     sentance = decontracted(sentance)\n",
    "#     sentance = re.sub(\"\\S*\\d\\S*\", \"\", sentance).strip()\n",
    "#     sentance = re.sub('[^A-Za-z]+', ' ', sentance)\n",
    "#     # https://gist.github.com/sebleier/554280\n",
    "#     sentance = ' '.join(e.lower() for e in sentance.split() if e.lower() not in stopwords)\n",
    "#     return sentance.strip()"
   ]
  },
  {
   "cell_type": "code",
   "execution_count": 32,
   "metadata": {},
   "outputs": [],
   "source": [
    "# for i in tqdm(range(loop), position=0, leave=True):\n",
    "#     df.description[i] = clean_text(df.description[i])"
   ]
  },
  {
   "cell_type": "code",
   "execution_count": 33,
   "metadata": {},
   "outputs": [],
   "source": [
    "# df.head()\n",
    "# df = df.drop(df.index[4]).reset_index()\n",
    "# print(df.shape)"
   ]
  },
  {
   "cell_type": "code",
   "execution_count": 34,
   "metadata": {},
   "outputs": [],
   "source": [
    "# for i in tqdm(range(loop), position=0, leave=True):\n",
    "#     try:\n",
    "#         df.description[i] = clean_text(df.description[i])\n",
    "#     except:\n",
    "#         df.drop(df.index[i])"
   ]
  },
  {
   "cell_type": "code",
   "execution_count": 35,
   "metadata": {},
   "outputs": [
    {
     "data": {
      "text/plain": [
       "(265189, 31)"
      ]
     },
     "execution_count": 35,
     "metadata": {},
     "output_type": "execute_result"
    }
   ],
   "source": [
    "df.shape"
   ]
  },
  {
   "cell_type": "code",
   "execution_count": 36,
   "metadata": {},
   "outputs": [
    {
     "name": "stderr",
     "output_type": "stream",
     "text": [
      "100%|█████████████████████████████████████████████████████████████████████████| 265189/265189 [15:55<00:00, 277.51it/s]\n"
     ]
    }
   ],
   "source": [
    "from vaderSentiment.vaderSentiment import SentimentIntensityAnalyzer \n",
    "sid_obj = SentimentIntensityAnalyzer()\n",
    "\n",
    "description_dict = {\"description_negative\":[], \"description_neutral\": [], \"description_positive\":[]}\n",
    "\n",
    "\n",
    "loop = df.shape[0]\n",
    "for i in tqdm(range(loop), position=0, leave=True):\n",
    "    desc = df.description[i]\n",
    "    desc = str(desc)\n",
    "    sentiment_dict = sid_obj.polarity_scores(desc) \n",
    "    description_dict[\"description_negative\"].append(sentiment_dict[\"neg\"])\n",
    "    description_dict[\"description_neutral\"].append(sentiment_dict[\"neu\"])\n",
    "    description_dict[\"description_positive\"].append(sentiment_dict[\"pos\"])\n",
    "\n",
    "        "
   ]
  },
  {
   "cell_type": "code",
   "execution_count": 37,
   "metadata": {},
   "outputs": [
    {
     "data": {
      "text/plain": [
       "265189"
      ]
     },
     "execution_count": 37,
     "metadata": {},
     "output_type": "execute_result"
    }
   ],
   "source": [
    "df.shape[0]"
   ]
  },
  {
   "cell_type": "code",
   "execution_count": 38,
   "metadata": {},
   "outputs": [
    {
     "name": "stdout",
     "output_type": "stream",
     "text": [
      "(265189, 3)\n"
     ]
    },
    {
     "data": {
      "text/html": [
       "<div>\n",
       "<style scoped>\n",
       "    .dataframe tbody tr th:only-of-type {\n",
       "        vertical-align: middle;\n",
       "    }\n",
       "\n",
       "    .dataframe tbody tr th {\n",
       "        vertical-align: top;\n",
       "    }\n",
       "\n",
       "    .dataframe thead th {\n",
       "        text-align: right;\n",
       "    }\n",
       "</style>\n",
       "<table border=\"1\" class=\"dataframe\">\n",
       "  <thead>\n",
       "    <tr style=\"text-align: right;\">\n",
       "      <th></th>\n",
       "      <th>description_negative</th>\n",
       "      <th>description_neutral</th>\n",
       "      <th>description_positive</th>\n",
       "    </tr>\n",
       "  </thead>\n",
       "  <tbody>\n",
       "    <tr>\n",
       "      <th>0</th>\n",
       "      <td>0.005</td>\n",
       "      <td>0.875</td>\n",
       "      <td>0.120</td>\n",
       "    </tr>\n",
       "    <tr>\n",
       "      <th>1</th>\n",
       "      <td>0.000</td>\n",
       "      <td>0.771</td>\n",
       "      <td>0.229</td>\n",
       "    </tr>\n",
       "    <tr>\n",
       "      <th>2</th>\n",
       "      <td>0.005</td>\n",
       "      <td>0.876</td>\n",
       "      <td>0.119</td>\n",
       "    </tr>\n",
       "    <tr>\n",
       "      <th>3</th>\n",
       "      <td>0.005</td>\n",
       "      <td>0.875</td>\n",
       "      <td>0.120</td>\n",
       "    </tr>\n",
       "    <tr>\n",
       "      <th>4</th>\n",
       "      <td>0.005</td>\n",
       "      <td>0.888</td>\n",
       "      <td>0.107</td>\n",
       "    </tr>\n",
       "  </tbody>\n",
       "</table>\n",
       "</div>"
      ],
      "text/plain": [
       "   description_negative  description_neutral  description_positive\n",
       "0                 0.005                0.875                 0.120\n",
       "1                 0.000                0.771                 0.229\n",
       "2                 0.005                0.876                 0.119\n",
       "3                 0.005                0.875                 0.120\n",
       "4                 0.005                0.888                 0.107"
      ]
     },
     "execution_count": 38,
     "metadata": {},
     "output_type": "execute_result"
    }
   ],
   "source": [
    "desc_df = pd.DataFrame(description_dict)\n",
    "print(desc_df.shape)\n",
    "desc_df.head()"
   ]
  },
  {
   "cell_type": "code",
   "execution_count": 39,
   "metadata": {},
   "outputs": [
    {
     "data": {
      "text/html": [
       "<div>\n",
       "<style scoped>\n",
       "    .dataframe tbody tr th:only-of-type {\n",
       "        vertical-align: middle;\n",
       "    }\n",
       "\n",
       "    .dataframe tbody tr th {\n",
       "        vertical-align: top;\n",
       "    }\n",
       "\n",
       "    .dataframe thead th {\n",
       "        text-align: right;\n",
       "    }\n",
       "</style>\n",
       "<table border=\"1\" class=\"dataframe\">\n",
       "  <thead>\n",
       "    <tr style=\"text-align: right;\">\n",
       "      <th></th>\n",
       "      <th>id</th>\n",
       "      <th>url</th>\n",
       "      <th>region</th>\n",
       "      <th>region_url</th>\n",
       "      <th>price</th>\n",
       "      <th>type</th>\n",
       "      <th>sqfeet</th>\n",
       "      <th>beds</th>\n",
       "      <th>baths</th>\n",
       "      <th>cats_allowed</th>\n",
       "      <th>...</th>\n",
       "      <th>parking_carport</th>\n",
       "      <th>parking_detached garage</th>\n",
       "      <th>parking_no parking</th>\n",
       "      <th>parking_off-street parking</th>\n",
       "      <th>parking_street parking</th>\n",
       "      <th>parking_valet parking</th>\n",
       "      <th>lat_long_cluster</th>\n",
       "      <th>description_negative</th>\n",
       "      <th>description_neutral</th>\n",
       "      <th>description_positive</th>\n",
       "    </tr>\n",
       "  </thead>\n",
       "  <tbody>\n",
       "    <tr>\n",
       "      <th>0</th>\n",
       "      <td>7.039062e+09</td>\n",
       "      <td>https://bham.craigslist.org/apa/d/birmingham-h...</td>\n",
       "      <td>birmingham</td>\n",
       "      <td>https://bham.craigslist.org</td>\n",
       "      <td>1195.0</td>\n",
       "      <td>apartment</td>\n",
       "      <td>1908.0</td>\n",
       "      <td>3.0</td>\n",
       "      <td>2.0</td>\n",
       "      <td>1.0</td>\n",
       "      <td>...</td>\n",
       "      <td>0.0</td>\n",
       "      <td>0.0</td>\n",
       "      <td>0.0</td>\n",
       "      <td>0.0</td>\n",
       "      <td>1.0</td>\n",
       "      <td>0.0</td>\n",
       "      <td>11.0</td>\n",
       "      <td>0.005</td>\n",
       "      <td>0.875</td>\n",
       "      <td>0.120</td>\n",
       "    </tr>\n",
       "    <tr>\n",
       "      <th>1</th>\n",
       "      <td>7.041971e+09</td>\n",
       "      <td>https://bham.craigslist.org/apa/d/birmingham-w...</td>\n",
       "      <td>birmingham</td>\n",
       "      <td>https://bham.craigslist.org</td>\n",
       "      <td>1120.0</td>\n",
       "      <td>apartment</td>\n",
       "      <td>1319.0</td>\n",
       "      <td>3.0</td>\n",
       "      <td>2.0</td>\n",
       "      <td>1.0</td>\n",
       "      <td>...</td>\n",
       "      <td>0.0</td>\n",
       "      <td>0.0</td>\n",
       "      <td>0.0</td>\n",
       "      <td>1.0</td>\n",
       "      <td>0.0</td>\n",
       "      <td>0.0</td>\n",
       "      <td>11.0</td>\n",
       "      <td>0.000</td>\n",
       "      <td>0.771</td>\n",
       "      <td>0.229</td>\n",
       "    </tr>\n",
       "    <tr>\n",
       "      <th>2</th>\n",
       "      <td>7.041967e+09</td>\n",
       "      <td>https://bham.craigslist.org/apa/d/birmingham-g...</td>\n",
       "      <td>birmingham</td>\n",
       "      <td>https://bham.craigslist.org</td>\n",
       "      <td>825.0</td>\n",
       "      <td>apartment</td>\n",
       "      <td>1133.0</td>\n",
       "      <td>1.0</td>\n",
       "      <td>1.5</td>\n",
       "      <td>1.0</td>\n",
       "      <td>...</td>\n",
       "      <td>0.0</td>\n",
       "      <td>0.0</td>\n",
       "      <td>0.0</td>\n",
       "      <td>0.0</td>\n",
       "      <td>1.0</td>\n",
       "      <td>0.0</td>\n",
       "      <td>11.0</td>\n",
       "      <td>0.005</td>\n",
       "      <td>0.876</td>\n",
       "      <td>0.119</td>\n",
       "    </tr>\n",
       "    <tr>\n",
       "      <th>3</th>\n",
       "      <td>7.041967e+09</td>\n",
       "      <td>https://bham.craigslist.org/apa/d/birmingham-f...</td>\n",
       "      <td>birmingham</td>\n",
       "      <td>https://bham.craigslist.org</td>\n",
       "      <td>800.0</td>\n",
       "      <td>apartment</td>\n",
       "      <td>927.0</td>\n",
       "      <td>1.0</td>\n",
       "      <td>1.0</td>\n",
       "      <td>1.0</td>\n",
       "      <td>...</td>\n",
       "      <td>0.0</td>\n",
       "      <td>0.0</td>\n",
       "      <td>0.0</td>\n",
       "      <td>0.0</td>\n",
       "      <td>1.0</td>\n",
       "      <td>0.0</td>\n",
       "      <td>11.0</td>\n",
       "      <td>0.005</td>\n",
       "      <td>0.875</td>\n",
       "      <td>0.120</td>\n",
       "    </tr>\n",
       "    <tr>\n",
       "      <th>4</th>\n",
       "      <td>7.041967e+09</td>\n",
       "      <td>https://bham.craigslist.org/apa/d/birmingham-2...</td>\n",
       "      <td>birmingham</td>\n",
       "      <td>https://bham.craigslist.org</td>\n",
       "      <td>785.0</td>\n",
       "      <td>apartment</td>\n",
       "      <td>1047.0</td>\n",
       "      <td>2.0</td>\n",
       "      <td>1.0</td>\n",
       "      <td>1.0</td>\n",
       "      <td>...</td>\n",
       "      <td>0.0</td>\n",
       "      <td>0.0</td>\n",
       "      <td>0.0</td>\n",
       "      <td>0.0</td>\n",
       "      <td>1.0</td>\n",
       "      <td>0.0</td>\n",
       "      <td>11.0</td>\n",
       "      <td>0.005</td>\n",
       "      <td>0.888</td>\n",
       "      <td>0.107</td>\n",
       "    </tr>\n",
       "  </tbody>\n",
       "</table>\n",
       "<p>5 rows × 33 columns</p>\n",
       "</div>"
      ],
      "text/plain": [
       "             id                                                url  \\\n",
       "0  7.039062e+09  https://bham.craigslist.org/apa/d/birmingham-h...   \n",
       "1  7.041971e+09  https://bham.craigslist.org/apa/d/birmingham-w...   \n",
       "2  7.041967e+09  https://bham.craigslist.org/apa/d/birmingham-g...   \n",
       "3  7.041967e+09  https://bham.craigslist.org/apa/d/birmingham-f...   \n",
       "4  7.041967e+09  https://bham.craigslist.org/apa/d/birmingham-2...   \n",
       "\n",
       "       region                   region_url   price       type  sqfeet  beds  \\\n",
       "0  birmingham  https://bham.craigslist.org  1195.0  apartment  1908.0   3.0   \n",
       "1  birmingham  https://bham.craigslist.org  1120.0  apartment  1319.0   3.0   \n",
       "2  birmingham  https://bham.craigslist.org   825.0  apartment  1133.0   1.0   \n",
       "3  birmingham  https://bham.craigslist.org   800.0  apartment   927.0   1.0   \n",
       "4  birmingham  https://bham.craigslist.org   785.0  apartment  1047.0   2.0   \n",
       "\n",
       "   baths  cats_allowed  ...  parking_carport  parking_detached garage  \\\n",
       "0    2.0           1.0  ...              0.0                      0.0   \n",
       "1    2.0           1.0  ...              0.0                      0.0   \n",
       "2    1.5           1.0  ...              0.0                      0.0   \n",
       "3    1.0           1.0  ...              0.0                      0.0   \n",
       "4    1.0           1.0  ...              0.0                      0.0   \n",
       "\n",
       "   parking_no parking  parking_off-street parking  parking_street parking  \\\n",
       "0                 0.0                         0.0                     1.0   \n",
       "1                 0.0                         1.0                     0.0   \n",
       "2                 0.0                         0.0                     1.0   \n",
       "3                 0.0                         0.0                     1.0   \n",
       "4                 0.0                         0.0                     1.0   \n",
       "\n",
       "  parking_valet parking lat_long_cluster  description_negative  \\\n",
       "0                   0.0             11.0                 0.005   \n",
       "1                   0.0             11.0                 0.000   \n",
       "2                   0.0             11.0                 0.005   \n",
       "3                   0.0             11.0                 0.005   \n",
       "4                   0.0             11.0                 0.005   \n",
       "\n",
       "   description_neutral  description_positive  \n",
       "0                0.875                 0.120  \n",
       "1                0.771                 0.229  \n",
       "2                0.876                 0.119  \n",
       "3                0.875                 0.120  \n",
       "4                0.888                 0.107  \n",
       "\n",
       "[5 rows x 33 columns]"
      ]
     },
     "execution_count": 39,
     "metadata": {},
     "output_type": "execute_result"
    }
   ],
   "source": [
    "# add data to table\n",
    "\n",
    "df = pd.concat([df, desc_df], axis=1)\n",
    "df = df.drop([\"description\"], axis=1)\n",
    "df.head()"
   ]
  },
  {
   "cell_type": "code",
   "execution_count": 40,
   "metadata": {},
   "outputs": [
    {
     "name": "stdout",
     "output_type": "stream",
     "text": [
      "(262349, 33)\n"
     ]
    },
    {
     "data": {
      "text/plain": [
       "id                            0\n",
       "url                           0\n",
       "region                        0\n",
       "region_url                    0\n",
       "price                         0\n",
       "type                          0\n",
       "sqfeet                        0\n",
       "beds                          0\n",
       "baths                         0\n",
       "cats_allowed                  0\n",
       "dogs_allowed                  0\n",
       "smoking_allowed               0\n",
       "wheelchair_access             0\n",
       "electric_vehicle_charge       0\n",
       "comes_furnished               0\n",
       "image_url                     0\n",
       "state                         0\n",
       "laundry_laundry in bldg       0\n",
       "laundry_laundry on site       0\n",
       "laundry_no laundry on site    0\n",
       "laundry_w/d hookups           0\n",
       "laundry_w/d in unit           0\n",
       "parking_attached garage       0\n",
       "parking_carport               0\n",
       "parking_detached garage       0\n",
       "parking_no parking            0\n",
       "parking_off-street parking    0\n",
       "parking_street parking        0\n",
       "parking_valet parking         0\n",
       "lat_long_cluster              0\n",
       "description_negative          0\n",
       "description_neutral           0\n",
       "description_positive          0\n",
       "dtype: int64"
      ]
     },
     "execution_count": 40,
     "metadata": {},
     "output_type": "execute_result"
    }
   ],
   "source": [
    "df.dropna(inplace=True)\n",
    "print(df.shape)\n",
    "df.isnull().sum()"
   ]
  },
  {
   "cell_type": "markdown",
   "metadata": {},
   "source": [
    "## 6- Type"
   ]
  },
  {
   "cell_type": "code",
   "execution_count": 41,
   "metadata": {},
   "outputs": [
    {
     "name": "stdout",
     "output_type": "stream",
     "text": [
      "apartment          216045\n",
      "house               23118\n",
      "townhouse           10263\n",
      "condo                4825\n",
      "duplex               3398\n",
      "manufactured         2997\n",
      "cottage/cabin         697\n",
      "loft                  508\n",
      "flat                  349\n",
      "in-law                144\n",
      "land                    4\n",
      "assisted living         1\n",
      "Name: type, dtype: int64\n",
      "0\n"
     ]
    }
   ],
   "source": [
    "print(df[\"type\"].value_counts())\n",
    "print(df[\"type\"].isna().sum())"
   ]
  },
  {
   "cell_type": "code",
   "execution_count": 42,
   "metadata": {},
   "outputs": [
    {
     "name": "stderr",
     "output_type": "stream",
     "text": [
      "100%|████████████████████████████████████████████████████████████████████████████████████| 5/5 [00:00<00:00,  9.87it/s]\n"
     ]
    }
   ],
   "source": [
    "remove_type = [\"assisted living\", \"land\", \"in-law\", 'flat', \"loft\"]\n",
    "\n",
    "for i in tqdm(range(len(remove_type)), position=0, leave=True):\n",
    "    df.drop(df[\"type\"][df[\"type\"] == remove_type[i]].index, inplace=True)\n"
   ]
  },
  {
   "cell_type": "code",
   "execution_count": 43,
   "metadata": {},
   "outputs": [
    {
     "name": "stdout",
     "output_type": "stream",
     "text": [
      "apartment        216045\n",
      "house             23118\n",
      "townhouse         10263\n",
      "condo              4825\n",
      "duplex             3398\n",
      "manufactured       2997\n",
      "cottage/cabin       697\n",
      "Name: type, dtype: int64\n",
      "0\n"
     ]
    }
   ],
   "source": [
    "print(df[\"type\"].value_counts())\n",
    "print(df[\"type\"].isna().sum())"
   ]
  },
  {
   "cell_type": "code",
   "execution_count": 44,
   "metadata": {},
   "outputs": [
    {
     "name": "stdout",
     "output_type": "stream",
     "text": [
      "(261343, 7)\n"
     ]
    },
    {
     "data": {
      "text/html": [
       "<div>\n",
       "<style scoped>\n",
       "    .dataframe tbody tr th:only-of-type {\n",
       "        vertical-align: middle;\n",
       "    }\n",
       "\n",
       "    .dataframe tbody tr th {\n",
       "        vertical-align: top;\n",
       "    }\n",
       "\n",
       "    .dataframe thead th {\n",
       "        text-align: right;\n",
       "    }\n",
       "</style>\n",
       "<table border=\"1\" class=\"dataframe\">\n",
       "  <thead>\n",
       "    <tr style=\"text-align: right;\">\n",
       "      <th></th>\n",
       "      <th>type_apartment</th>\n",
       "      <th>type_condo</th>\n",
       "      <th>type_cottage/cabin</th>\n",
       "      <th>type_duplex</th>\n",
       "      <th>type_house</th>\n",
       "      <th>type_manufactured</th>\n",
       "      <th>type_townhouse</th>\n",
       "    </tr>\n",
       "  </thead>\n",
       "  <tbody>\n",
       "    <tr>\n",
       "      <th>0</th>\n",
       "      <td>1</td>\n",
       "      <td>0</td>\n",
       "      <td>0</td>\n",
       "      <td>0</td>\n",
       "      <td>0</td>\n",
       "      <td>0</td>\n",
       "      <td>0</td>\n",
       "    </tr>\n",
       "    <tr>\n",
       "      <th>1</th>\n",
       "      <td>1</td>\n",
       "      <td>0</td>\n",
       "      <td>0</td>\n",
       "      <td>0</td>\n",
       "      <td>0</td>\n",
       "      <td>0</td>\n",
       "      <td>0</td>\n",
       "    </tr>\n",
       "    <tr>\n",
       "      <th>2</th>\n",
       "      <td>1</td>\n",
       "      <td>0</td>\n",
       "      <td>0</td>\n",
       "      <td>0</td>\n",
       "      <td>0</td>\n",
       "      <td>0</td>\n",
       "      <td>0</td>\n",
       "    </tr>\n",
       "    <tr>\n",
       "      <th>3</th>\n",
       "      <td>1</td>\n",
       "      <td>0</td>\n",
       "      <td>0</td>\n",
       "      <td>0</td>\n",
       "      <td>0</td>\n",
       "      <td>0</td>\n",
       "      <td>0</td>\n",
       "    </tr>\n",
       "    <tr>\n",
       "      <th>4</th>\n",
       "      <td>1</td>\n",
       "      <td>0</td>\n",
       "      <td>0</td>\n",
       "      <td>0</td>\n",
       "      <td>0</td>\n",
       "      <td>0</td>\n",
       "      <td>0</td>\n",
       "    </tr>\n",
       "  </tbody>\n",
       "</table>\n",
       "</div>"
      ],
      "text/plain": [
       "   type_apartment  type_condo  type_cottage/cabin  type_duplex  type_house  \\\n",
       "0               1           0                   0            0           0   \n",
       "1               1           0                   0            0           0   \n",
       "2               1           0                   0            0           0   \n",
       "3               1           0                   0            0           0   \n",
       "4               1           0                   0            0           0   \n",
       "\n",
       "   type_manufactured  type_townhouse  \n",
       "0                  0               0  \n",
       "1                  0               0  \n",
       "2                  0               0  \n",
       "3                  0               0  \n",
       "4                  0               0  "
      ]
     },
     "execution_count": 44,
     "metadata": {},
     "output_type": "execute_result"
    }
   ],
   "source": [
    "type_df = pd.get_dummies(df[\"type\"], prefix=\"type\")\n",
    "print(type_df.shape)\n",
    "type_df.head()"
   ]
  },
  {
   "cell_type": "code",
   "execution_count": 45,
   "metadata": {},
   "outputs": [
    {
     "name": "stdout",
     "output_type": "stream",
     "text": [
      "<class 'pandas.core.frame.DataFrame'>\n",
      "Int64Index: 261343 entries, 0 to 263768\n",
      "Data columns (total 7 columns):\n",
      "type_apartment        261343 non-null float64\n",
      "type_condo            261343 non-null float64\n",
      "type_cottage/cabin    261343 non-null float64\n",
      "type_duplex           261343 non-null float64\n",
      "type_house            261343 non-null float64\n",
      "type_manufactured     261343 non-null float64\n",
      "type_townhouse        261343 non-null float64\n",
      "dtypes: float64(7)\n",
      "memory usage: 16.0 MB\n"
     ]
    }
   ],
   "source": [
    "type_df = type_df.astype(\"float64\")\n",
    "type_df.info()"
   ]
  },
  {
   "cell_type": "code",
   "execution_count": 46,
   "metadata": {},
   "outputs": [
    {
     "data": {
      "text/html": [
       "<div>\n",
       "<style scoped>\n",
       "    .dataframe tbody tr th:only-of-type {\n",
       "        vertical-align: middle;\n",
       "    }\n",
       "\n",
       "    .dataframe tbody tr th {\n",
       "        vertical-align: top;\n",
       "    }\n",
       "\n",
       "    .dataframe thead th {\n",
       "        text-align: right;\n",
       "    }\n",
       "</style>\n",
       "<table border=\"1\" class=\"dataframe\">\n",
       "  <thead>\n",
       "    <tr style=\"text-align: right;\">\n",
       "      <th></th>\n",
       "      <th>id</th>\n",
       "      <th>url</th>\n",
       "      <th>region</th>\n",
       "      <th>region_url</th>\n",
       "      <th>price</th>\n",
       "      <th>sqfeet</th>\n",
       "      <th>beds</th>\n",
       "      <th>baths</th>\n",
       "      <th>cats_allowed</th>\n",
       "      <th>dogs_allowed</th>\n",
       "      <th>...</th>\n",
       "      <th>description_negative</th>\n",
       "      <th>description_neutral</th>\n",
       "      <th>description_positive</th>\n",
       "      <th>type_apartment</th>\n",
       "      <th>type_condo</th>\n",
       "      <th>type_cottage/cabin</th>\n",
       "      <th>type_duplex</th>\n",
       "      <th>type_house</th>\n",
       "      <th>type_manufactured</th>\n",
       "      <th>type_townhouse</th>\n",
       "    </tr>\n",
       "  </thead>\n",
       "  <tbody>\n",
       "    <tr>\n",
       "      <th>0</th>\n",
       "      <td>7.039062e+09</td>\n",
       "      <td>https://bham.craigslist.org/apa/d/birmingham-h...</td>\n",
       "      <td>birmingham</td>\n",
       "      <td>https://bham.craigslist.org</td>\n",
       "      <td>1195.0</td>\n",
       "      <td>1908.0</td>\n",
       "      <td>3.0</td>\n",
       "      <td>2.0</td>\n",
       "      <td>1.0</td>\n",
       "      <td>1.0</td>\n",
       "      <td>...</td>\n",
       "      <td>0.005</td>\n",
       "      <td>0.875</td>\n",
       "      <td>0.120</td>\n",
       "      <td>1.0</td>\n",
       "      <td>0.0</td>\n",
       "      <td>0.0</td>\n",
       "      <td>0.0</td>\n",
       "      <td>0.0</td>\n",
       "      <td>0.0</td>\n",
       "      <td>0.0</td>\n",
       "    </tr>\n",
       "    <tr>\n",
       "      <th>1</th>\n",
       "      <td>7.041971e+09</td>\n",
       "      <td>https://bham.craigslist.org/apa/d/birmingham-w...</td>\n",
       "      <td>birmingham</td>\n",
       "      <td>https://bham.craigslist.org</td>\n",
       "      <td>1120.0</td>\n",
       "      <td>1319.0</td>\n",
       "      <td>3.0</td>\n",
       "      <td>2.0</td>\n",
       "      <td>1.0</td>\n",
       "      <td>1.0</td>\n",
       "      <td>...</td>\n",
       "      <td>0.000</td>\n",
       "      <td>0.771</td>\n",
       "      <td>0.229</td>\n",
       "      <td>1.0</td>\n",
       "      <td>0.0</td>\n",
       "      <td>0.0</td>\n",
       "      <td>0.0</td>\n",
       "      <td>0.0</td>\n",
       "      <td>0.0</td>\n",
       "      <td>0.0</td>\n",
       "    </tr>\n",
       "    <tr>\n",
       "      <th>2</th>\n",
       "      <td>7.041967e+09</td>\n",
       "      <td>https://bham.craigslist.org/apa/d/birmingham-g...</td>\n",
       "      <td>birmingham</td>\n",
       "      <td>https://bham.craigslist.org</td>\n",
       "      <td>825.0</td>\n",
       "      <td>1133.0</td>\n",
       "      <td>1.0</td>\n",
       "      <td>1.5</td>\n",
       "      <td>1.0</td>\n",
       "      <td>1.0</td>\n",
       "      <td>...</td>\n",
       "      <td>0.005</td>\n",
       "      <td>0.876</td>\n",
       "      <td>0.119</td>\n",
       "      <td>1.0</td>\n",
       "      <td>0.0</td>\n",
       "      <td>0.0</td>\n",
       "      <td>0.0</td>\n",
       "      <td>0.0</td>\n",
       "      <td>0.0</td>\n",
       "      <td>0.0</td>\n",
       "    </tr>\n",
       "    <tr>\n",
       "      <th>3</th>\n",
       "      <td>7.041967e+09</td>\n",
       "      <td>https://bham.craigslist.org/apa/d/birmingham-f...</td>\n",
       "      <td>birmingham</td>\n",
       "      <td>https://bham.craigslist.org</td>\n",
       "      <td>800.0</td>\n",
       "      <td>927.0</td>\n",
       "      <td>1.0</td>\n",
       "      <td>1.0</td>\n",
       "      <td>1.0</td>\n",
       "      <td>1.0</td>\n",
       "      <td>...</td>\n",
       "      <td>0.005</td>\n",
       "      <td>0.875</td>\n",
       "      <td>0.120</td>\n",
       "      <td>1.0</td>\n",
       "      <td>0.0</td>\n",
       "      <td>0.0</td>\n",
       "      <td>0.0</td>\n",
       "      <td>0.0</td>\n",
       "      <td>0.0</td>\n",
       "      <td>0.0</td>\n",
       "    </tr>\n",
       "    <tr>\n",
       "      <th>4</th>\n",
       "      <td>7.041967e+09</td>\n",
       "      <td>https://bham.craigslist.org/apa/d/birmingham-2...</td>\n",
       "      <td>birmingham</td>\n",
       "      <td>https://bham.craigslist.org</td>\n",
       "      <td>785.0</td>\n",
       "      <td>1047.0</td>\n",
       "      <td>2.0</td>\n",
       "      <td>1.0</td>\n",
       "      <td>1.0</td>\n",
       "      <td>1.0</td>\n",
       "      <td>...</td>\n",
       "      <td>0.005</td>\n",
       "      <td>0.888</td>\n",
       "      <td>0.107</td>\n",
       "      <td>1.0</td>\n",
       "      <td>0.0</td>\n",
       "      <td>0.0</td>\n",
       "      <td>0.0</td>\n",
       "      <td>0.0</td>\n",
       "      <td>0.0</td>\n",
       "      <td>0.0</td>\n",
       "    </tr>\n",
       "  </tbody>\n",
       "</table>\n",
       "<p>5 rows × 39 columns</p>\n",
       "</div>"
      ],
      "text/plain": [
       "             id                                                url  \\\n",
       "0  7.039062e+09  https://bham.craigslist.org/apa/d/birmingham-h...   \n",
       "1  7.041971e+09  https://bham.craigslist.org/apa/d/birmingham-w...   \n",
       "2  7.041967e+09  https://bham.craigslist.org/apa/d/birmingham-g...   \n",
       "3  7.041967e+09  https://bham.craigslist.org/apa/d/birmingham-f...   \n",
       "4  7.041967e+09  https://bham.craigslist.org/apa/d/birmingham-2...   \n",
       "\n",
       "       region                   region_url   price  sqfeet  beds  baths  \\\n",
       "0  birmingham  https://bham.craigslist.org  1195.0  1908.0   3.0    2.0   \n",
       "1  birmingham  https://bham.craigslist.org  1120.0  1319.0   3.0    2.0   \n",
       "2  birmingham  https://bham.craigslist.org   825.0  1133.0   1.0    1.5   \n",
       "3  birmingham  https://bham.craigslist.org   800.0   927.0   1.0    1.0   \n",
       "4  birmingham  https://bham.craigslist.org   785.0  1047.0   2.0    1.0   \n",
       "\n",
       "   cats_allowed  dogs_allowed  ...  description_negative  description_neutral  \\\n",
       "0           1.0           1.0  ...                 0.005                0.875   \n",
       "1           1.0           1.0  ...                 0.000                0.771   \n",
       "2           1.0           1.0  ...                 0.005                0.876   \n",
       "3           1.0           1.0  ...                 0.005                0.875   \n",
       "4           1.0           1.0  ...                 0.005                0.888   \n",
       "\n",
       "   description_positive  type_apartment type_condo type_cottage/cabin  \\\n",
       "0                 0.120             1.0        0.0                0.0   \n",
       "1                 0.229             1.0        0.0                0.0   \n",
       "2                 0.119             1.0        0.0                0.0   \n",
       "3                 0.120             1.0        0.0                0.0   \n",
       "4                 0.107             1.0        0.0                0.0   \n",
       "\n",
       "   type_duplex  type_house  type_manufactured  type_townhouse  \n",
       "0          0.0         0.0                0.0             0.0  \n",
       "1          0.0         0.0                0.0             0.0  \n",
       "2          0.0         0.0                0.0             0.0  \n",
       "3          0.0         0.0                0.0             0.0  \n",
       "4          0.0         0.0                0.0             0.0  \n",
       "\n",
       "[5 rows x 39 columns]"
      ]
     },
     "execution_count": 46,
     "metadata": {},
     "output_type": "execute_result"
    }
   ],
   "source": [
    "# add data to table\n",
    "df = pd.concat([df, type_df], axis=1)\n",
    "df = df.drop([\"type\"], axis=1)\n",
    "df.head()"
   ]
  },
  {
   "cell_type": "code",
   "execution_count": 47,
   "metadata": {},
   "outputs": [
    {
     "name": "stdout",
     "output_type": "stream",
     "text": [
      "<class 'pandas.core.frame.DataFrame'>\n",
      "Int64Index: 261343 entries, 0 to 263768\n",
      "Data columns (total 39 columns):\n",
      "id                            261343 non-null float64\n",
      "url                           261343 non-null object\n",
      "region                        261343 non-null object\n",
      "region_url                    261343 non-null object\n",
      "price                         261343 non-null float64\n",
      "sqfeet                        261343 non-null float64\n",
      "beds                          261343 non-null float64\n",
      "baths                         261343 non-null float64\n",
      "cats_allowed                  261343 non-null float64\n",
      "dogs_allowed                  261343 non-null float64\n",
      "smoking_allowed               261343 non-null float64\n",
      "wheelchair_access             261343 non-null float64\n",
      "electric_vehicle_charge       261343 non-null float64\n",
      "comes_furnished               261343 non-null float64\n",
      "image_url                     261343 non-null object\n",
      "state                         261343 non-null object\n",
      "laundry_laundry in bldg       261343 non-null float64\n",
      "laundry_laundry on site       261343 non-null float64\n",
      "laundry_no laundry on site    261343 non-null float64\n",
      "laundry_w/d hookups           261343 non-null float64\n",
      "laundry_w/d in unit           261343 non-null float64\n",
      "parking_attached garage       261343 non-null float64\n",
      "parking_carport               261343 non-null float64\n",
      "parking_detached garage       261343 non-null float64\n",
      "parking_no parking            261343 non-null float64\n",
      "parking_off-street parking    261343 non-null float64\n",
      "parking_street parking        261343 non-null float64\n",
      "parking_valet parking         261343 non-null float64\n",
      "lat_long_cluster              261343 non-null float64\n",
      "description_negative          261343 non-null float64\n",
      "description_neutral           261343 non-null float64\n",
      "description_positive          261343 non-null float64\n",
      "type_apartment                261343 non-null float64\n",
      "type_condo                    261343 non-null float64\n",
      "type_cottage/cabin            261343 non-null float64\n",
      "type_duplex                   261343 non-null float64\n",
      "type_house                    261343 non-null float64\n",
      "type_manufactured             261343 non-null float64\n",
      "type_townhouse                261343 non-null float64\n",
      "dtypes: float64(34), object(5)\n",
      "memory usage: 79.8+ MB\n"
     ]
    }
   ],
   "source": [
    "df\n",
    "df.info()"
   ]
  },
  {
   "cell_type": "code",
   "execution_count": 50,
   "metadata": {},
   "outputs": [
    {
     "data": {
      "text/html": [
       "<div>\n",
       "<style scoped>\n",
       "    .dataframe tbody tr th:only-of-type {\n",
       "        vertical-align: middle;\n",
       "    }\n",
       "\n",
       "    .dataframe tbody tr th {\n",
       "        vertical-align: top;\n",
       "    }\n",
       "\n",
       "    .dataframe thead th {\n",
       "        text-align: right;\n",
       "    }\n",
       "</style>\n",
       "<table border=\"1\" class=\"dataframe\">\n",
       "  <thead>\n",
       "    <tr style=\"text-align: right;\">\n",
       "      <th></th>\n",
       "      <th>id</th>\n",
       "      <th>url</th>\n",
       "      <th>region</th>\n",
       "      <th>region_url</th>\n",
       "      <th>price</th>\n",
       "      <th>sqfeet</th>\n",
       "      <th>beds</th>\n",
       "      <th>baths</th>\n",
       "      <th>cats_allowed</th>\n",
       "      <th>dogs_allowed</th>\n",
       "      <th>...</th>\n",
       "      <th>description_negative</th>\n",
       "      <th>description_neutral</th>\n",
       "      <th>description_positive</th>\n",
       "      <th>type_apartment</th>\n",
       "      <th>type_condo</th>\n",
       "      <th>type_cottage/cabin</th>\n",
       "      <th>type_duplex</th>\n",
       "      <th>type_house</th>\n",
       "      <th>type_manufactured</th>\n",
       "      <th>type_townhouse</th>\n",
       "    </tr>\n",
       "  </thead>\n",
       "  <tbody>\n",
       "    <tr>\n",
       "      <th>0</th>\n",
       "      <td>7.039062e+09</td>\n",
       "      <td>https://bham.craigslist.org/apa/d/birmingham-h...</td>\n",
       "      <td>birmingham</td>\n",
       "      <td>https://bham.craigslist.org</td>\n",
       "      <td>1195.0</td>\n",
       "      <td>1908.0</td>\n",
       "      <td>3.0</td>\n",
       "      <td>2.0</td>\n",
       "      <td>1.0</td>\n",
       "      <td>1.0</td>\n",
       "      <td>...</td>\n",
       "      <td>0.005</td>\n",
       "      <td>0.875</td>\n",
       "      <td>0.120</td>\n",
       "      <td>1.0</td>\n",
       "      <td>0.0</td>\n",
       "      <td>0.0</td>\n",
       "      <td>0.0</td>\n",
       "      <td>0.0</td>\n",
       "      <td>0.0</td>\n",
       "      <td>0.0</td>\n",
       "    </tr>\n",
       "    <tr>\n",
       "      <th>1</th>\n",
       "      <td>7.041971e+09</td>\n",
       "      <td>https://bham.craigslist.org/apa/d/birmingham-w...</td>\n",
       "      <td>birmingham</td>\n",
       "      <td>https://bham.craigslist.org</td>\n",
       "      <td>1120.0</td>\n",
       "      <td>1319.0</td>\n",
       "      <td>3.0</td>\n",
       "      <td>2.0</td>\n",
       "      <td>1.0</td>\n",
       "      <td>1.0</td>\n",
       "      <td>...</td>\n",
       "      <td>0.000</td>\n",
       "      <td>0.771</td>\n",
       "      <td>0.229</td>\n",
       "      <td>1.0</td>\n",
       "      <td>0.0</td>\n",
       "      <td>0.0</td>\n",
       "      <td>0.0</td>\n",
       "      <td>0.0</td>\n",
       "      <td>0.0</td>\n",
       "      <td>0.0</td>\n",
       "    </tr>\n",
       "    <tr>\n",
       "      <th>2</th>\n",
       "      <td>7.041967e+09</td>\n",
       "      <td>https://bham.craigslist.org/apa/d/birmingham-g...</td>\n",
       "      <td>birmingham</td>\n",
       "      <td>https://bham.craigslist.org</td>\n",
       "      <td>825.0</td>\n",
       "      <td>1133.0</td>\n",
       "      <td>1.0</td>\n",
       "      <td>1.5</td>\n",
       "      <td>1.0</td>\n",
       "      <td>1.0</td>\n",
       "      <td>...</td>\n",
       "      <td>0.005</td>\n",
       "      <td>0.876</td>\n",
       "      <td>0.119</td>\n",
       "      <td>1.0</td>\n",
       "      <td>0.0</td>\n",
       "      <td>0.0</td>\n",
       "      <td>0.0</td>\n",
       "      <td>0.0</td>\n",
       "      <td>0.0</td>\n",
       "      <td>0.0</td>\n",
       "    </tr>\n",
       "    <tr>\n",
       "      <th>3</th>\n",
       "      <td>7.041967e+09</td>\n",
       "      <td>https://bham.craigslist.org/apa/d/birmingham-f...</td>\n",
       "      <td>birmingham</td>\n",
       "      <td>https://bham.craigslist.org</td>\n",
       "      <td>800.0</td>\n",
       "      <td>927.0</td>\n",
       "      <td>1.0</td>\n",
       "      <td>1.0</td>\n",
       "      <td>1.0</td>\n",
       "      <td>1.0</td>\n",
       "      <td>...</td>\n",
       "      <td>0.005</td>\n",
       "      <td>0.875</td>\n",
       "      <td>0.120</td>\n",
       "      <td>1.0</td>\n",
       "      <td>0.0</td>\n",
       "      <td>0.0</td>\n",
       "      <td>0.0</td>\n",
       "      <td>0.0</td>\n",
       "      <td>0.0</td>\n",
       "      <td>0.0</td>\n",
       "    </tr>\n",
       "    <tr>\n",
       "      <th>4</th>\n",
       "      <td>7.041967e+09</td>\n",
       "      <td>https://bham.craigslist.org/apa/d/birmingham-2...</td>\n",
       "      <td>birmingham</td>\n",
       "      <td>https://bham.craigslist.org</td>\n",
       "      <td>785.0</td>\n",
       "      <td>1047.0</td>\n",
       "      <td>2.0</td>\n",
       "      <td>1.0</td>\n",
       "      <td>1.0</td>\n",
       "      <td>1.0</td>\n",
       "      <td>...</td>\n",
       "      <td>0.005</td>\n",
       "      <td>0.888</td>\n",
       "      <td>0.107</td>\n",
       "      <td>1.0</td>\n",
       "      <td>0.0</td>\n",
       "      <td>0.0</td>\n",
       "      <td>0.0</td>\n",
       "      <td>0.0</td>\n",
       "      <td>0.0</td>\n",
       "      <td>0.0</td>\n",
       "    </tr>\n",
       "  </tbody>\n",
       "</table>\n",
       "<p>5 rows × 39 columns</p>\n",
       "</div>"
      ],
      "text/plain": [
       "             id                                                url  \\\n",
       "0  7.039062e+09  https://bham.craigslist.org/apa/d/birmingham-h...   \n",
       "1  7.041971e+09  https://bham.craigslist.org/apa/d/birmingham-w...   \n",
       "2  7.041967e+09  https://bham.craigslist.org/apa/d/birmingham-g...   \n",
       "3  7.041967e+09  https://bham.craigslist.org/apa/d/birmingham-f...   \n",
       "4  7.041967e+09  https://bham.craigslist.org/apa/d/birmingham-2...   \n",
       "\n",
       "       region                   region_url   price  sqfeet  beds  baths  \\\n",
       "0  birmingham  https://bham.craigslist.org  1195.0  1908.0   3.0    2.0   \n",
       "1  birmingham  https://bham.craigslist.org  1120.0  1319.0   3.0    2.0   \n",
       "2  birmingham  https://bham.craigslist.org   825.0  1133.0   1.0    1.5   \n",
       "3  birmingham  https://bham.craigslist.org   800.0   927.0   1.0    1.0   \n",
       "4  birmingham  https://bham.craigslist.org   785.0  1047.0   2.0    1.0   \n",
       "\n",
       "   cats_allowed  dogs_allowed  ...  description_negative  description_neutral  \\\n",
       "0           1.0           1.0  ...                 0.005                0.875   \n",
       "1           1.0           1.0  ...                 0.000                0.771   \n",
       "2           1.0           1.0  ...                 0.005                0.876   \n",
       "3           1.0           1.0  ...                 0.005                0.875   \n",
       "4           1.0           1.0  ...                 0.005                0.888   \n",
       "\n",
       "   description_positive  type_apartment type_condo type_cottage/cabin  \\\n",
       "0                 0.120             1.0        0.0                0.0   \n",
       "1                 0.229             1.0        0.0                0.0   \n",
       "2                 0.119             1.0        0.0                0.0   \n",
       "3                 0.120             1.0        0.0                0.0   \n",
       "4                 0.107             1.0        0.0                0.0   \n",
       "\n",
       "   type_duplex  type_house  type_manufactured  type_townhouse  \n",
       "0          0.0         0.0                0.0             0.0  \n",
       "1          0.0         0.0                0.0             0.0  \n",
       "2          0.0         0.0                0.0             0.0  \n",
       "3          0.0         0.0                0.0             0.0  \n",
       "4          0.0         0.0                0.0             0.0  \n",
       "\n",
       "[5 rows x 39 columns]"
      ]
     },
     "execution_count": 50,
     "metadata": {},
     "output_type": "execute_result"
    }
   ],
   "source": [
    "df.to_csv('clean_df.csv', index = False)\n",
    "df.head()"
   ]
  },
  {
   "cell_type": "code",
   "execution_count": 51,
   "metadata": {},
   "outputs": [
    {
     "data": {
      "text/html": [
       "<div>\n",
       "<style scoped>\n",
       "    .dataframe tbody tr th:only-of-type {\n",
       "        vertical-align: middle;\n",
       "    }\n",
       "\n",
       "    .dataframe tbody tr th {\n",
       "        vertical-align: top;\n",
       "    }\n",
       "\n",
       "    .dataframe thead th {\n",
       "        text-align: right;\n",
       "    }\n",
       "</style>\n",
       "<table border=\"1\" class=\"dataframe\">\n",
       "  <thead>\n",
       "    <tr style=\"text-align: right;\">\n",
       "      <th></th>\n",
       "      <th>id</th>\n",
       "      <th>url</th>\n",
       "      <th>region</th>\n",
       "      <th>region_url</th>\n",
       "      <th>price</th>\n",
       "      <th>sqfeet</th>\n",
       "      <th>beds</th>\n",
       "      <th>baths</th>\n",
       "      <th>cats_allowed</th>\n",
       "      <th>dogs_allowed</th>\n",
       "      <th>...</th>\n",
       "      <th>description_negative</th>\n",
       "      <th>description_neutral</th>\n",
       "      <th>description_positive</th>\n",
       "      <th>type_apartment</th>\n",
       "      <th>type_condo</th>\n",
       "      <th>type_cottage/cabin</th>\n",
       "      <th>type_duplex</th>\n",
       "      <th>type_house</th>\n",
       "      <th>type_manufactured</th>\n",
       "      <th>type_townhouse</th>\n",
       "    </tr>\n",
       "  </thead>\n",
       "  <tbody>\n",
       "    <tr>\n",
       "      <th>0</th>\n",
       "      <td>7.039062e+09</td>\n",
       "      <td>https://bham.craigslist.org/apa/d/birmingham-h...</td>\n",
       "      <td>birmingham</td>\n",
       "      <td>https://bham.craigslist.org</td>\n",
       "      <td>1195.0</td>\n",
       "      <td>1908.0</td>\n",
       "      <td>3.0</td>\n",
       "      <td>2.0</td>\n",
       "      <td>1.0</td>\n",
       "      <td>1.0</td>\n",
       "      <td>...</td>\n",
       "      <td>0.005</td>\n",
       "      <td>0.875</td>\n",
       "      <td>0.120</td>\n",
       "      <td>1.0</td>\n",
       "      <td>0.0</td>\n",
       "      <td>0.0</td>\n",
       "      <td>0.0</td>\n",
       "      <td>0.0</td>\n",
       "      <td>0.0</td>\n",
       "      <td>0.0</td>\n",
       "    </tr>\n",
       "    <tr>\n",
       "      <th>1</th>\n",
       "      <td>7.041971e+09</td>\n",
       "      <td>https://bham.craigslist.org/apa/d/birmingham-w...</td>\n",
       "      <td>birmingham</td>\n",
       "      <td>https://bham.craigslist.org</td>\n",
       "      <td>1120.0</td>\n",
       "      <td>1319.0</td>\n",
       "      <td>3.0</td>\n",
       "      <td>2.0</td>\n",
       "      <td>1.0</td>\n",
       "      <td>1.0</td>\n",
       "      <td>...</td>\n",
       "      <td>0.000</td>\n",
       "      <td>0.771</td>\n",
       "      <td>0.229</td>\n",
       "      <td>1.0</td>\n",
       "      <td>0.0</td>\n",
       "      <td>0.0</td>\n",
       "      <td>0.0</td>\n",
       "      <td>0.0</td>\n",
       "      <td>0.0</td>\n",
       "      <td>0.0</td>\n",
       "    </tr>\n",
       "    <tr>\n",
       "      <th>2</th>\n",
       "      <td>7.041967e+09</td>\n",
       "      <td>https://bham.craigslist.org/apa/d/birmingham-g...</td>\n",
       "      <td>birmingham</td>\n",
       "      <td>https://bham.craigslist.org</td>\n",
       "      <td>825.0</td>\n",
       "      <td>1133.0</td>\n",
       "      <td>1.0</td>\n",
       "      <td>1.5</td>\n",
       "      <td>1.0</td>\n",
       "      <td>1.0</td>\n",
       "      <td>...</td>\n",
       "      <td>0.005</td>\n",
       "      <td>0.876</td>\n",
       "      <td>0.119</td>\n",
       "      <td>1.0</td>\n",
       "      <td>0.0</td>\n",
       "      <td>0.0</td>\n",
       "      <td>0.0</td>\n",
       "      <td>0.0</td>\n",
       "      <td>0.0</td>\n",
       "      <td>0.0</td>\n",
       "    </tr>\n",
       "    <tr>\n",
       "      <th>3</th>\n",
       "      <td>7.041967e+09</td>\n",
       "      <td>https://bham.craigslist.org/apa/d/birmingham-f...</td>\n",
       "      <td>birmingham</td>\n",
       "      <td>https://bham.craigslist.org</td>\n",
       "      <td>800.0</td>\n",
       "      <td>927.0</td>\n",
       "      <td>1.0</td>\n",
       "      <td>1.0</td>\n",
       "      <td>1.0</td>\n",
       "      <td>1.0</td>\n",
       "      <td>...</td>\n",
       "      <td>0.005</td>\n",
       "      <td>0.875</td>\n",
       "      <td>0.120</td>\n",
       "      <td>1.0</td>\n",
       "      <td>0.0</td>\n",
       "      <td>0.0</td>\n",
       "      <td>0.0</td>\n",
       "      <td>0.0</td>\n",
       "      <td>0.0</td>\n",
       "      <td>0.0</td>\n",
       "    </tr>\n",
       "    <tr>\n",
       "      <th>4</th>\n",
       "      <td>7.041967e+09</td>\n",
       "      <td>https://bham.craigslist.org/apa/d/birmingham-2...</td>\n",
       "      <td>birmingham</td>\n",
       "      <td>https://bham.craigslist.org</td>\n",
       "      <td>785.0</td>\n",
       "      <td>1047.0</td>\n",
       "      <td>2.0</td>\n",
       "      <td>1.0</td>\n",
       "      <td>1.0</td>\n",
       "      <td>1.0</td>\n",
       "      <td>...</td>\n",
       "      <td>0.005</td>\n",
       "      <td>0.888</td>\n",
       "      <td>0.107</td>\n",
       "      <td>1.0</td>\n",
       "      <td>0.0</td>\n",
       "      <td>0.0</td>\n",
       "      <td>0.0</td>\n",
       "      <td>0.0</td>\n",
       "      <td>0.0</td>\n",
       "      <td>0.0</td>\n",
       "    </tr>\n",
       "  </tbody>\n",
       "</table>\n",
       "<p>5 rows × 39 columns</p>\n",
       "</div>"
      ],
      "text/plain": [
       "             id                                                url  \\\n",
       "0  7.039062e+09  https://bham.craigslist.org/apa/d/birmingham-h...   \n",
       "1  7.041971e+09  https://bham.craigslist.org/apa/d/birmingham-w...   \n",
       "2  7.041967e+09  https://bham.craigslist.org/apa/d/birmingham-g...   \n",
       "3  7.041967e+09  https://bham.craigslist.org/apa/d/birmingham-f...   \n",
       "4  7.041967e+09  https://bham.craigslist.org/apa/d/birmingham-2...   \n",
       "\n",
       "       region                   region_url   price  sqfeet  beds  baths  \\\n",
       "0  birmingham  https://bham.craigslist.org  1195.0  1908.0   3.0    2.0   \n",
       "1  birmingham  https://bham.craigslist.org  1120.0  1319.0   3.0    2.0   \n",
       "2  birmingham  https://bham.craigslist.org   825.0  1133.0   1.0    1.5   \n",
       "3  birmingham  https://bham.craigslist.org   800.0   927.0   1.0    1.0   \n",
       "4  birmingham  https://bham.craigslist.org   785.0  1047.0   2.0    1.0   \n",
       "\n",
       "   cats_allowed  dogs_allowed  ...  description_negative  description_neutral  \\\n",
       "0           1.0           1.0  ...                 0.005                0.875   \n",
       "1           1.0           1.0  ...                 0.000                0.771   \n",
       "2           1.0           1.0  ...                 0.005                0.876   \n",
       "3           1.0           1.0  ...                 0.005                0.875   \n",
       "4           1.0           1.0  ...                 0.005                0.888   \n",
       "\n",
       "   description_positive  type_apartment type_condo type_cottage/cabin  \\\n",
       "0                 0.120             1.0        0.0                0.0   \n",
       "1                 0.229             1.0        0.0                0.0   \n",
       "2                 0.119             1.0        0.0                0.0   \n",
       "3                 0.120             1.0        0.0                0.0   \n",
       "4                 0.107             1.0        0.0                0.0   \n",
       "\n",
       "   type_duplex  type_house  type_manufactured  type_townhouse  \n",
       "0          0.0         0.0                0.0             0.0  \n",
       "1          0.0         0.0                0.0             0.0  \n",
       "2          0.0         0.0                0.0             0.0  \n",
       "3          0.0         0.0                0.0             0.0  \n",
       "4          0.0         0.0                0.0             0.0  \n",
       "\n",
       "[5 rows x 39 columns]"
      ]
     },
<<<<<<< HEAD
     "execution_count": 38,
=======
     "execution_count": 51,
>>>>>>> 31c980bd0e872019bd9d1d6c9b2aa2cc14bc45e0
     "metadata": {},
     "output_type": "execute_result"
    }
   ],
   "source": [
    "df = pd.read_csv(\"clean_df.csv\")\n",
    "df.head()"
   ]
  },
  {
   "cell_type": "code",
   "execution_count": 52,
   "metadata": {},
   "outputs": [],
   "source": [
    "df_X = df.drop([\"id\", \"url\", \"region\", \"region_url\", \"image_url\", \"state\", \"price\"], axis=1)\n",
    "df_y = df.loc[:, \"price\"]"
   ]
  },
  {
   "cell_type": "code",
   "execution_count": 53,
   "metadata": {},
   "outputs": [],
   "source": [
    "X_train, X_test, y_train, y_test = train_test_split(df_X, df_y, test_size=0.2, random_state=42)"
   ]
  },
  {
   "cell_type": "code",
   "execution_count": 54,
   "metadata": {},
   "outputs": [
    {
     "name": "stdout",
     "output_type": "stream",
     "text": [
      "[[ 2.63043175e-03  3.10427311e-01  2.50471086e-02 ... -3.11032740e-01\n",
      "  -1.07351729e-01 -2.01966635e-01]\n",
      " [ 3.20781464e-03  2.54557210e-02  8.12876081e-01 ... -3.11032740e-01\n",
      "  -1.07351729e-01 -2.01966635e-01]\n",
      " [-1.06878668e-02 -2.59515869e-01 -7.62781864e-01 ... -3.11032740e-01\n",
      "  -1.07351729e-01 -2.01966635e-01]\n",
      " ...\n",
      " [-1.06493746e-02  2.54557210e-02  8.12876081e-01 ... -3.11032740e-01\n",
      "  -1.07351729e-01 -2.01966635e-01]\n",
      " [-5.25928018e-04  2.54557210e-02  8.12876081e-01 ... -3.11032740e-01\n",
      "  -1.07351729e-01 -2.01966635e-01]\n",
      " [-1.53069299e-02 -2.59515869e-01 -7.62781864e-01 ... -3.11032740e-01\n",
      "  -1.07351729e-01 -2.01966635e-01]] [[-0.0011803   0.02545572  0.81287608 ... -0.31103274 -0.10735173\n",
      "  -0.20196664]\n",
      " [-0.01603828 -0.25951587 -0.76278186 ... -0.31103274 -0.10735173\n",
      "  -0.20196664]\n",
      " [-0.0238137  -0.54448746 -0.76278186 ... -0.31103274 -0.10735173\n",
      "  -0.20196664]\n",
      " ...\n",
      " [-0.01064937 -0.25951587 -0.76278186 ... -0.31103274 -0.10735173\n",
      "  -0.20196664]\n",
      " [-0.01623074 -0.25951587 -0.76278186 ... -0.31103274 -0.10735173\n",
      "  -0.20196664]\n",
      " [-0.02181211 -0.25951587 -0.76278186 ... -0.31103274 -0.10735173\n",
      "  -0.20196664]]\n"
     ]
    }
   ],
   "source": [
    "scaler = StandardScaler()\n",
    "X_train = scaler.fit_transform(X_train)\n",
    "X_test = scaler.transform(X_test)\n",
    "print(X_train, X_test)"
   ]
  },
  {
   "cell_type": "code",
   "execution_count": 71,
   "metadata": {},
   "outputs": [],
   "source": [
    "X_train = np.reshape(X_train, (X_train.shape[0], X_train.shape[1], 1))"
   ]
  },
  {
   "cell_type": "code",
   "execution_count": 72,
   "metadata": {},
   "outputs": [
    {
     "name": "stdout",
     "output_type": "stream",
     "text": [
      "Train on 209074 samples\n"
     ]
    },
    {
     "name": "stdout",
     "output_type": "stream",
     "text": [
      "  8224/209074 [>.............................] - ETA: 3:30:13 - loss: 1732730.12 - ETA: 1:47:52 - loss: 1745984.00 - ETA: 56:13 - loss: 1826493.1875 - ETA: 46:07 - loss: 2970729.95 - ETA: 34:23 - loss: 2526258.64 - ETA: 30:46 - loss: 2441382.09 - ETA: 28:00 - loss: 2314491.97 - ETA: 25:45 - loss: 2258435.36 - ETA: 23:57 - loss: 2184499.00 - ETA: 22:25 - loss: 2205512.64 - ETA: 21:07 - loss: 2161407.32 - ETA: 20:02 - loss: 2132995.16 - ETA: 19:05 - loss: 2094288.00 - ETA: 18:14 - loss: 2124784.74 - ETA: 17:29 - loss: 2095576.31 - ETA: 16:51 - loss: 2121643.71 - ETA: 16:17 - loss: 2140177.07 - ETA: 15:47 - loss: 2142870.86 - ETA: 15:19 - loss: 2114014.81 - ETA: 14:54 - loss: 2120000.91 - ETA: 14:30 - loss: 2496119.83 - ETA: 14:09 - loss: 2513102.69 - ETA: 13:50 - loss: 2478569.61 - ETA: 13:32 - loss: 2453096.13 - ETA: 13:16 - loss: 2429980.26 - ETA: 13:01 - loss: 2387159.72 - ETA: 12:46 - loss: 2367925.43 - ETA: 12:32 - loss: 2328686.27 - ETA: 12:19 - loss: 2333672.15 - ETA: 12:08 - loss: 2313027.00 - ETA: 11:57 - loss: 2283253.17 - ETA: 11:46 - loss: 2282946.99 - ETA: 11:37 - loss: 2260680.15 - ETA: 11:27 - loss: 2268383.56 - ETA: 11:18 - loss: 2242173.79 - ETA: 11:10 - loss: 2268245.61 - ETA: 11:02 - loss: 2249752.36 - ETA: 10:55 - loss: 2243222.11 - ETA: 10:47 - loss: 2230156.21 - ETA: 10:40 - loss: 2232952.47 - ETA: 10:34 - loss: 2218347.81 - ETA: 10:27 - loss: 2223237.71 - ETA: 10:21 - loss: 2203878.31 - ETA: 10:15 - loss: 2226753.10 - ETA: 10:10 - loss: 2207397.76 - ETA: 9:57 - loss: 2194661.6224 - ETA: 9:52 - loss: 2187722.290 - ETA: 9:47 - loss: 2195221.063 - ETA: 9:42 - loss: 2181009.134 - ETA: 9:38 - loss: 2198151.801 - ETA: 9:33 - loss: 2192391.754 - ETA: 9:29 - loss: 2180752.604 - ETA: 9:25 - loss: 2181417.067 - ETA: 9:21 - loss: 2183719.986 - ETA: 9:17 - loss: 2178317.769 - ETA: 9:14 - loss: 2182792.120 - ETA: 9:10 - loss: 2186305.877 - ETA: 9:07 - loss: 2184181.532 - ETA: 9:03 - loss: 2193015.068 - ETA: 9:00 - loss: 2187598.492 - ETA: 8:58 - loss: 2180463.810 - ETA: 8:57 - loss: 2185830.775 - ETA: 8:55 - loss: 2179915.888 - ETA: 8:55 - loss: 2170314.524 - ETA: 8:55 - loss: 2175233.979 - ETA: 8:56 - loss: 2174122.777 - ETA: 8:57 - loss: 2176905.198 - ETA: 8:58 - loss: 2165601.554 - ETA: 9:01 - loss: 2166450.112 - ETA: 9:04 - loss: 2167123.762 - ETA: 9:05 - loss: 2401711.359 - ETA: 9:07 - loss: 2387508.728 - ETA: 9:09 - loss: 2393801.547 - ETA: 9:10 - loss: 2384747.629 - ETA: 9:12 - loss: 2377092.189 - ETA: 9:13 - loss: 2366541.432 - ETA: 9:14 - loss: 2353203.932 - ETA: 9:15 - loss: 2341420.004 - ETA: 9:17 - loss: 2342466.644 - ETA: 9:18 - loss: 2345314.998 - ETA: 9:19 - loss: 2344271.075 - ETA: 9:20 - loss: 2335255.279 - ETA: 9:21 - loss: 2329445.327 - ETA: 9:22 - loss: 2319933.573 - ETA: 9:23 - loss: 2314161.038 - ETA: 9:25 - loss: 2311264.320 - ETA: 9:26 - loss: 2302475.030 - ETA: 9:26 - loss: 2299833.516 - ETA: 9:27 - loss: 2298444.940 - ETA: 9:28 - loss: 2293695.967 - ETA: 9:29 - loss: 2286293.675 - ETA: 9:31 - loss: 2281029.618 - ETA: 9:32 - loss: 2274686.217 - ETA: 9:34 - loss: 2276047.070 - ETA: 9:35 - loss: 2271588.394 - ETA: 9:36 - loss: 2267528.159 - ETA: 9:37 - loss: 2262045.653 - ETA: 9:39 - loss: 2255864.467 - ETA: 9:40 - loss: 2253572.636 - ETA: 9:43 - loss: 2246394.302 - ETA: 9:44 - loss: 2242688.187 - ETA: 9:45 - loss: 2235480.032 - ETA: 9:46 - loss: 2231905.418 - ETA: 9:47 - loss: 2223049.672 - ETA: 9:48 - loss: 2220140.078 - ETA: 9:49 - loss: 2224312.935 - ETA: 9:50 - loss: 2222511.523 - ETA: 9:51 - loss: 2218786.616 - ETA: 9:52 - loss: 2211785.425 - ETA: 9:52 - loss: 2205090.939 - ETA: 9:53 - loss: 2204027.451 - ETA: 9:54 - loss: 2205822.060 - ETA: 9:54 - loss: 2203104.774 - ETA: 9:55 - loss: 2198362.832 - ETA: 9:56 - loss: 2196430.171 - ETA: 9:57 - loss: 2190274.855 - ETA: 9:58 - loss: 2202458.566 - ETA: 9:58 - loss: 2200010.249 - ETA: 9:59 - loss: 2193770.595 - ETA: 10:00 - loss: 2186284.43 - ETA: 10:00 - loss: 2184316.38 - ETA: 10:00 - loss: 2179071.38 - ETA: 10:01 - loss: 2176942.73 - ETA: 10:01 - loss: 2176655.66 - ETA: 10:02 - loss: 2176214.56 - ETA: 10:02 - loss: 2173635.62 - ETA: 10:02 - loss: 2167834.45 - ETA: 10:03 - loss: 2163849.51 - ETA: 10:03 - loss: 2162912.03 - ETA: 10:03 - loss: 2159421.76 - ETA: 10:04 - loss: 2159618.40 - ETA: 10:04 - loss: 2156151.19 - ETA: 10:05 - loss: 2148761.22 - ETA: 10:06 - loss: 2146145.52 - ETA: 10:07 - loss: 2146501.94 - ETA: 10:07 - loss: 6546827.88 - ETA: 10:08 - loss: 6516003.47 - ETA: 10:09 - loss: 6480385.52 - ETA: 10:09 - loss: 6450827.88 - ETA: 10:10 - loss: 6415349.52 - ETA: 10:11 - loss: 6385280.74 - ETA: 10:11 - loss: 6352476.46 - ETA: 10:11 - loss: 6317837.92 - ETA: 10:12 - loss: 6282016.90 - ETA: 10:13 - loss: 6249022.89 - ETA: 10:13 - loss: 6223739.85 - ETA: 10:13 - loss: 6190700.15 - ETA: 10:14 - loss: 6158287.07 - ETA: 10:14 - loss: 6130247.12 - ETA: 10:15 - loss: 6109322.78 - ETA: 10:15 - loss: 6084441.02 - ETA: 10:16 - loss: 6057051.87 - ETA: 10:16 - loss: 6030505.68 - ETA: 10:17 - loss: 6002526.31 - ETA: 10:17 - loss: 5976272.72 - ETA: 10:18 - loss: 5948763.21 - ETA: 10:18 - loss: 5923867.61 - ETA: 10:18 - loss: 5904779.39 - ETA: 10:19 - loss: 5879975.33 - ETA: 10:19 - loss: 5850382.03 - ETA: 10:20 - loss: 5828612.20 - ETA: 10:20 - loss: 5803538.04 - ETA: 10:20 - loss: 5777300.61 - ETA: 10:20 - loss: 5751553.89 - ETA: 10:20 - loss: 5726723.65 - ETA: 10:21 - loss: 5701382.63 - ETA: 10:21 - loss: 5679903.82 - ETA: 10:22 - loss: 5656249.84 - ETA: 10:22 - loss: 5633767.67 - ETA: 10:22 - loss: 5610131.94 - ETA: 10:22 - loss: 5594591.90 - ETA: 10:22 - loss: 5572328.69 - ETA: 10:22 - loss: 5549860.65 - ETA: 10:22 - loss: 5529936.23 - ETA: 10:22 - loss: 5508941.71 - ETA: 10:22 - loss: 5485387.99 - ETA: 10:22 - loss: 5464109.75 - ETA: 10:23 - loss: 5455388.72 - ETA: 10:23 - loss: 5436599.96 - ETA: 10:23 - loss: 5416163.69 - ETA: 10:23 - loss: 5402369.27 - ETA: 10:24 - loss: 5387884.25 - ETA: 10:25 - loss: 5368295.36 - ETA: 10:25 - loss: 5346156.45 - ETA: 10:25 - loss: 5327985.14 - ETA: 10:25 - loss: 5307438.12 - ETA: 10:26 - loss: 5289721.81 - ETA: 10:26 - loss: 5274585.43 - ETA: 10:27 - loss: 5253927.73 - ETA: 10:27 - loss: 5233840.98 - ETA: 10:28 - loss: 5213808.20 - ETA: 10:28 - loss: 5192903.82 - ETA: 10:28 - loss: 5178618.75 - ETA: 10:29 - loss: 5160972.18 - ETA: 10:29 - loss: 5145627.76 - ETA: 10:29 - loss: 5133013.25 - ETA: 10:29 - loss: 5114704.18 - ETA: 10:29 - loss: 5097752.31 - ETA: 10:30 - loss: 5081450.96 - ETA: 10:30 - loss: 5062904.45 - ETA: 10:30 - loss: 5048747.05 - ETA: 10:30 - loss: 5031018.82 - ETA: 10:30 - loss: 5012869.61 - ETA: 10:30 - loss: 4997563.19 - ETA: 10:30 - loss: 4982997.29 - ETA: 10:31 - loss: 4966596.28 - ETA: 10:31 - loss: 4950808.25 - ETA: 10:31 - loss: 4936093.43 - ETA: 10:31 - loss: 4921305.16 - ETA: 10:31 - loss: 4906204.68 - ETA: 10:31 - loss: 4894080.78 - ETA: 10:31 - loss: 4878040.37 - ETA: 10:32 - loss: 4872927.02 - ETA: 10:32 - loss: 4859880.68 - ETA: 10:32 - loss: 4845151.94 - ETA: 10:32 - loss: 4832917.56 - ETA: 10:32 - loss: 4821636.36 - ETA: 10:32 - loss: 4805073.04 - ETA: 10:32 - loss: 4791050.79 - ETA: 10:32 - loss: 4774740.71 - ETA: 10:32 - loss: 4759616.79 - ETA: 10:33 - loss: 4750412.19 - ETA: 10:33 - loss: 4737426.25 - ETA: 10:33 - loss: 5176153.32 - ETA: 10:33 - loss: 5159411.25 - ETA: 10:33 - loss: 5143314.10 - ETA: 10:33 - loss: 5127786.12 - ETA: 10:33 - loss: 5111906.23 - ETA: 10:34 - loss: 5095211.13 - ETA: 10:34 - loss: 5086004.73 - ETA: 10:34 - loss: 5072432.44 - ETA: 10:35 - loss: 5058009.41 - ETA: 10:35 - loss: 5042822.99 - ETA: 10:35 - loss: 5032124.78 - ETA: 10:35 - loss: 5019836.29 - ETA: 10:35 - loss: 5005698.23 - ETA: 10:36 - loss: 4991679.21 - ETA: 10:36 - loss: 4978208.94 - ETA: 10:36 - loss: 4965520.21 - ETA: 10:36 - loss: 4952599.97 - ETA: 10:36 - loss: 4940017.38 - ETA: 10:36 - loss: 4927744.48 - ETA: 10:36 - loss: 4915247.27 - ETA: 10:36 - loss: 4900265.74 - ETA: 10:37 - loss: 4890396.39 - ETA: 10:36 - loss: 4876344.37 - ETA: 10:36 - loss: 4863944.59 - ETA: 10:36 - loss: 4851224.43 - ETA: 10:36 - loss: 4836236.84 - ETA: 10:36 - loss: 4836148.98 - ETA: 10:36 - loss: 4826867.68 - ETA: 10:36 - loss: 4814837.89 - ETA: 10:36 - loss: 4804425.05 - ETA: 10:36 - loss: 4794034.7077\b\b\b\b\b\b\b\b\b\b\b\b\b\b\b\b\b\b\b\b\b\b\b\b\b\b\b\b\b\b\b\b\b\b\b\b\b\b\b\b\b\b\b\b\b\b\b\b\b\b\b\b\b\b\b\b\b\b\b\b\b\b\b\b\b\b\b\b\b\b\b\b\b\b\b\b\b\b\b\b"
     ]
    },
    {
     "name": "stdout",
     "output_type": "stream",
     "text": [
      " 15968/209074 [=>............................] - ETA: 10:37 - loss: 4782561.23 - ETA: 10:37 - loss: 4770000.18 - ETA: 10:36 - loss: 4757459.96 - ETA: 10:37 - loss: 4744978.10 - ETA: 10:37 - loss: 4734417.31 - ETA: 10:37 - loss: 4727649.72 - ETA: 10:36 - loss: 4714693.31 - ETA: 10:36 - loss: 4702520.85 - ETA: 10:36 - loss: 4690744.02 - ETA: 10:36 - loss: 4680396.06 - ETA: 10:36 - loss: 4671222.78 - ETA: 10:36 - loss: 4658140.93 - ETA: 10:36 - loss: 4649243.30 - ETA: 10:35 - loss: 4639189.14 - ETA: 10:36 - loss: 4631039.13 - ETA: 10:36 - loss: 4618603.38 - ETA: 10:36 - loss: 4612116.13 - ETA: 10:36 - loss: 4601274.69 - ETA: 10:36 - loss: 4589439.27 - ETA: 10:36 - loss: 4579000.31 - ETA: 10:37 - loss: 4569586.86 - ETA: 10:37 - loss: 4558982.21 - ETA: 10:37 - loss: 4548755.88 - ETA: 10:37 - loss: 4567102.77 - ETA: 10:37 - loss: 4560987.74 - ETA: 10:37 - loss: 4550951.32 - ETA: 10:37 - loss: 4540723.08 - ETA: 10:37 - loss: 4530665.95 - ETA: 10:37 - loss: 4519613.98 - ETA: 10:37 - loss: 4510163.82 - ETA: 10:37 - loss: 4504588.90 - ETA: 10:37 - loss: 4497754.23 - ETA: 10:37 - loss: 4487492.15 - ETA: 10:37 - loss: 4478836.93 - ETA: 10:37 - loss: 4469712.80 - ETA: 10:37 - loss: 4460883.65 - ETA: 10:37 - loss: 4450239.06 - ETA: 10:37 - loss: 4440567.23 - ETA: 10:37 - loss: 4430039.12 - ETA: 10:37 - loss: 4420117.69 - ETA: 10:37 - loss: 4411254.50 - ETA: 10:37 - loss: 4403351.23 - ETA: 10:37 - loss: 4394532.71 - ETA: 10:37 - loss: 4385268.25 - ETA: 10:36 - loss: 4374245.02 - ETA: 10:36 - loss: 4365692.10 - ETA: 10:36 - loss: 4355787.83 - ETA: 10:36 - loss: 4347956.87 - ETA: 10:36 - loss: 4340718.51 - ETA: 10:36 - loss: 4334181.60 - ETA: 10:36 - loss: 4324667.49 - ETA: 10:36 - loss: 4316390.39 - ETA: 10:36 - loss: 4309595.80 - ETA: 10:35 - loss: 4303008.58 - ETA: 10:35 - loss: 4318661.81 - ETA: 10:35 - loss: 4310461.35 - ETA: 10:35 - loss: 4301383.30 - ETA: 10:35 - loss: 4292133.54 - ETA: 10:35 - loss: 4287960.53 - ETA: 10:34 - loss: 4279782.77 - ETA: 10:34 - loss: 4272561.05 - ETA: 10:34 - loss: 4263365.99 - ETA: 10:34 - loss: 4256234.97 - ETA: 10:34 - loss: 4251447.39 - ETA: 10:34 - loss: 4243949.98 - ETA: 10:34 - loss: 4235248.71 - ETA: 10:34 - loss: 4228417.96 - ETA: 10:34 - loss: 4226105.97 - ETA: 10:34 - loss: 4217374.67 - ETA: 10:34 - loss: 4207705.06 - ETA: 10:34 - loss: 4199437.96 - ETA: 10:34 - loss: 4193870.05 - ETA: 10:34 - loss: 4187336.85 - ETA: 10:34 - loss: 4181954.96 - ETA: 10:34 - loss: 4173990.32 - ETA: 10:34 - loss: 4168922.17 - ETA: 10:34 - loss: 4161667.00 - ETA: 10:35 - loss: 4154864.94 - ETA: 10:35 - loss: 4147083.54 - ETA: 10:35 - loss: 4141689.12 - ETA: 10:35 - loss: 4133922.79 - ETA: 10:35 - loss: 4127984.49 - ETA: 10:35 - loss: 4120713.15 - ETA: 10:35 - loss: 4112756.26 - ETA: 10:35 - loss: 4105920.97 - ETA: 10:35 - loss: 4100932.65 - ETA: 10:35 - loss: 4095548.45 - ETA: 10:35 - loss: 4088050.15 - ETA: 10:34 - loss: 4082241.80 - ETA: 10:35 - loss: 4075789.58 - ETA: 10:35 - loss: 4068200.88 - ETA: 10:35 - loss: 4062374.85 - ETA: 10:35 - loss: 4056297.52 - ETA: 10:35 - loss: 4048441.31 - ETA: 10:34 - loss: 4042818.63 - ETA: 10:34 - loss: 4035861.93 - ETA: 10:34 - loss: 4030676.53 - ETA: 10:34 - loss: 4026272.39 - ETA: 10:34 - loss: 4018219.27 - ETA: 10:34 - loss: 4011462.70 - ETA: 10:34 - loss: 4004633.77 - ETA: 10:34 - loss: 3997885.29 - ETA: 10:34 - loss: 3991991.47 - ETA: 10:33 - loss: 3984648.50 - ETA: 10:33 - loss: 3976581.02 - ETA: 10:33 - loss: 3970858.48 - ETA: 10:33 - loss: 3965152.10 - ETA: 10:33 - loss: 3960031.80 - ETA: 10:33 - loss: 3954117.39 - ETA: 10:33 - loss: 3947505.04 - ETA: 10:33 - loss: 3941518.76 - ETA: 10:33 - loss: 3935136.23 - ETA: 10:33 - loss: 3929386.78 - ETA: 10:33 - loss: 3923025.65 - ETA: 10:33 - loss: 3916659.14 - ETA: 10:33 - loss: 3910154.46 - ETA: 10:33 - loss: 3905874.15 - ETA: 10:33 - loss: 3899257.00 - ETA: 10:33 - loss: 3893241.90 - ETA: 10:33 - loss: 3886403.32 - ETA: 10:33 - loss: 3883217.69 - ETA: 10:33 - loss: 3878947.24 - ETA: 10:33 - loss: 3872454.73 - ETA: 10:33 - loss: 3865959.34 - ETA: 10:33 - loss: 3866151.09 - ETA: 10:33 - loss: 3859541.41 - ETA: 10:33 - loss: 3853484.64 - ETA: 10:33 - loss: 3846856.38 - ETA: 10:33 - loss: 3840480.29 - ETA: 10:33 - loss: 3834054.14 - ETA: 10:33 - loss: 3827213.54 - ETA: 10:33 - loss: 3822365.83 - ETA: 10:33 - loss: 3816960.07 - ETA: 10:33 - loss: 3810949.48 - ETA: 10:32 - loss: 3805087.58 - ETA: 10:32 - loss: 3799332.70 - ETA: 10:32 - loss: 3793555.25 - ETA: 10:32 - loss: 3787569.26 - ETA: 10:32 - loss: 3782407.96 - ETA: 10:32 - loss: 3775983.97 - ETA: 10:32 - loss: 3769897.17 - ETA: 10:32 - loss: 5898214800.368 - ETA: 10:32 - loss: 5883476036.821 - ETA: 10:32 - loss: 5868808307.659 - ETA: 10:32 - loss: 5854214336.463 - ETA: 10:32 - loss: 5839691464.724 - ETA: 10:31 - loss: 5825242791.176 - ETA: 10:31 - loss: 5810863118.584 - ETA: 10:31 - loss: 5796555429.339 - ETA: 10:31 - loss: 5782317130.984 - ETA: 10:31 - loss: 5768151694.518 - ETA: 10:31 - loss: 5754052298.602 - ETA: 10:31 - loss: 5740021061.686 - ETA: 10:31 - loss: 5726060091.955 - ETA: 10:31 - loss: 5712169523.361 - ETA: 10:31 - loss: 5698341979.813 - ETA: 10:31 - loss: 5684581549.744 - ETA: 10:31 - loss: 5670887982.167 - ETA: 10:31 - loss: 5657259707.337 - ETA: 10:31 - loss: 5643697256.139 - ETA: 10:31 - loss: 5630199598.784 - ETA: 10:31 - loss: 5616766925.616 - ETA: 10:31 - loss: 5603397122.436 - ETA: 10:31 - loss: 5590090933.802 - ETA: 10:31 - loss: 5576847337.992 - ETA: 10:31 - loss: 5563667128.364 - ETA: 10:31 - loss: 5550550142.377 - ETA: 10:31 - loss: 5537494910.879 - ETA: 10:31 - loss: 5524499042.896 - ETA: 10:31 - loss: 5511565158.072 - ETA: 10:31 - loss: 5532423110.132 - ETA: 10:31 - loss: 5519530882.321 - ETA: 10:31 - loss: 5506698253.790 - ETA: 10:30 - loss: 5493925588.727 - ETA: 10:30 - loss: 5481212983.761 - ETA: 10:30 - loss: 5468561203.457 - ETA: 10:30 - loss: 5455964841.798 - ETA: 10:30 - loss: 5443427094.439 - ETA: 10:30 - loss: 5430946114.878 - ETA: 10:30 - loss: 5418522561.658 - ETA: 10:30 - loss: 5406155636.395 - ETA: 10:30 - loss: 5393844697.730 - ETA: 10:30 - loss: 5381590712.709 - ETA: 10:31 - loss: 5369390592.430 - ETA: 10:31 - loss: 5357246740.641 - ETA: 10:31 - loss: 5345157434.242 - ETA: 10:31 - loss: 5333122867.136 - ETA: 10:31 - loss: 5321143387.910 - ETA: 10:30 - loss: 5309216298.148 - ETA: 10:30 - loss: 5297343336.401 - ETA: 10:30 - loss: 5285522101.955 - ETA: 10:30 - loss: 5273754839.092 - ETA: 10:30 - loss: 5262039020.170 - ETA: 10:30 - loss: 5250375305.860 - ETA: 10:30 - loss: 5238762361.621 - ETA: 10:30 - loss: 5227202450.341 - ETA: 10:29 - loss: 5215692400.446 - ETA: 10:29 - loss: 5204232074.745 - ETA: 10:29 - loss: 5192823968.670 - ETA: 10:29 - loss: 5181464191.234 - ETA: 10:29 - loss: 5170153646.828 - ETA: 10:30 - loss: 5158893833.065 - ETA: 10:30 - loss: 5147681964.919 - ETA: 10:31 - loss: 5136518294.757 - ETA: 10:31 - loss: 5125404578.323 - ETA: 10:31 - loss: 5114339284.341 - ETA: 10:32 - loss: 5103320447.964 - ETA: 10:32 - loss: 5092348885.120 - ETA: 10:32 - loss: 5081424197.251 - ETA: 10:31 - loss: 5070546761.091 - ETA: 10:31 - loss: 5059715512.305 - ETA: 10:31 - loss: 5048932003.935 - ETA: 10:31 - loss: 5038193198.824 - ETA: 10:31 - loss: 5027499244.503 - ETA: 10:31 - loss: 5016850914.765 - ETA: 10:31 - loss: 5006247886.148 - ETA: 10:31 - loss: 4995688565.596 - ETA: 10:31 - loss: 4985175777.907 - ETA: 10:30 - loss: 4974706983.851 - ETA: 10:30 - loss: 4964281006.407 - ETA: 10:30 - loss: 4953924980.345 - ETA: 10:30 - loss: 4943588216.324 - ETA: 10:30 - loss: 4933294190.064 - ETA: 10:30 - loss: 4923040948.176 - ETA: 10:30 - loss: 4912831740.439 - ETA: 10:30 - loss: 4902663547.758 - ETA: 10:30 - loss: 4892537523.296 - ETA: 10:30 - loss: 4882453116.842 - ETA: 10:30 - loss: 4872409614.556 - ETA: 10:30 - loss: 4862408518.803 - ETA: 10:30 - loss: 4852447507.492 - ETA: 10:30 - loss: 4842527481.458 - ETA: 10:30 - loss: 4832647324.964 - ETA: 10:30 - loss: 4822807911.377 - ETA: 10:30 - loss: 4813008305.340 - ETA: 10:30 - loss: 4803248984.107 - ETA: 10:30 - loss: 4793528721.081 - ETA: 10:30 - loss: 4783847354.758 - ETA: 10:30 - loss: 4774206170.827 - ETA: 10:30 - loss: 4764602578.095 - ETA: 10:29 - loss: 4755040151.673 - ETA: 10:29 - loss: 4745515789.3863"
     ]
    },
    {
     "name": "stdout",
     "output_type": "stream",
     "text": [
      " 23232/209074 [==>...........................] - ETA: 10:29 - loss: 4736027483.591 - ETA: 10:29 - loss: 4726577521.525 - ETA: 10:29 - loss: 4717165871.397 - ETA: 10:29 - loss: 4707790895.532 - ETA: 10:29 - loss: 4698453473.742 - ETA: 10:29 - loss: 4689152430.349 - ETA: 10:29 - loss: 4679887526.551 - ETA: 10:29 - loss: 4670659758.677 - ETA: 10:29 - loss: 4661468343.745 - ETA: 10:29 - loss: 4652315258.446 - ETA: 10:29 - loss: 4643195022.738 - ETA: 10:29 - loss: 4634111079.978 - ETA: 10:29 - loss: 4625063257.655 - ETA: 10:29 - loss: 4616050804.833 - ETA: 10:29 - loss: 4607074179.205 - ETA: 10:29 - loss: 4598131912.409 - ETA: 10:29 - loss: 4589224451.592 - ETA: 10:29 - loss: 4580352190.057 - ETA: 10:30 - loss: 4571514231.004 - ETA: 10:30 - loss: 4562710966.018 - ETA: 10:30 - loss: 4553940778.869 - ETA: 10:30 - loss: 4545203609.912 - ETA: 10:30 - loss: 4536499799.068 - ETA: 10:30 - loss: 4527830143.249 - ETA: 10:30 - loss: 4519193220.528 - ETA: 10:30 - loss: 4510587411.829 - ETA: 10:30 - loss: 4502015968.484 - ETA: 10:30 - loss: 4493475341.028 - ETA: 10:30 - loss: 4484969006.792 - ETA: 10:30 - loss: 4476494608.070 - ETA: 10:30 - loss: 4468051238.023 - ETA: 10:30 - loss: 4459639959.041 - ETA: 10:30 - loss: 4451260983.683 - ETA: 10:30 - loss: 4442912395.658 - ETA: 10:30 - loss: 4434595950.332 - ETA: 10:30 - loss: 4426309906.557 - ETA: 10:30 - loss: 4418055118.489 - ETA: 10:29 - loss: 4409830344.897 - ETA: 10:29 - loss: 4401636812.729 - ETA: 10:30 - loss: 4393474417.813 - ETA: 10:29 - loss: 4385340748.229 - ETA: 10:29 - loss: 4377239905.453 - ETA: 10:30 - loss: 4369167602.851 - ETA: 10:30 - loss: 4361124867.359 - ETA: 10:30 - loss: 4353110943.741 - ETA: 10:30 - loss: 4345126162.470 - ETA: 10:30 - loss: 4337170660.026 - ETA: 10:30 - loss: 4329245178.384 - ETA: 10:30 - loss: 4321348428.205 - ETA: 10:29 - loss: 4313479712.979 - ETA: 10:29 - loss: 4305639915.627 - ETA: 10:29 - loss: 4297829294.716 - ETA: 10:29 - loss: 4290046609.382 - ETA: 10:29 - loss: 4282291568.704 - ETA: 10:29 - loss: 4274565144.066 - ETA: 10:29 - loss: 4266865629.183 - ETA: 10:29 - loss: 4259193606.906 - ETA: 10:29 - loss: 4251549218.277 - ETA: 10:29 - loss: 4243932461.438 - ETA: 10:29 - loss: 4236342641.370 - ETA: 10:29 - loss: 4228780977.316 - ETA: 10:29 - loss: 4221246324.086 - ETA: 10:29 - loss: 4213737479.823 - ETA: 10:29 - loss: 4206255748.422 - ETA: 10:29 - loss: 4198803303.230 - ETA: 10:29 - loss: 4191374200.346 - ETA: 10:29 - loss: 4183971603.414 - ETA: 10:29 - loss: 4176595939.399 - ETA: 10:29 - loss: 4169246444.511 - ETA: 10:29 - loss: 4161922397.631 - ETA: 10:29 - loss: 4154623438.957 - ETA: 10:28 - loss: 4147350787.110 - ETA: 10:28 - loss: 4140102596.378 - ETA: 10:28 - loss: 4132880412.884 - ETA: 10:28 - loss: 4125682600.664 - ETA: 10:28 - loss: 4118510576.548 - ETA: 10:28 - loss: 4111363516.404 - ETA: 10:28 - loss: 4104241496.949 - ETA: 10:28 - loss: 4097144521.084 - ETA: 10:28 - loss: 4090071932.035 - ETA: 10:28 - loss: 4083023315.083 - ETA: 10:28 - loss: 4075997652.794 - ETA: 10:28 - loss: 4068997096.793 - ETA: 10:27 - loss: 4062020059.167 - ETA: 10:27 - loss: 4055068561.831 - ETA: 10:27 - loss: 4048138849.211 - ETA: 10:27 - loss: 4041233198.527 - ETA: 10:27 - loss: 4034352160.512 - ETA: 10:27 - loss: 4027493953.718 - ETA: 10:27 - loss: 4020659259.896 - ETA: 10:26 - loss: 4013848241.652 - ETA: 10:26 - loss: 4007059468.353 - ETA: 10:26 - loss: 4000293606.649 - ETA: 10:26 - loss: 3993551038.651 - ETA: 10:26 - loss: 28764382201.80 - ETA: 10:26 - loss: 28716041640.16 - ETA: 10:26 - loss: 28667863447.46 - ETA: 10:26 - loss: 28619846235.79 - ETA: 10:26 - loss: 28571989638.00 - ETA: 10:26 - loss: 28524292580.49 - ETA: 10:26 - loss: 28476756039.84 - ETA: 10:26 - loss: 28429376228.52 - ETA: 10:25 - loss: 28382153635.78 - ETA: 10:25 - loss: 28335087444.00 - ETA: 10:25 - loss: 28288177601.84 - ETA: 10:25 - loss: 28241423097.84 - ETA: 10:25 - loss: 28194822501.89 - ETA: 10:25 - loss: 28148375895.99 - ETA: 10:25 - loss: 28102082096.69 - ETA: 10:25 - loss: 28055940735.97 - ETA: 10:25 - loss: 28009950419.07 - ETA: 10:25 - loss: 27964110116.00 - ETA: 10:25 - loss: 27918420227.38 - ETA: 10:25 - loss: 27872879341.18 - ETA: 10:25 - loss: 27827485897.34 - ETA: 10:25 - loss: 27782240264.56 - ETA: 10:24 - loss: 27737141717.05 - ETA: 10:24 - loss: 27692189109.61 - ETA: 10:24 - loss: 27647382873.06 - ETA: 10:24 - loss: 27602721105.29 - ETA: 10:24 - loss: 27558202758.90 - ETA: 10:24 - loss: 27513830833.65 - ETA: 10:24 - loss: 27469739759.15 - ETA: 10:24 - loss: 27425649035.46 - ETA: 10:24 - loss: 27381699977.30 - ETA: 10:24 - loss: 27337893949.21 - ETA: 10:24 - loss: 27294225744.52 - ETA: 10:24 - loss: 27250698979.92 - ETA: 10:23 - loss: 27207308584.46 - ETA: 10:23 - loss: 27164056440.11 - ETA: 10:23 - loss: 27120953465.53 - ETA: 10:23 - loss: 27077975157.88 - ETA: 10:23 - loss: 27035133140.17 - ETA: 10:23 - loss: 26992426118.01 - ETA: 10:23 - loss: 26949856240.13 - ETA: 10:23 - loss: 26907417725.12 - ETA: 10:22 - loss: 26865113024.29 - ETA: 10:22 - loss: 26822942625.67 - ETA: 10:22 - loss: 26780902882.29 - ETA: 10:22 - loss: 26738994368.60 - ETA: 10:22 - loss: 26697217959.15 - ETA: 10:21 - loss: 26655571648.86 - ETA: 10:21 - loss: 26614054630.34 - ETA: 10:21 - loss: 26572667910.75 - ETA: 10:21 - loss: 26531412374.85 - ETA: 10:21 - loss: 26490280501.06 - ETA: 10:21 - loss: 26449276159.85 - ETA: 10:20 - loss: 26408398821.69 - ETA: 10:20 - loss: 26367647474.99 - ETA: 10:20 - loss: 26327021060.00 - ETA: 10:20 - loss: 26286530118.16 - ETA: 10:20 - loss: 26246153774.50 - ETA: 10:20 - loss: 26205901254.41 - ETA: 10:20 - loss: 26165772527.83 - ETA: 10:20 - loss: 26125766222.20 - ETA: 10:19 - loss: 26085882120.53 - ETA: 10:19 - loss: 26046119408.73 - ETA: 10:19 - loss: 26006477980.16 - ETA: 10:19 - loss: 25966956542.38 - ETA: 10:19 - loss: 25927555401.78 - ETA: 10:19 - loss: 25888274059.57 - ETA: 10:19 - loss: 25849111830.11 - ETA: 10:19 - loss: 25810067562.13 - ETA: 10:19 - loss: 25771140400.46 - ETA: 10:19 - loss: 25732332677.96 - ETA: 10:19 - loss: 25693641002.56 - ETA: 10:19 - loss: 25655064821.03 - ETA: 10:19 - loss: 25616603232.00 - ETA: 10:19 - loss: 25578257137.73 - ETA: 10:18 - loss: 25540026653.44 - ETA: 10:18 - loss: 25501909289.05 - ETA: 10:18 - loss: 25463905869.76 - ETA: 10:18 - loss: 25426015368.07 - ETA: 10:18 - loss: 25388238315.42 - ETA: 10:18 - loss: 25350572686.61 - ETA: 10:18 - loss: 25313018669.06 - ETA: 10:18 - loss: 25275575346.36 - ETA: 10:18 - loss: 25238244031.66 - ETA: 10:17 - loss: 25201023253.23 - ETA: 10:17 - loss: 25163911034.35 - ETA: 10:17 - loss: 25126907389.89 - ETA: 10:17 - loss: 25090013986.04 - ETA: 10:17 - loss: 25053227588.80 - ETA: 10:17 - loss: 25016549309.54 - ETA: 10:17 - loss: 24979978181.58 - ETA: 10:16 - loss: 24943513576.36 - ETA: 10:16 - loss: 24907155293.05 - ETA: 10:16 - loss: 24870902489.94 - ETA: 10:16 - loss: 24834756254.71 - ETA: 10:16 - loss: 24798714645.55 - ETA: 10:15 - loss: 24762776986.82 - ETA: 10:15 - loss: 24726943523.84 - ETA: 10:15 - loss: 24691214513.63 - ETA: 10:15 - loss: 24655587803.80 - ETA: 10:15 - loss: 24620063094.31 - ETA: 10:15 - loss: 24584641479.77 - ETA: 10:15 - loss: 24549321830.86 - ETA: 10:15 - loss: 24514102916.79 - ETA: 10:15 - loss: 24478984580.43 - ETA: 10:15 - loss: 24443967817.21 - ETA: 10:15 - loss: 24409050822.19 - ETA: 10:15 - loss: 24374232221.76 - ETA: 10:14 - loss: 24339512921.13 - ETA: 10:14 - loss: 24304892574.84 - ETA: 10:14 - loss: 24270371078.91 - ETA: 10:14 - loss: 24235947112.56 - ETA: 10:14 - loss: 24201620815.08 - ETA: 10:14 - loss: 24167392241.79 - ETA: 10:14 - loss: 24133260325.10 - ETA: 10:14 - loss: 24099224231.99 - ETA: 10:14 - loss: 24065283322.71 - ETA: 10:14 - loss: 24031438958.09 - ETA: 10:13 - loss: 23997689425.59 - ETA: 10:13 - loss: 23964035249.10 - ETA: 10:13 - loss: 23930474153.82 - ETA: 10:13 - loss: 23897007136.40 - ETA: 10:13 - loss: 23863632910.76 - ETA: 10:13 - loss: 23830352145.97 - ETA: 10:13 - loss: 23797164932.09 - ETA: 10:13 - loss: 23764069559.67 - ETA: 10:13 - loss: 23731065926.41 - ETA: 10:13 - loss: 23698153896.46 - ETA: 10:13 - loss: 23685328344.09 - ETA: 10:12 - loss: 23652570596.76 - ETA: 10:12 - loss: 23619903363.51 - ETA: 10:12 - loss: 23587326634.02 - ETA: 10:12 - loss: 23574724417.4199"
     ]
    },
    {
     "name": "stdout",
     "output_type": "stream",
     "text": [
      " 30496/209074 [===>..........................] - ETA: 10:12 - loss: 23542298855.44 - ETA: 10:12 - loss: 23509962216.72 - ETA: 10:12 - loss: 23477714948.96 - ETA: 10:12 - loss: 23445555334.10 - ETA: 10:11 - loss: 23413484830.88 - ETA: 10:11 - loss: 23381501645.52 - ETA: 10:11 - loss: 23349605174.98 - ETA: 10:11 - loss: 23317795859.39 - ETA: 10:11 - loss: 23286073416.71 - ETA: 10:10 - loss: 23254436497.22 - ETA: 10:10 - loss: 23222885754.61 - ETA: 10:10 - loss: 23191421454.92 - ETA: 10:10 - loss: 23160040948.62 - ETA: 10:10 - loss: 23128745805.46 - ETA: 10:10 - loss: 23097535150.55 - ETA: 10:09 - loss: 23066408175.95 - ETA: 10:09 - loss: 23035366538.97 - ETA: 10:09 - loss: 23004407294.54 - ETA: 10:09 - loss: 22973530447.84 - ETA: 10:09 - loss: 22942737682.12 - ETA: 10:09 - loss: 22912027058.09 - ETA: 10:08 - loss: 22881400047.32 - ETA: 10:08 - loss: 22850854368.65 - ETA: 10:08 - loss: 22820388221.21 - ETA: 10:08 - loss: 22790003874.96 - ETA: 10:08 - loss: 22759700069.80 - ETA: 10:08 - loss: 22729476632.16 - ETA: 10:08 - loss: 22699336015.68 - ETA: 10:08 - loss: 22669273901.67 - ETA: 10:08 - loss: 22639290076.89 - ETA: 10:08 - loss: 22609385693.38 - ETA: 10:08 - loss: 22579563468.04 - ETA: 10:08 - loss: 22549816755.94 - ETA: 10:08 - loss: 22520150525.24 - ETA: 10:07 - loss: 22490559272.76 - ETA: 10:07 - loss: 22461045612.70 - ETA: 10:07 - loss: 22431610415.92 - ETA: 10:07 - loss: 22402253004.72 - ETA: 10:07 - loss: 22372970961.68 - ETA: 10:07 - loss: 22343766035.57 - ETA: 10:07 - loss: 22314637330.30 - ETA: 10:07 - loss: 22285583572.06 - ETA: 10:07 - loss: 22256606847.09 - ETA: 10:07 - loss: 22227704769.55 - ETA: 10:06 - loss: 22198876792.86 - ETA: 10:06 - loss: 22170123415.06 - ETA: 10:06 - loss: 22141448267.09 - ETA: 10:06 - loss: 22112843451.90 - ETA: 10:06 - loss: 22084313117.53 - ETA: 10:06 - loss: 22055856395.71 - ETA: 10:06 - loss: 22027471900.69 - ETA: 10:06 - loss: 21999160561.32 - ETA: 10:05 - loss: 21970922559.32 - ETA: 10:05 - loss: 21942757665.53 - ETA: 10:05 - loss: 21914663943.83 - ETA: 10:05 - loss: 21886642837.41 - ETA: 10:05 - loss: 21858692301.50 - ETA: 10:05 - loss: 21830813359.79 - ETA: 10:04 - loss: 21803005239.08 - ETA: 10:04 - loss: 21775268374.89 - ETA: 10:04 - loss: 21747603155.65 - ETA: 10:04 - loss: 21720007108.69 - ETA: 10:04 - loss: 21692481006.36 - ETA: 10:04 - loss: 21665023958.73 - ETA: 10:03 - loss: 21637636344.61 - ETA: 10:03 - loss: 21610317977.36 - ETA: 10:03 - loss: 21583068441.45 - ETA: 10:03 - loss: 21555887987.15 - ETA: 10:03 - loss: 21528775295.66 - ETA: 10:03 - loss: 21501731243.51 - ETA: 10:03 - loss: 21474755101.58 - ETA: 10:03 - loss: 21447847007.55 - ETA: 10:03 - loss: 21421006023.63 - ETA: 10:03 - loss: 21394232408.57 - ETA: 10:03 - loss: 21367525541.35 - ETA: 10:02 - loss: 21340885803.92 - ETA: 10:02 - loss: 21314311004.47 - ETA: 10:02 - loss: 21287802232.56 - ETA: 10:02 - loss: 21261359828.68 - ETA: 10:02 - loss: 21234984782.56 - ETA: 10:02 - loss: 21208673472.45 - ETA: 10:02 - loss: 21182428470.23 - ETA: 10:02 - loss: 21156247451.13 - ETA: 10:02 - loss: 21130130692.19 - ETA: 10:02 - loss: 21104078360.29 - ETA: 10:01 - loss: 21078090776.67 - ETA: 10:01 - loss: 21052167056.69 - ETA: 10:01 - loss: 21026306509.92 - ETA: 10:01 - loss: 21000509475.73 - ETA: 10:01 - loss: 20974775612.32 - ETA: 10:01 - loss: 20949104610.43 - ETA: 10:01 - loss: 20923498740.50 - ETA: 10:01 - loss: 20897954329.13 - ETA: 10:00 - loss: 20872471032.56 - ETA: 10:00 - loss: 20847050043.94 - ETA: 10:00 - loss: 20821693002.75 - ETA: 10:00 - loss: 20796395756.19 - ETA: 10:00 - loss: 20771159976.42 - ETA: 10:00 - loss: 20745984722.82 - ETA: 10:00 - loss: 20720871427.54 - ETA: 10:00 - loss: 20695818078.26 - ETA: 10:00 - loss: 20670824845.20 - ETA: 10:00 - loss: 20645891672.43 - ETA: 9:59 - loss: 20621020591.9300 - ETA: 9:59 - loss: 20596207609.128 - ETA: 9:59 - loss: 20571455249.505 - ETA: 9:59 - loss: 20546761668.621 - ETA: 9:59 - loss: 20522127296.384 - ETA: 9:59 - loss: 20497551954.522 - ETA: 9:59 - loss: 20473035687.018 - ETA: 9:59 - loss: 20448577344.705 - ETA: 9:59 - loss: 20424177967.897 - ETA: 9:59 - loss: 20399836582.017 - ETA: 9:59 - loss: 20375553159.102 - ETA: 9:59 - loss: 20351327832.022 - ETA: 9:59 - loss: 20327159517.781 - ETA: 9:59 - loss: 20303048329.664 - ETA: 9:59 - loss: 20278994568.237 - ETA: 9:59 - loss: 20254997436.927 - ETA: 9:59 - loss: 20231057229.505 - ETA: 9:59 - loss: 20207173798.929 - ETA: 9:59 - loss: 20183346748.460 - ETA: 9:59 - loss: 20159575804.853 - ETA: 9:58 - loss: 20135860158.086 - ETA: 9:58 - loss: 20112200682.922 - ETA: 9:58 - loss: 20088596124.704 - ETA: 9:59 - loss: 20065047762.691 - ETA: 9:59 - loss: 20041554737.242 - ETA: 9:58 - loss: 20018116548.473 - ETA: 9:58 - loss: 19994732662.817 - ETA: 9:58 - loss: 19971402924.021 - ETA: 9:58 - loss: 19948128037.486 - ETA: 9:58 - loss: 19924907071.517 - ETA: 9:58 - loss: 19901740443.272 - ETA: 9:58 - loss: 19878628855.819 - ETA: 9:58 - loss: 19855569140.861 - ETA: 9:58 - loss: 19832563162.016 - ETA: 9:58 - loss: 19809610422.062 - ETA: 9:58 - loss: 19786711802.416 - ETA: 9:58 - loss: 19763864889.158 - ETA: 9:57 - loss: 19741071846.032 - ETA: 9:57 - loss: 19718331316.832 - ETA: 9:57 - loss: 19695643999.412 - ETA: 9:57 - loss: 19673006866.051 - ETA: 9:57 - loss: 19650423255.803 - ETA: 9:57 - loss: 19627890237.906 - ETA: 9:57 - loss: 19605409753.484 - ETA: 9:57 - loss: 19582979394.880 - ETA: 9:57 - loss: 19560601570.174 - ETA: 9:57 - loss: 19538274787.470 - ETA: 9:57 - loss: 19515997813.173 - ETA: 9:56 - loss: 19493771518.637 - ETA: 9:56 - loss: 19471595901.963 - ETA: 9:56 - loss: 19449470422.475 - ETA: 9:56 - loss: 19427397001.247 - ETA: 9:56 - loss: 19405372161.471 - ETA: 9:56 - loss: 19383397685.689 - ETA: 9:56 - loss: 19361472235.266 - ETA: 9:56 - loss: 19339596579.282 - ETA: 9:56 - loss: 19317771120.583 - ETA: 9:56 - loss: 19295994142.351 - ETA: 9:56 - loss: 19274266716.973 - ETA: 9:56 - loss: 19252587653.170 - ETA: 9:56 - loss: 19230957749.792 - ETA: 9:56 - loss: 19209376315.734 - ETA: 9:56 - loss: 19187843741.092 - ETA: 9:56 - loss: 19166359367.846 - ETA: 9:56 - loss: 19144922086.015 - ETA: 9:56 - loss: 19123533320.434 - ETA: 9:56 - loss: 19102192243.695 - ETA: 9:56 - loss: 19080898790.124 - ETA: 9:56 - loss: 19059653464.080 - ETA: 9:56 - loss: 19038453813.545 - ETA: 9:55 - loss: 19017301886.101 - ETA: 9:55 - loss: 18996196073.194 - ETA: 9:55 - loss: 18975137556.915 - ETA: 9:55 - loss: 18954125436.176 - ETA: 9:55 - loss: 18933160510.760 - ETA: 9:55 - loss: 18912241327.030 - ETA: 9:55 - loss: 18891368951.280 - ETA: 9:55 - loss: 18870542314.339 - ETA: 9:55 - loss: 18849761572.535 - ETA: 9:55 - loss: 18829026076.250 - ETA: 9:55 - loss: 18808336163.384 - ETA: 9:55 - loss: 18787692006.696 - ETA: 9:54 - loss: 18767093180.548 - ETA: 9:54 - loss: 18746539774.267 - ETA: 9:54 - loss: 18726031721.689 - ETA: 9:54 - loss: 18705568821.060 - ETA: 9:54 - loss: 18685150047.864 - ETA: 9:54 - loss: 18664775223.129 - ETA: 9:54 - loss: 18644445589.740 - ETA: 9:54 - loss: 18624159488.015 - ETA: 9:54 - loss: 18603917259.553 - ETA: 9:54 - loss: 18583720677.229 - ETA: 9:53 - loss: 18563567461.803 - ETA: 9:53 - loss: 18543456991.640 - ETA: 9:53 - loss: 18523390184.275 - ETA: 9:53 - loss: 18503366479.899 - ETA: 9:53 - loss: 18483386430.395 - ETA: 9:53 - loss: 18463449284.003 - ETA: 9:53 - loss: 18443555442.438 - ETA: 9:53 - loss: 18423704597.480 - ETA: 9:52 - loss: 18403895725.661 - ETA: 9:52 - loss: 18384129560.012 - ETA: 9:52 - loss: 18364405786.560 - ETA: 9:52 - loss: 18344724840.008 - ETA: 9:52 - loss: 18325085932.278 - ETA: 9:52 - loss: 18305489113.873 - ETA: 9:52 - loss: 18285933708.756 - ETA: 9:52 - loss: 18266419660.353 - ETA: 9:52 - loss: 18246947948.977 - ETA: 9:52 - loss: 18227517439.161 - ETA: 9:52 - loss: 18208135162.270 - ETA: 9:52 - loss: 18188787232.025 - ETA: 9:52 - loss: 18169480018.100 - ETA: 9:51 - loss: 18150213481.285 - ETA: 9:51 - loss: 18130988174.053 - ETA: 9:51 - loss: 18111821351.564 - ETA: 9:51 - loss: 18092677116.071 - ETA: 9:51 - loss: 18073573662.188 - ETA: 9:51 - loss: 18054510589.211 - ETA: 9:51 - loss: 18035487646.335 - ETA: 9:51 - loss: 18016504627.644 - ETA: 9:51 - loss: 17997562339.385 - ETA: 9:51 - loss: 17978658805.820 - ETA: 9:51 - loss: 17959795764.5905"
     ]
    },
    {
     "name": "stdout",
     "output_type": "stream",
     "text": [
      " 33600/209074 [===>..........................] - ETA: 9:51 - loss: 17940971332.458 - ETA: 9:50 - loss: 17922187684.695 - ETA: 9:50 - loss: 17903442461.885 - ETA: 9:50 - loss: 17884736488.507 - ETA: 9:50 - loss: 17866069591.904 - ETA: 9:50 - loss: 17847441938.082 - ETA: 9:50 - loss: 17828852660.665 - ETA: 9:50 - loss: 17810302028.719 - ETA: 9:50 - loss: 17791790530.723 - ETA: 9:50 - loss: 17773316479.963 - ETA: 9:49 - loss: 17754880656.133 - ETA: 9:49 - loss: 17736488203.207 - ETA: 9:49 - loss: 17718129170.039 - ETA: 9:49 - loss: 17699808083.588 - ETA: 9:49 - loss: 17681524746.606 - ETA: 9:49 - loss: 17663279916.467 - ETA: 9:48 - loss: 17645072145.676 - ETA: 9:48 - loss: 17626901842.217 - ETA: 9:48 - loss: 17608768855.167 - ETA: 9:48 - loss: 17590672975.768 - ETA: 9:48 - loss: 17572614789.757 - ETA: 9:48 - loss: 17554594568.615 - ETA: 9:48 - loss: 17536609797.211 - ETA: 9:48 - loss: 17518661834.921 - ETA: 9:48 - loss: 17500754533.498 - ETA: 9:48 - loss: 17482879977.776 - ETA: 9:48 - loss: 17465043950.501 - ETA: 9:48 - loss: 17447242842.017 - ETA: 9:48 - loss: 17429476799.024 - ETA: 9:48 - loss: 17411747181.358 - ETA: 9:48 - loss: 17394053697.395 - ETA: 9:47 - loss: 17376396942.374 - ETA: 9:47 - loss: 17358775418.439 - ETA: 9:47 - loss: 17341190145.844 - ETA: 9:47 - loss: 17323640270.815 - ETA: 9:47 - loss: 17306126449.022 - ETA: 9:47 - loss: 17288646824.272 - ETA: 9:47 - loss: 17271203570.298 - ETA: 9:47 - loss: 17253794924.642 - ETA: 9:47 - loss: 17236421020.273 - ETA: 9:47 - loss: 17219082411.892 - ETA: 9:47 - loss: 17201778998.862 - ETA: 9:46 - loss: 17184509397.426 - ETA: 9:46 - loss: 17167275560.674 - ETA: 9:46 - loss: 17150075684.455 - ETA: 9:46 - loss: 17132909926.885 - ETA: 9:46 - loss: 17115778758.889 - ETA: 9:46 - loss: 17098681413.129 - ETA: 9:46 - loss: 17081618442.457 - ETA: 9:46 - loss: 17064590383.398 - ETA: 9:46 - loss: 17047595307.182 - ETA: 9:45 - loss: 17030634355.987 - ETA: 9:45 - loss: 17013708619.485 - ETA: 9:45 - loss: 16996815208.394 - ETA: 9:45 - loss: 16979955422.753 - ETA: 9:45 - loss: 16963128448.631 - ETA: 9:45 - loss: 16946334836.153 - ETA: 9:45 - loss: 16929574843.493 - ETA: 9:44 - loss: 16912847160.196 - ETA: 9:44 - loss: 16896153447.246 - ETA: 9:44 - loss: 16879492020.886 - ETA: 9:44 - loss: 16862864031.442 - ETA: 9:44 - loss: 16846268062.587 - ETA: 9:44 - loss: 16829705299.437 - ETA: 9:44 - loss: 16813174535.842 - ETA: 9:43 - loss: 16796677098.637 - ETA: 9:43 - loss: 16780211872.821 - ETA: 9:43 - loss: 16763778498.457 - ETA: 9:43 - loss: 16747377131.158 - ETA: 9:43 - loss: 16731007594.644 - ETA: 9:43 - loss: 16714669669.877 - ETA: 9:43 - loss: 16698364471.512 - ETA: 9:43 - loss: 16682090563.602 - ETA: 9:42 - loss: 16665849018.050 - ETA: 9:42 - loss: 16649638709.107 - ETA: 9:42 - loss: 16633460093.104 - ETA: 9:42 - loss: 16617313142.126 - ETA: 9:42 - loss: 16601197116.966 - ETA: 9:42 - loss: 16585112190.035 - ETA: 9:42 - loss: 16569058571.336 - ETA: 9:42 - loss: 16553035918.994 - ETA: 9:42 - loss: 16537044520.391 - ETA: 9:42 - loss: 16521083464.731 - ETA: 9:42 - loss: 16505153516.994 - ETA: 9:42 - loss: 16489256694.483 - ETA: 9:42 - loss: 16473388459.678 - ETA: 9:42 - loss: 16457551011.055 - ETA: 9:42 - loss: 16441743083.914 - ETA: 9:41 - loss: 16425965412.704 - ETA: 9:41 - loss: 16410218187.820 - ETA: 9:41 - loss: 16394501087.858 - ETA: 9:41 - loss: 16378814445.644 - ETA: 9:41 - loss: 16363157047.645 - ETA: 9:41 - loss: 16347530045.433 - ETA: 9:41 - loss: 16331933006.033 - ETA: 9:41 - loss: 16316365916.903 - ETA: 9:41 - loss: 16300827944.8705"
     ]
    },
    {
     "ename": "KeyboardInterrupt",
     "evalue": "",
     "output_type": "error",
     "traceback": [
      "\u001b[1;31m---------------------------------------------------------------------------\u001b[0m",
      "\u001b[1;31mKeyboardInterrupt\u001b[0m                         Traceback (most recent call last)",
      "\u001b[1;32m<ipython-input-72-bee3384ffc6a>\u001b[0m in \u001b[0;36m<module>\u001b[1;34m\u001b[0m\n\u001b[0;32m     14\u001b[0m \u001b[1;33m\u001b[0m\u001b[0m\n\u001b[0;32m     15\u001b[0m \u001b[0mregressor\u001b[0m\u001b[1;33m.\u001b[0m\u001b[0mcompile\u001b[0m\u001b[1;33m(\u001b[0m\u001b[0moptimizer\u001b[0m \u001b[1;33m=\u001b[0m \u001b[1;34m'adam'\u001b[0m\u001b[1;33m,\u001b[0m \u001b[0mloss\u001b[0m \u001b[1;33m=\u001b[0m \u001b[1;34m'mean_squared_error'\u001b[0m\u001b[1;33m)\u001b[0m\u001b[1;33m\u001b[0m\u001b[1;33m\u001b[0m\u001b[0m\n\u001b[1;32m---> 16\u001b[1;33m \u001b[0mregressor\u001b[0m\u001b[1;33m.\u001b[0m\u001b[0mfit\u001b[0m\u001b[1;33m(\u001b[0m\u001b[0mX_train\u001b[0m\u001b[1;33m,\u001b[0m \u001b[0my_train\u001b[0m\u001b[1;33m,\u001b[0m \u001b[0mepochs\u001b[0m \u001b[1;33m=\u001b[0m \u001b[1;36m1\u001b[0m\u001b[1;33m,\u001b[0m \u001b[0mbatch_size\u001b[0m \u001b[1;33m=\u001b[0m \u001b[1;36m32\u001b[0m\u001b[1;33m)\u001b[0m\u001b[1;33m\u001b[0m\u001b[1;33m\u001b[0m\u001b[0m\n\u001b[0m",
      "\u001b[1;32m~\\Anaconda3\\lib\\site-packages\\tensorflow_core\\python\\keras\\engine\\training.py\u001b[0m in \u001b[0;36mfit\u001b[1;34m(self, x, y, batch_size, epochs, verbose, callbacks, validation_split, validation_data, shuffle, class_weight, sample_weight, initial_epoch, steps_per_epoch, validation_steps, validation_freq, max_queue_size, workers, use_multiprocessing, **kwargs)\u001b[0m\n\u001b[0;32m    725\u001b[0m         \u001b[0mmax_queue_size\u001b[0m\u001b[1;33m=\u001b[0m\u001b[0mmax_queue_size\u001b[0m\u001b[1;33m,\u001b[0m\u001b[1;33m\u001b[0m\u001b[1;33m\u001b[0m\u001b[0m\n\u001b[0;32m    726\u001b[0m         \u001b[0mworkers\u001b[0m\u001b[1;33m=\u001b[0m\u001b[0mworkers\u001b[0m\u001b[1;33m,\u001b[0m\u001b[1;33m\u001b[0m\u001b[1;33m\u001b[0m\u001b[0m\n\u001b[1;32m--> 727\u001b[1;33m         use_multiprocessing=use_multiprocessing)\n\u001b[0m\u001b[0;32m    728\u001b[0m \u001b[1;33m\u001b[0m\u001b[0m\n\u001b[0;32m    729\u001b[0m   def evaluate(self,\n",
      "\u001b[1;32m~\\Anaconda3\\lib\\site-packages\\tensorflow_core\\python\\keras\\engine\\training_arrays.py\u001b[0m in \u001b[0;36mfit\u001b[1;34m(self, model, x, y, batch_size, epochs, verbose, callbacks, validation_split, validation_data, shuffle, class_weight, sample_weight, initial_epoch, steps_per_epoch, validation_steps, validation_freq, **kwargs)\u001b[0m\n\u001b[0;32m    673\u001b[0m         \u001b[0mvalidation_steps\u001b[0m\u001b[1;33m=\u001b[0m\u001b[0mvalidation_steps\u001b[0m\u001b[1;33m,\u001b[0m\u001b[1;33m\u001b[0m\u001b[1;33m\u001b[0m\u001b[0m\n\u001b[0;32m    674\u001b[0m         \u001b[0mvalidation_freq\u001b[0m\u001b[1;33m=\u001b[0m\u001b[0mvalidation_freq\u001b[0m\u001b[1;33m,\u001b[0m\u001b[1;33m\u001b[0m\u001b[1;33m\u001b[0m\u001b[0m\n\u001b[1;32m--> 675\u001b[1;33m         steps_name='steps_per_epoch')\n\u001b[0m\u001b[0;32m    676\u001b[0m \u001b[1;33m\u001b[0m\u001b[0m\n\u001b[0;32m    677\u001b[0m   def evaluate(self,\n",
      "\u001b[1;32m~\\Anaconda3\\lib\\site-packages\\tensorflow_core\\python\\keras\\engine\\training_arrays.py\u001b[0m in \u001b[0;36mmodel_iteration\u001b[1;34m(model, inputs, targets, sample_weights, batch_size, epochs, verbose, callbacks, val_inputs, val_targets, val_sample_weights, shuffle, initial_epoch, steps_per_epoch, validation_steps, validation_freq, mode, validation_in_fit, prepared_feed_values_from_dataset, steps_name, **kwargs)\u001b[0m\n\u001b[0;32m    392\u001b[0m \u001b[1;33m\u001b[0m\u001b[0m\n\u001b[0;32m    393\u001b[0m         \u001b[1;31m# Get outputs.\u001b[0m\u001b[1;33m\u001b[0m\u001b[1;33m\u001b[0m\u001b[1;33m\u001b[0m\u001b[0m\n\u001b[1;32m--> 394\u001b[1;33m         \u001b[0mbatch_outs\u001b[0m \u001b[1;33m=\u001b[0m \u001b[0mf\u001b[0m\u001b[1;33m(\u001b[0m\u001b[0mins_batch\u001b[0m\u001b[1;33m)\u001b[0m\u001b[1;33m\u001b[0m\u001b[1;33m\u001b[0m\u001b[0m\n\u001b[0m\u001b[0;32m    395\u001b[0m         \u001b[1;32mif\u001b[0m \u001b[1;32mnot\u001b[0m \u001b[0misinstance\u001b[0m\u001b[1;33m(\u001b[0m\u001b[0mbatch_outs\u001b[0m\u001b[1;33m,\u001b[0m \u001b[0mlist\u001b[0m\u001b[1;33m)\u001b[0m\u001b[1;33m:\u001b[0m\u001b[1;33m\u001b[0m\u001b[1;33m\u001b[0m\u001b[0m\n\u001b[0;32m    396\u001b[0m           \u001b[0mbatch_outs\u001b[0m \u001b[1;33m=\u001b[0m \u001b[1;33m[\u001b[0m\u001b[0mbatch_outs\u001b[0m\u001b[1;33m]\u001b[0m\u001b[1;33m\u001b[0m\u001b[1;33m\u001b[0m\u001b[0m\n",
      "\u001b[1;32m~\\Anaconda3\\lib\\site-packages\\tensorflow_core\\python\\keras\\backend.py\u001b[0m in \u001b[0;36m__call__\u001b[1;34m(self, inputs)\u001b[0m\n\u001b[0;32m   3474\u001b[0m \u001b[1;33m\u001b[0m\u001b[0m\n\u001b[0;32m   3475\u001b[0m     fetched = self._callable_fn(*array_vals,\n\u001b[1;32m-> 3476\u001b[1;33m                                 run_metadata=self.run_metadata)\n\u001b[0m\u001b[0;32m   3477\u001b[0m     \u001b[0mself\u001b[0m\u001b[1;33m.\u001b[0m\u001b[0m_call_fetch_callbacks\u001b[0m\u001b[1;33m(\u001b[0m\u001b[0mfetched\u001b[0m\u001b[1;33m[\u001b[0m\u001b[1;33m-\u001b[0m\u001b[0mlen\u001b[0m\u001b[1;33m(\u001b[0m\u001b[0mself\u001b[0m\u001b[1;33m.\u001b[0m\u001b[0m_fetches\u001b[0m\u001b[1;33m)\u001b[0m\u001b[1;33m:\u001b[0m\u001b[1;33m]\u001b[0m\u001b[1;33m)\u001b[0m\u001b[1;33m\u001b[0m\u001b[1;33m\u001b[0m\u001b[0m\n\u001b[0;32m   3478\u001b[0m     output_structure = nest.pack_sequence_as(\n",
      "\u001b[1;32m~\\Anaconda3\\lib\\site-packages\\tensorflow_core\\python\\client\\session.py\u001b[0m in \u001b[0;36m__call__\u001b[1;34m(self, *args, **kwargs)\u001b[0m\n\u001b[0;32m   1470\u001b[0m         ret = tf_session.TF_SessionRunCallable(self._session._session,\n\u001b[0;32m   1471\u001b[0m                                                \u001b[0mself\u001b[0m\u001b[1;33m.\u001b[0m\u001b[0m_handle\u001b[0m\u001b[1;33m,\u001b[0m \u001b[0margs\u001b[0m\u001b[1;33m,\u001b[0m\u001b[1;33m\u001b[0m\u001b[1;33m\u001b[0m\u001b[0m\n\u001b[1;32m-> 1472\u001b[1;33m                                                run_metadata_ptr)\n\u001b[0m\u001b[0;32m   1473\u001b[0m         \u001b[1;32mif\u001b[0m \u001b[0mrun_metadata\u001b[0m\u001b[1;33m:\u001b[0m\u001b[1;33m\u001b[0m\u001b[1;33m\u001b[0m\u001b[0m\n\u001b[0;32m   1474\u001b[0m           \u001b[0mproto_data\u001b[0m \u001b[1;33m=\u001b[0m \u001b[0mtf_session\u001b[0m\u001b[1;33m.\u001b[0m\u001b[0mTF_GetBuffer\u001b[0m\u001b[1;33m(\u001b[0m\u001b[0mrun_metadata_ptr\u001b[0m\u001b[1;33m)\u001b[0m\u001b[1;33m\u001b[0m\u001b[1;33m\u001b[0m\u001b[0m\n",
      "\u001b[1;31mKeyboardInterrupt\u001b[0m: "
     ]
    }
   ],
   "source": [
    "regressor = Sequential()\n",
    "\n",
    "# Adding the first LSTM layer and some Dropout regularisation\n",
    "regressor.add(LSTM(units = 50, return_sequences = True, input_shape = (X_train.shape[1], 1)))\n",
    "regressor.add(Dropout(0.2))\n",
    "regressor.add(LSTM(units = 50, return_sequences = True))\n",
    "regressor.add(Dropout(0.2))\n",
    "regressor.add(LSTM(units = 50, return_sequences = True))\n",
    "regressor.add(Dropout(0.2))\n",
    "regressor.add(LSTM(units = 50))\n",
    "regressor.add(Dropout(0.2))\n",
    "\n",
    "regressor.add(Dense(units = 1))\n",
    "\n",
    "regressor.compile(optimizer = 'adam', loss = 'mean_squared_error')\n",
    "regressor.fit(X_train, y_train, epochs = 1, batch_size = 32)"
   ]
  },
  {
   "cell_type": "code",
   "execution_count": null,
   "metadata": {},
   "outputs": [],
   "source": [
    "# from sklearn.linear_model import LinearRegression\n",
    "# from sklearn.svm import SVR\n",
    "\n",
    "# clf = SVR(C=1.0, epsilon=0.2)\n",
    "\n",
    "# reg = LinearRegression().fit(X_train, y_train)\n",
    "# print(reg.score(X_train, y_train))\n",
    "# pred = reg.predict(X_test)\n",
    "# print(pred)\n",
    "# print(y_test)"
   ]
  },
  {
   "cell_type": "code",
   "execution_count": null,
   "metadata": {},
   "outputs": [],
   "source": [
    "# from sklearn.metrics import mean_squared_error\n",
    "# mean_squared_error(y_test, pred)"
   ]
  },
  {
   "cell_type": "code",
   "execution_count": null,
   "metadata": {},
   "outputs": [],
   "source": [
    "# classifier = Sequential()\n",
    "# classifier.add(Dense(units = 6, kernel_initializer = 'uniform', activation = 'relu', input_dim = df_X.shape[1]))\n",
    "# classifier.add(Dropout(0.2))\n",
    "# classifier.add(Dense(units = 16, kernel_initializer = 'uniform', activation = 'relu'))\n",
    "# classifier.add(Dropout(0.2))\n",
    "# classifier.add(Dense(units = 32, kernel_initializer = 'uniform', activation = 'relu'))\n",
    "# classifier.add(Dropout(0.2))\n",
    "# classifier.add(Dense(units = 1, kernel_initializer = 'uniform', activation = 'sigmoid'))\n",
    "# classifier.compile(optimizer = 'adam', loss = 'binary_crossentropy', metrics = ['accuracy'])\n",
    "# classifier.fit(df_X, df_y, batch_size = 10, epochs = 1)"
   ]
  },
  {
   "cell_type": "code",
   "execution_count": null,
   "metadata": {},
   "outputs": [],
   "source": [
    "# xgb_model = xgb.XGBClassifier().fit(X_train, y_train)\n",
    "# print(\"Training: \"+str(xgb_model.score(X_train, y_train)))\n",
    "# print(\"Testing: \"+str(xgb_model.score(X_test, y_test)))"
   ]
  },
  {
   "cell_type": "code",
   "execution_count": 39,
   "metadata": {},
   "outputs": [
    {
     "data": {
      "text/html": [
       "<div>\n",
       "<style scoped>\n",
       "    .dataframe tbody tr th:only-of-type {\n",
       "        vertical-align: middle;\n",
       "    }\n",
       "\n",
       "    .dataframe tbody tr th {\n",
       "        vertical-align: top;\n",
       "    }\n",
       "\n",
       "    .dataframe thead th {\n",
       "        text-align: right;\n",
       "    }\n",
       "</style>\n",
       "<table border=\"1\" class=\"dataframe\">\n",
       "  <thead>\n",
       "    <tr style=\"text-align: right;\">\n",
       "      <th></th>\n",
       "      <th>index</th>\n",
       "      <th>id</th>\n",
       "      <th>region</th>\n",
       "      <th>price</th>\n",
       "      <th>type</th>\n",
       "      <th>sqfeet</th>\n",
       "      <th>beds</th>\n",
       "      <th>baths</th>\n",
       "      <th>cats_allowed</th>\n",
       "      <th>dogs_allowed</th>\n",
       "      <th>...</th>\n",
       "      <th>laundry_options</th>\n",
       "      <th>parking_options</th>\n",
       "      <th>lat</th>\n",
       "      <th>long</th>\n",
       "      <th>state</th>\n",
       "      <th>sqfeet_range</th>\n",
       "      <th>lat_long_cluster</th>\n",
       "      <th>description_negative</th>\n",
       "      <th>description_neutral</th>\n",
       "      <th>description_positive</th>\n",
       "    </tr>\n",
       "  </thead>\n",
       "  <tbody>\n",
       "    <tr>\n",
       "      <th>0</th>\n",
       "      <td>0</td>\n",
       "      <td>7039061606</td>\n",
       "      <td>birmingham</td>\n",
       "      <td>1195</td>\n",
       "      <td>apartment</td>\n",
       "      <td>1908</td>\n",
       "      <td>3</td>\n",
       "      <td>2.0</td>\n",
       "      <td>1</td>\n",
       "      <td>1</td>\n",
       "      <td>...</td>\n",
       "      <td>laundry on site</td>\n",
       "      <td>street parking</td>\n",
       "      <td>33.4226</td>\n",
       "      <td>-86.7065</td>\n",
       "      <td>al</td>\n",
       "      <td>large</td>\n",
       "      <td>5</td>\n",
       "      <td>0.005</td>\n",
       "      <td>0.875</td>\n",
       "      <td>0.120</td>\n",
       "    </tr>\n",
       "    <tr>\n",
       "      <th>1</th>\n",
       "      <td>1</td>\n",
       "      <td>7041970863</td>\n",
       "      <td>birmingham</td>\n",
       "      <td>1120</td>\n",
       "      <td>apartment</td>\n",
       "      <td>1319</td>\n",
       "      <td>3</td>\n",
       "      <td>2.0</td>\n",
       "      <td>1</td>\n",
       "      <td>1</td>\n",
       "      <td>...</td>\n",
       "      <td>laundry on site</td>\n",
       "      <td>off-street parking</td>\n",
       "      <td>33.3755</td>\n",
       "      <td>-86.8045</td>\n",
       "      <td>al</td>\n",
       "      <td>medium</td>\n",
       "      <td>5</td>\n",
       "      <td>0.000</td>\n",
       "      <td>0.771</td>\n",
       "      <td>0.229</td>\n",
       "    </tr>\n",
       "    <tr>\n",
       "      <th>2</th>\n",
       "      <td>2</td>\n",
       "      <td>7041966914</td>\n",
       "      <td>birmingham</td>\n",
       "      <td>825</td>\n",
       "      <td>apartment</td>\n",
       "      <td>1133</td>\n",
       "      <td>1</td>\n",
       "      <td>1.5</td>\n",
       "      <td>1</td>\n",
       "      <td>1</td>\n",
       "      <td>...</td>\n",
       "      <td>laundry on site</td>\n",
       "      <td>street parking</td>\n",
       "      <td>33.4226</td>\n",
       "      <td>-86.7065</td>\n",
       "      <td>al</td>\n",
       "      <td>medium</td>\n",
       "      <td>5</td>\n",
       "      <td>0.005</td>\n",
       "      <td>0.876</td>\n",
       "      <td>0.119</td>\n",
       "    </tr>\n",
       "    <tr>\n",
       "      <th>3</th>\n",
       "      <td>3</td>\n",
       "      <td>7041966936</td>\n",
       "      <td>birmingham</td>\n",
       "      <td>800</td>\n",
       "      <td>apartment</td>\n",
       "      <td>927</td>\n",
       "      <td>1</td>\n",
       "      <td>1.0</td>\n",
       "      <td>1</td>\n",
       "      <td>1</td>\n",
       "      <td>...</td>\n",
       "      <td>laundry on site</td>\n",
       "      <td>street parking</td>\n",
       "      <td>33.4226</td>\n",
       "      <td>-86.7065</td>\n",
       "      <td>al</td>\n",
       "      <td>small</td>\n",
       "      <td>5</td>\n",
       "      <td>0.005</td>\n",
       "      <td>0.875</td>\n",
       "      <td>0.120</td>\n",
       "    </tr>\n",
       "    <tr>\n",
       "      <th>4</th>\n",
       "      <td>4</td>\n",
       "      <td>7041966888</td>\n",
       "      <td>birmingham</td>\n",
       "      <td>785</td>\n",
       "      <td>apartment</td>\n",
       "      <td>1047</td>\n",
       "      <td>2</td>\n",
       "      <td>1.0</td>\n",
       "      <td>1</td>\n",
       "      <td>1</td>\n",
       "      <td>...</td>\n",
       "      <td>laundry on site</td>\n",
       "      <td>street parking</td>\n",
       "      <td>33.4226</td>\n",
       "      <td>-86.7065</td>\n",
       "      <td>al</td>\n",
       "      <td>medium</td>\n",
       "      <td>5</td>\n",
       "      <td>0.005</td>\n",
       "      <td>0.888</td>\n",
       "      <td>0.107</td>\n",
       "    </tr>\n",
       "  </tbody>\n",
       "</table>\n",
       "<p>5 rows × 24 columns</p>\n",
       "</div>"
      ],
      "text/plain": [
       "   index          id      region  price       type  sqfeet  beds  baths  \\\n",
       "0      0  7039061606  birmingham   1195  apartment    1908     3    2.0   \n",
       "1      1  7041970863  birmingham   1120  apartment    1319     3    2.0   \n",
       "2      2  7041966914  birmingham    825  apartment    1133     1    1.5   \n",
       "3      3  7041966936  birmingham    800  apartment     927     1    1.0   \n",
       "4      4  7041966888  birmingham    785  apartment    1047     2    1.0   \n",
       "\n",
       "   cats_allowed  dogs_allowed  ...  laundry_options     parking_options  \\\n",
       "0             1             1  ...  laundry on site      street parking   \n",
       "1             1             1  ...  laundry on site  off-street parking   \n",
       "2             1             1  ...  laundry on site      street parking   \n",
       "3             1             1  ...  laundry on site      street parking   \n",
       "4             1             1  ...  laundry on site      street parking   \n",
       "\n",
       "       lat     long state sqfeet_range  lat_long_cluster  \\\n",
       "0  33.4226 -86.7065    al        large                 5   \n",
       "1  33.3755 -86.8045    al       medium                 5   \n",
       "2  33.4226 -86.7065    al       medium                 5   \n",
       "3  33.4226 -86.7065    al        small                 5   \n",
       "4  33.4226 -86.7065    al       medium                 5   \n",
       "\n",
       "   description_negative description_neutral description_positive  \n",
       "0                 0.005               0.875                0.120  \n",
       "1                 0.000               0.771                0.229  \n",
       "2                 0.005               0.876                0.119  \n",
       "3                 0.005               0.875                0.120  \n",
       "4                 0.005               0.888                0.107  \n",
       "\n",
       "[5 rows x 24 columns]"
      ]
     },
     "execution_count": 39,
     "metadata": {},
     "output_type": "execute_result"
    }
   ],
   "source": [
    "# add data to table\n",
    "\n",
    "clean_df = pd.concat([clean_df, desc_df], axis=1)\n",
    "clean_df = clean_df.drop([\"description\"], axis=1)\n",
    "clean_df.head()"
   ]
  },
  {
   "cell_type": "code",
   "execution_count": 40,
   "metadata": {},
   "outputs": [
    {
     "data": {
      "text/plain": [
       "index                      0\n",
       "id                         0\n",
       "region                     0\n",
       "price                      0\n",
       "type                       0\n",
       "sqfeet                     0\n",
       "beds                       0\n",
       "baths                      0\n",
       "cats_allowed               0\n",
       "dogs_allowed               0\n",
       "smoking_allowed            0\n",
       "wheelchair_access          0\n",
       "electric_vehicle_charge    0\n",
       "comes_furnished            0\n",
       "laundry_options            0\n",
       "parking_options            0\n",
       "lat                        0\n",
       "long                       0\n",
       "state                      0\n",
       "sqfeet_range               0\n",
       "lat_long_cluster           0\n",
       "description_negative       0\n",
       "description_neutral        0\n",
       "description_positive       0\n",
       "dtype: int64"
      ]
     },
     "execution_count": 40,
     "metadata": {},
     "output_type": "execute_result"
    }
   ],
   "source": [
    "clean_df.isna().sum()"
   ]
  },
  {
   "cell_type": "code",
   "execution_count": null,
   "metadata": {},
   "outputs": [],
   "source": []
  },
  {
   "cell_type": "code",
   "execution_count": null,
   "metadata": {},
   "outputs": [],
   "source": []
  },
  {
   "cell_type": "code",
   "execution_count": 41,
   "metadata": {},
   "outputs": [
    {
     "ename": "SyntaxError",
     "evalue": "invalid syntax (<ipython-input-41-5560265ccf19>, line 1)",
     "output_type": "error",
     "traceback": [
      "\u001b[1;36m  File \u001b[1;32m\"<ipython-input-41-5560265ccf19>\"\u001b[1;36m, line \u001b[1;32m1\u001b[0m\n\u001b[1;33m    kernel stop here\u001b[0m\n\u001b[1;37m              ^\u001b[0m\n\u001b[1;31mSyntaxError\u001b[0m\u001b[1;31m:\u001b[0m invalid syntax\n"
     ]
    }
   ],
   "source": [
    "kernel stop here"
   ]
  },
  {
   "cell_type": "code",
   "execution_count": null,
   "metadata": {},
   "outputs": [],
   "source": []
  },
  {
   "cell_type": "markdown",
   "metadata": {},
   "source": [
    "## 2) Hypothesis Testing"
   ]
  },
  {
   "cell_type": "code",
   "execution_count": null,
   "metadata": {},
   "outputs": [],
   "source": [
    "def hypothesis_testing(feature, target):\n",
    "    g = pd.crosstab(feature, target, margins=True)\n",
    "    chi2_result = chi2_contingency(g)\n",
    "    return chi2_result[1]\n",
    "\n",
    "\n",
    "\n",
    "\n",
    "df_cols = clean_df.columns\n",
    "hypothests_result = {}\n",
    "drop_list = []\n",
    "\n",
    "for i in tqdm(range(len(df_cols)), position=0, leave=True):\n",
    "    p = hypothesis_testing(clean_df[df_cols[i]], clean_df['price'])\n",
    "    \n",
    "    if p < 0.05:\n",
    "        status = 'reject'\n",
    "        feature = True\n",
    "    else:\n",
    "        status = 'accept'\n",
    "        feature = False\n",
    "        drop_list.append(df_cols[i])\n",
    "    \n",
    "    hypothests_result[df_cols[i]] = [p, status, feature]\n",
    "\n",
    "print(hypothests_result, end=\"\\n\\n\")\n",
    "print(drop_list)\n",
    "\n",
    "\n",
    "\n",
    "null_hypothesis_result = pd.DataFrame(hypothests_result, index=['p-value', 'null_hypothesis', 'feature']).T\n",
    "null_hypothesis_result\n",
    "\n",
    "\n",
    "raw_df.drop(drop_list, axis=1, inplace=True)\n",
    "\n",
    "\n",
    "\n",
    "raw_df.corr()\n",
    "f, ax = plt.subplots(figsize=(12, 10))\n",
    "sns.heatmap(raw_df.corr(), annot=True, linewidths=0.5, square=True, vmax=0.3, center=0, cmap=sns.cubehelix_palette())\n",
    "# plt.savefig('heat.png')"
   ]
  },
  {
   "cell_type": "code",
   "execution_count": null,
   "metadata": {},
   "outputs": [],
   "source": [
    "df.to_csv('clean_df.csv', index = False)\n",
    "df.head()"
   ]
  },
  {
   "cell_type": "markdown",
   "metadata": {},
   "source": [
    "## 3) Model Building"
   ]
  },
  {
   "cell_type": "code",
   "execution_count": null,
   "metadata": {},
   "outputs": [],
   "source": [
    "df = pd.read_csv(\"clean_df.csv\")\n",
    "df.head()"
   ]
  },
  {
   "cell_type": "code",
   "execution_count": null,
   "metadata": {},
   "outputs": [],
   "source": [
    "df.dropna(inplace=True)\n",
    "df.shape"
   ]
  },
  {
   "cell_type": "code",
   "execution_count": null,
   "metadata": {},
   "outputs": [],
   "source": [
    "df.isna().sum()"
   ]
  },
  {
   "cell_type": "code",
   "execution_count": null,
   "metadata": {},
   "outputs": [],
   "source": [
    "df_X = df.drop([\"id\", \"url\", \"region\", \"region_url\",\"description\", \"image_url\", \"state\", \"price\"], axis=1)\n",
    "df_y = df.loc[:, \"price\"]\n",
    "\n",
    "X_train, X_test, y_train, y_test = train_test_split(df_X, df_y, test_size=0.2, random_state=42)\n",
    "X_train.head()"
   ]
  },
  {
   "cell_type": "code",
   "execution_count": null,
   "metadata": {},
   "outputs": [],
   "source": [
    "X_train = X_train.reset_index(drop=True)\n",
    "y_train = y_train.reset_index(drop=True)\n",
    "\n",
    "X_test = X_test.reset_index(drop=True)\n",
    "y_test = y_test.reset_index(drop=True)"
   ]
  },
  {
   "cell_type": "code",
   "execution_count": null,
   "metadata": {},
   "outputs": [],
   "source": [
    "X_train.head()"
   ]
  },
  {
   "cell_type": "code",
   "execution_count": null,
   "metadata": {},
   "outputs": [],
   "source": [
    "y_train = pd.DataFrame(y_train)\n",
    "y_test = pd.DataFrame(y_test)"
   ]
  },
  {
   "cell_type": "code",
   "execution_count": null,
   "metadata": {},
   "outputs": [],
   "source": [
    "\n",
    "y_train.head()"
   ]
  },
  {
   "cell_type": "code",
   "execution_count": null,
   "metadata": {},
   "outputs": [],
   "source": [
    "# scalerX = StandardScaler().fit(X_train)\n",
    "# X_train = scalerX.transform(X_train)\n",
    "# X_test = scalerX.transform(X_test)\n",
    "\n",
    "# scalery = StandardScaler().fit(y_train)\n",
    "# y_train = scalery.transform(y_train)\n",
    "# y_test = scalery.transform(y_test)\n",
    "\n",
    "\n",
    "# from sklearn.preprocessing import MinMaxScaler\n",
    "\n",
    "# scalerX = MinMaxScaler().fit(X_train)\n",
    "# X_train = scalerX.transform(X_train)\n",
    "# X_test = scalerX.transform(X_test)\n",
    "\n",
    "# scalery = MinMaxScaler().fit(y_train)\n",
    "# y_train = scalery.transform(y_train)\n",
    "# y_test = scalery.transform(y_test)\n"
   ]
  },
  {
   "cell_type": "code",
   "execution_count": null,
   "metadata": {},
   "outputs": [],
   "source": [
    "y_train"
   ]
  },
  {
   "cell_type": "code",
   "execution_count": null,
   "metadata": {},
   "outputs": [],
   "source": [
    "# X_train = np.reshape(X_train, (X_train.shape[0], X_train.shape[1], 1))\n",
    "\n",
    "# regressor = Sequential()\n",
    "\n",
    "# # Adding the first LSTM layer and some Dropout regularisation\n",
    "# regressor.add(LSTM(units = 50, return_sequences = True, input_shape = (X_train.shape[1], 1)))\n",
    "# regressor.add(Dropout(0.2))\n",
    "# regressor.add(LSTM(units = 50, return_sequences = True))\n",
    "# regressor.add(Dropout(0.2))\n",
    "# regressor.add(LSTM(units = 50, return_sequences = True))\n",
    "# regressor.add(Dropout(0.2))\n",
    "# regressor.add(LSTM(units = 50))\n",
    "# regressor.add(Dropout(0.2))\n",
    "\n",
    "# regressor.add(Dense(units = 1))\n",
    "\n",
    "# regressor.compile(optimizer = 'adam', loss = 'mean_squared_error')\n",
    "# regressor.fit(X_train, y_train, epochs = 1, batch_size = 1000)"
   ]
  },
  {
   "cell_type": "code",
   "execution_count": null,
   "metadata": {},
   "outputs": [],
   "source": [
    "from sklearn import metrics as skmetrics\n",
    "\n",
    "def calculate_regression_metrics(y_test, predictions):\n",
    "    mean_squared_error = skmetrics.mean_squared_error(y_test, predictions)\n",
    "    mean_absolute_error = skmetrics.mean_absolute_error(y_test, predictions)\n",
    "    r2_error = skmetrics.r2_score(y_test, predictions)\n",
    "\n",
    "    result = {'mean_squared_error': mean_squared_error, 'mean_absolute_error': mean_absolute_error, 'r2_score': r2_error}\n",
    "    return result "
   ]
  },
  {
   "cell_type": "code",
   "execution_count": null,
   "metadata": {},
   "outputs": [],
   "source": [
    "from sklearn.ensemble import RandomForestRegressor\n",
    "from sklearn.metrics import mean_squared_error\n",
    "\n",
    "model = RandomForestRegressor()\n",
    "model = model.fit(X_train, y_train)\n",
    "pred = model.predict(X_test)\n",
    "pred = pred.reshape(-1, 1)\n",
    "\n",
    "# pred = scalery.inverse_transform(pred)\n",
    "# y_test = scalery.inverse_transform(y_test)\n",
    "\n",
    "print(pred)\n",
    "print(\"//////////////////////////////////////\")\n",
    "print(y_test)\n",
    "print(\"//////////////////////////////////////\")\n",
    "\n",
    "\n",
    "\n",
    "calculate_regression_metrics(y_test, pred)\n",
    "# pred = scalery.inverse_transform(pred)\n",
    "# print(pred)"
   ]
  },
  {
   "cell_type": "code",
   "execution_count": null,
   "metadata": {},
   "outputs": [],
   "source": [
    "fig, ax = plt.subplots(1, 1, figsize=(21,21))\n",
    "ax.scatter(range(y_test.size), y_test)\n",
    "ax.scatter(range(y_test.size), pred)\n",
    "\n",
    "# ax.plot([y_test.min(), y_test.max()], [y_test.min(), y_test.max()], 'k--', lw=4)\n",
    "ax.set_xlabel('Measured')\n",
    "ax.set_ylabel('Predicted')\n",
    "plt.show()"
   ]
  },
  {
   "cell_type": "code",
   "execution_count": null,
   "metadata": {},
   "outputs": [],
   "source": [
    "fig, ax = plt.subplots(1, 1, figsize=(21,21))\n",
    "ax.plot(y_test)\n",
    "ax.plot(pred)"
   ]
  },
  {
   "cell_type": "code",
   "execution_count": null,
   "metadata": {},
   "outputs": [],
   "source": [
    "# xgb_model = xgb.XGBClassifier().fit(X_train, y_train)\n",
    "# print(\"Training: \"+str(xgb_model.score(X_train, y_train)))\n",
    "# print(\"Testing: \"+str(xgb_model.score(X_test, y_test)))"
   ]
  },
  {
   "cell_type": "code",
   "execution_count": null,
   "metadata": {},
   "outputs": [],
   "source": []
  }
 ],
 "metadata": {
  "kernelspec": {
   "display_name": "Python 3",
   "language": "python",
   "name": "python3"
  },
  "language_info": {
   "codemirror_mode": {
    "name": "ipython",
    "version": 3
   },
   "file_extension": ".py",
   "mimetype": "text/x-python",
   "name": "python",
   "nbconvert_exporter": "python",
   "pygments_lexer": "ipython3",
   "version": "3.7.3"
  }
 },
 "nbformat": 4,
 "nbformat_minor": 2
}
